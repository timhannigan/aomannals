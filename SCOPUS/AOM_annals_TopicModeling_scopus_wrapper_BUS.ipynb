{
 "cells": [
  {
   "cell_type": "markdown",
   "metadata": {},
   "source": [
    "### Gather Business Only articles for AOM Annals Paper using the scopus api wrapper"
   ]
  },
  {
   "cell_type": "markdown",
   "metadata": {},
   "source": [
    "Using https://scopus.readthedocs.io/en/latest/examples/ScopusAbstract.html"
   ]
  },
  {
   "cell_type": "code",
   "execution_count": 5,
   "metadata": {},
   "outputs": [],
   "source": [
    "import pandas as pd\n",
    "from scopus import ScopusAbstract\n",
    "from scopus import ScopusSearch\n",
    "import pickle\n",
    "import numpy\n",
    "import re"
   ]
  },
  {
   "cell_type": "code",
   "execution_count": 6,
   "metadata": {},
   "outputs": [],
   "source": [
    "import os\n",
    "import os.path\n",
    "from os import listdir\n",
    "from os.path import isfile, join, expanduser\n",
    "import shutil"
   ]
  },
  {
   "cell_type": "code",
   "execution_count": 7,
   "metadata": {},
   "outputs": [],
   "source": [
    "from textblob import TextBlob \n",
    "import nltk\n",
    "from nltk.stem.porter import *\n",
    "from nltk.stem import WordNetLemmatizer"
   ]
  },
  {
   "cell_type": "markdown",
   "metadata": {},
   "source": [
    "### Setup"
   ]
  },
  {
   "cell_type": "code",
   "execution_count": 8,
   "metadata": {},
   "outputs": [],
   "source": [
    "std_date_format = '%Y-%m-%d'    \n",
    "home_path = expanduser(\"~\")"
   ]
  },
  {
   "cell_type": "markdown",
   "metadata": {},
   "source": [
    "### Main Code"
   ]
  },
  {
   "cell_type": "code",
   "execution_count": null,
   "metadata": {},
   "outputs": [],
   "source": [
    "fetchFlag = True # fetchFlag determines whether I hit the Scopus server"
   ]
  },
  {
   "cell_type": "markdown",
   "metadata": {},
   "source": [
    "Query is looking at abstracts and titles from \"Social Sciences\" and \"Business, Management and Accounting\" after 2007 for \"topic modeling\"\n",
    "\n",
    "TITLE-ABS-KEY(\"topic modeling\") AND PUBYEAR > 2007 AND LIMIT-TO ( SUBJAREA,\"BUSI\" ) \n",
    "\n",
    "Using the scopus search webUI, there should be 213 document results (business only); note, the ScopusSearch API does not include LIMIT-TO, so for subjects, need to use SUBJAREA(\"BUSI\")  https://dev.elsevier.com/tips/ScopusSearchTips.htm"
   ]
  },
  {
   "cell_type": "code",
   "execution_count": 268,
   "metadata": {},
   "outputs": [],
   "source": [
    "query = ScopusSearch('TITLE-ABS-KEY(\"topic modeling\") AND PUBYEAR > 2007 AND (SUBJAREA(\"BUSI\")) ', refresh=True)"
   ]
  },
  {
   "cell_type": "code",
   "execution_count": 269,
   "metadata": {},
   "outputs": [
    {
     "data": {
      "text/plain": [
       "213"
      ]
     },
     "execution_count": 269,
     "metadata": {},
     "output_type": "execute_result"
    }
   ],
   "source": [
    "len(query.EIDS)"
   ]
  },
  {
   "cell_type": "code",
   "execution_count": 270,
   "metadata": {},
   "outputs": [
    {
     "name": "stdout",
     "output_type": "stream",
     "text": [
      "0\n",
      "5\n",
      "10\n",
      "15\n",
      "20\n",
      "25\n",
      "30\n",
      "35\n",
      "40\n",
      "45\n",
      "50\n",
      "55\n",
      "60\n",
      "65\n",
      "70\n",
      "75\n",
      "80\n",
      "85\n",
      "90\n",
      "95\n",
      "100\n",
      "105\n",
      "110\n",
      "115\n",
      "120\n",
      "125\n",
      "130\n",
      "135\n",
      "140\n",
      "145\n",
      "150\n",
      "155\n",
      "160\n",
      "165\n",
      "170\n",
      "175\n",
      "180\n",
      "185\n",
      "190\n",
      "195\n",
      "200\n",
      "205\n",
      "210\n"
     ]
    }
   ],
   "source": [
    "results = []\n",
    "i=0\n",
    "for eid in query.EIDS:\n",
    "    if fetchFlag: ab = ScopusAbstract(eid, view='FULL')\n",
    "    if i % 5 == 0: print (i) # print processing progress, every 5\n",
    "    i+=1\n",
    "    if fetchFlag: results.append(ab)\n",
    "    #ab.references # list of eIDS, useful to build citation networks"
   ]
  },
  {
   "cell_type": "code",
   "execution_count": 271,
   "metadata": {},
   "outputs": [
    {
     "data": {
      "text/plain": [
       "213"
      ]
     },
     "execution_count": 271,
     "metadata": {},
     "output_type": "execute_result"
    }
   ],
   "source": [
    "len(results)"
   ]
  },
  {
   "cell_type": "code",
   "execution_count": 272,
   "metadata": {},
   "outputs": [],
   "source": [
    "with open('all_abstracts_forOct2_query_BUS_only.pickle', 'wb') as handle:\n",
    "    pickle.dump(results, handle, protocol=pickle.HIGHEST_PROTOCOL)"
   ]
  },
  {
   "cell_type": "markdown",
   "metadata": {},
   "source": [
    "### Load pickle (note: likely need to be connected to University VPN to use this)"
   ]
  },
  {
   "cell_type": "code",
   "execution_count": 9,
   "metadata": {},
   "outputs": [],
   "source": [
    "with open('all_abstracts_forOct2_query_BUS_only.pickle', 'rb') as handle:\n",
    "    results = pickle.load(handle)"
   ]
  },
  {
   "cell_type": "code",
   "execution_count": 274,
   "metadata": {},
   "outputs": [
    {
     "data": {
      "text/plain": [
       "<scopus.scopus_api.ScopusAbstract at 0x123a9d6a0>"
      ]
     },
     "execution_count": 274,
     "metadata": {},
     "output_type": "execute_result"
    }
   ],
   "source": [
    "results[0]"
   ]
  },
  {
   "cell_type": "markdown",
   "metadata": {},
   "source": [
    "##### To find list of all publication names, use this code\n",
    "for ab in results:\n",
    "    print(ab.publicationName)"
   ]
  },
  {
   "cell_type": "markdown",
   "metadata": {},
   "source": [
    "Using list, can filter for specific journals"
   ]
  },
  {
   "cell_type": "code",
   "execution_count": 275,
   "metadata": {},
   "outputs": [],
   "source": [
    "journalsToUse = [] # use the lower case name of journals to filter"
   ]
  },
  {
   "cell_type": "code",
   "execution_count": 276,
   "metadata": {},
   "outputs": [],
   "source": [
    "results_filtered = []\n",
    "for ab in results:\n",
    "    for journalName in journalsToUse:\n",
    "        if ab.publicationName.lower() == journalName.lower():\n",
    "            results_filtered.append(ab)"
   ]
  },
  {
   "cell_type": "markdown",
   "metadata": {},
   "source": [
    "Because scopus.scopus_api.ScopusAbstract requires University VPN, need to save dataframe on iMac"
   ]
  },
  {
   "cell_type": "code",
   "execution_count": 277,
   "metadata": {},
   "outputs": [],
   "source": [
    "results_filtered = results # no filtering at this time\n",
    "ab_for_df = []\n",
    "for ab in results_filtered:\n",
    "    ab_dict = {\"publicationName\": ab.publicationName, \"date\": ab.coverDate, \"title\": ab.title, \"abstract\":ab.abstract, \"id\":ab.eid}\n",
    "    # authors?\n",
    "    ab_for_df.append(ab_dict)   "
   ]
  },
  {
   "cell_type": "code",
   "execution_count": 278,
   "metadata": {},
   "outputs": [],
   "source": [
    "df_ab = pd.DataFrame(ab_for_df)\n",
    "df_ab.to_csv(\"df_abstracts_BUS_only.csv\")"
   ]
  },
  {
   "cell_type": "markdown",
   "metadata": {},
   "source": [
    "_Example:_\n",
    "\n",
    "ab.publicationName\n",
    "'ACS Catalysis'\n",
    "ab.aggregationType\n",
    "'Journal'\n",
    "ab.coverDate\n",
    "'2015-06-05'\n",
    "ab.volume\n",
    "'5'\n",
    "ab.issueIdentifier\n",
    "'6'\n",
    "ab.pageRange\n",
    "'3894-3899'\n",
    "ab.doi\n",
    "'10.1021/acscatal.5b00538'"
   ]
  },
  {
   "cell_type": "code",
   "execution_count": 279,
   "metadata": {},
   "outputs": [],
   "source": [
    "#with open('all_abstracts_ETP_JBV_post2008.pickle', 'wb') as handle:\n",
    "#    pickle.dump(results_filtered, handle, protocol=pickle.HIGHEST_PROTOCOL)"
   ]
  },
  {
   "cell_type": "markdown",
   "metadata": {},
   "source": [
    "### Load csv for all paper abstracts"
   ]
  },
  {
   "cell_type": "code",
   "execution_count": 10,
   "metadata": {
    "scrolled": true
   },
   "outputs": [],
   "source": [
    "df_ab = pd.read_csv(\"df_abstracts_BUS_only.csv\")"
   ]
  },
  {
   "cell_type": "code",
   "execution_count": 11,
   "metadata": {},
   "outputs": [
    {
     "data": {
      "text/plain": [
       "213"
      ]
     },
     "execution_count": 11,
     "metadata": {},
     "output_type": "execute_result"
    }
   ],
   "source": [
    "len(df_ab)"
   ]
  },
  {
   "cell_type": "markdown",
   "metadata": {},
   "source": [
    "## Should I include titles as an addition to each Abstract?"
   ]
  },
  {
   "cell_type": "markdown",
   "metadata": {},
   "source": [
    "##### capture journal names, put into a counter"
   ]
  },
  {
   "cell_type": "code",
   "execution_count": 282,
   "metadata": {},
   "outputs": [],
   "source": [
    "import collections\n",
    "from collections import defaultdict\n",
    "journal_count = defaultdict(int)"
   ]
  },
  {
   "cell_type": "code",
   "execution_count": 283,
   "metadata": {},
   "outputs": [],
   "source": [
    "for i, row in df_ab.iterrows():    \n",
    "    journal_count[row['publicationName']]+=1"
   ]
  },
  {
   "cell_type": "code",
   "execution_count": 284,
   "metadata": {},
   "outputs": [],
   "source": [
    "df_journal_count = pd.DataFrame.from_dict(journal_count, orient=\"index\")"
   ]
  },
  {
   "cell_type": "code",
   "execution_count": 285,
   "metadata": {},
   "outputs": [],
   "source": [
    "df_journal_count = df_journal_count.sort_values(0, ascending=False)"
   ]
  },
  {
   "cell_type": "code",
   "execution_count": 286,
   "metadata": {},
   "outputs": [],
   "source": [
    "df_journal_count.columns=[\"articleCounts\"]"
   ]
  },
  {
   "cell_type": "code",
   "execution_count": 287,
   "metadata": {},
   "outputs": [
    {
     "data": {
      "text/html": [
       "<div>\n",
       "<style scoped>\n",
       "    .dataframe tbody tr th:only-of-type {\n",
       "        vertical-align: middle;\n",
       "    }\n",
       "\n",
       "    .dataframe tbody tr th {\n",
       "        vertical-align: top;\n",
       "    }\n",
       "\n",
       "    .dataframe thead th {\n",
       "        text-align: right;\n",
       "    }\n",
       "</style>\n",
       "<table border=\"1\" class=\"dataframe\">\n",
       "  <thead>\n",
       "    <tr style=\"text-align: right;\">\n",
       "      <th></th>\n",
       "      <th>articleCounts</th>\n",
       "    </tr>\n",
       "  </thead>\n",
       "  <tbody>\n",
       "    <tr>\n",
       "      <th>International Conference on Information and Knowledge Management, Proceedings</th>\n",
       "      <td>61</td>\n",
       "    </tr>\n",
       "    <tr>\n",
       "      <th>Knowledge-Based Systems</th>\n",
       "      <td>31</td>\n",
       "    </tr>\n",
       "  </tbody>\n",
       "</table>\n",
       "</div>"
      ],
      "text/plain": [
       "                                                    articleCounts\n",
       "International Conference on Information and Kno...             61\n",
       "Knowledge-Based Systems                                        31"
      ]
     },
     "execution_count": 287,
     "metadata": {},
     "output_type": "execute_result"
    }
   ],
   "source": [
    "df_journal_count.head(2)"
   ]
  },
  {
   "cell_type": "code",
   "execution_count": 288,
   "metadata": {},
   "outputs": [],
   "source": [
    "df_journal_count.to_csv(\"df_journal_count_BUS_only.csv\")"
   ]
  },
  {
   "cell_type": "markdown",
   "metadata": {},
   "source": [
    "### Preprocessing abstracts"
   ]
  },
  {
   "cell_type": "code",
   "execution_count": 12,
   "metadata": {},
   "outputs": [],
   "source": [
    "# some abstracts are NaN; filter these out\n",
    "df_ab['abstract'] = df_ab['abstract'].fillna(\"-\")"
   ]
  },
  {
   "cell_type": "markdown",
   "metadata": {},
   "source": [
    "Need to get rid of Copyright tags in footers such as: _© 2012 Elsevier B.V. All rights reserved._\n",
    "Strategy: look for regex that matchines between © 20 and .\n",
    "\n",
    "Examples: \"© 2014 Copyright Taylor and Francis Group, LLC.\"; \"Copyright is held by the owner/author(s).\", \"Copyright 2013 ACM.\"\n",
    "-therefore, not all footers have copyright symbol, but they do have the word capitalized\n"
   ]
  },
  {
   "cell_type": "code",
   "execution_count": 13,
   "metadata": {
    "scrolled": false
   },
   "outputs": [],
   "source": [
    "symbol_pattern = \"©(.*)\"\n",
    "word_pattern = \"Copyright(.*)\"\n",
    "df_ab[\"abstract_cleaned\"] = \"\" # prep column\n",
    "\n",
    "for i, row in df_ab.iterrows():    \n",
    "    if len(row[\"abstract\"])>1:\n",
    "        if \"Copyright\" in row[\"abstract\"]:         \n",
    "            abstract_cleaned = re.sub(word_pattern, \"\", row[\"abstract\"])\n",
    "        elif \"©\" in row[\"abstract\"]:\n",
    "            abstract_cleaned = re.sub(symbol_pattern, \"\", row[\"abstract\"])\n",
    "        else:\n",
    "            abstract_cleaned = row[\"abstract\"]\n",
    "    df_ab.loc[i,\"abstract_cleaned\"]= abstract_cleaned.replace(\"All rights reserved\", \"\")"
   ]
  },
  {
   "cell_type": "code",
   "execution_count": 14,
   "metadata": {},
   "outputs": [],
   "source": [
    "df_ab = df_ab.drop(columns=[\"Unnamed: 0\"])"
   ]
  },
  {
   "cell_type": "code",
   "execution_count": 15,
   "metadata": {},
   "outputs": [
    {
     "data": {
      "text/html": [
       "<div>\n",
       "<style scoped>\n",
       "    .dataframe tbody tr th:only-of-type {\n",
       "        vertical-align: middle;\n",
       "    }\n",
       "\n",
       "    .dataframe tbody tr th {\n",
       "        vertical-align: top;\n",
       "    }\n",
       "\n",
       "    .dataframe thead th {\n",
       "        text-align: right;\n",
       "    }\n",
       "</style>\n",
       "<table border=\"1\" class=\"dataframe\">\n",
       "  <thead>\n",
       "    <tr style=\"text-align: right;\">\n",
       "      <th></th>\n",
       "      <th>abstract</th>\n",
       "      <th>date</th>\n",
       "      <th>id</th>\n",
       "      <th>publicationName</th>\n",
       "      <th>title</th>\n",
       "      <th>abstract_cleaned</th>\n",
       "    </tr>\n",
       "  </thead>\n",
       "  <tbody>\n",
       "    <tr>\n",
       "      <th>0</th>\n",
       "      <td>Well-being as an intangible, philosophical, an...</td>\n",
       "      <td>2018-12-01</td>\n",
       "      <td>2-s2.0-85048543703</td>\n",
       "      <td>Tourism Management</td>\n",
       "      <td>Hedonic and eudaimonic well-being: A psycholin...</td>\n",
       "      <td>Well-being as an intangible, philosophical, an...</td>\n",
       "    </tr>\n",
       "    <tr>\n",
       "      <th>1</th>\n",
       "      <td>The rapid growth of the Chinese economy has re...</td>\n",
       "      <td>2018-11-20</td>\n",
       "      <td>2-s2.0-85053080182</td>\n",
       "      <td>Journal of Cleaner Production</td>\n",
       "      <td>Heterogeneity evaluation of China's provincial...</td>\n",
       "      <td>The rapid growth of the Chinese economy has re...</td>\n",
       "    </tr>\n",
       "    <tr>\n",
       "      <th>2</th>\n",
       "      <td>The aim of this study is to introduce a decisi...</td>\n",
       "      <td>2018-11-10</td>\n",
       "      <td>2-s2.0-85007493460</td>\n",
       "      <td>Total Quality Management and Business Excellence</td>\n",
       "      <td>Topic modelling-based decision framework for a...</td>\n",
       "      <td>The aim of this study is to introduce a decisi...</td>\n",
       "    </tr>\n",
       "    <tr>\n",
       "      <th>3</th>\n",
       "      <td>The new reality of networked publics on social...</td>\n",
       "      <td>2018-11-01</td>\n",
       "      <td>2-s2.0-85050884991</td>\n",
       "      <td>Public Relations Review</td>\n",
       "      <td>Examining multiplicity and dynamics of publics...</td>\n",
       "      <td>The new reality of networked publics on social...</td>\n",
       "    </tr>\n",
       "    <tr>\n",
       "      <th>4</th>\n",
       "      <td>The study of technology and innovation managem...</td>\n",
       "      <td>2018-10-01</td>\n",
       "      <td>2-s2.0-85012236978</td>\n",
       "      <td>Journal of Technology Transfer</td>\n",
       "      <td>Identifying core topics in technology and inno...</td>\n",
       "      <td>The study of technology and innovation managem...</td>\n",
       "    </tr>\n",
       "  </tbody>\n",
       "</table>\n",
       "</div>"
      ],
      "text/plain": [
       "                                            abstract        date  \\\n",
       "0  Well-being as an intangible, philosophical, an...  2018-12-01   \n",
       "1  The rapid growth of the Chinese economy has re...  2018-11-20   \n",
       "2  The aim of this study is to introduce a decisi...  2018-11-10   \n",
       "3  The new reality of networked publics on social...  2018-11-01   \n",
       "4  The study of technology and innovation managem...  2018-10-01   \n",
       "\n",
       "                   id                                   publicationName  \\\n",
       "0  2-s2.0-85048543703                                Tourism Management   \n",
       "1  2-s2.0-85053080182                     Journal of Cleaner Production   \n",
       "2  2-s2.0-85007493460  Total Quality Management and Business Excellence   \n",
       "3  2-s2.0-85050884991                           Public Relations Review   \n",
       "4  2-s2.0-85012236978                    Journal of Technology Transfer   \n",
       "\n",
       "                                               title  \\\n",
       "0  Hedonic and eudaimonic well-being: A psycholin...   \n",
       "1  Heterogeneity evaluation of China's provincial...   \n",
       "2  Topic modelling-based decision framework for a...   \n",
       "3  Examining multiplicity and dynamics of publics...   \n",
       "4  Identifying core topics in technology and inno...   \n",
       "\n",
       "                                    abstract_cleaned  \n",
       "0  Well-being as an intangible, philosophical, an...  \n",
       "1  The rapid growth of the Chinese economy has re...  \n",
       "2  The aim of this study is to introduce a decisi...  \n",
       "3  The new reality of networked publics on social...  \n",
       "4  The study of technology and innovation managem...  "
      ]
     },
     "execution_count": 15,
     "metadata": {},
     "output_type": "execute_result"
    }
   ],
   "source": [
    "df_ab.head(5)"
   ]
  },
  {
   "cell_type": "markdown",
   "metadata": {},
   "source": [
    "How many rows have NaN abstracts?"
   ]
  },
  {
   "cell_type": "code",
   "execution_count": 16,
   "metadata": {},
   "outputs": [
    {
     "data": {
      "text/plain": [
       "abstract            213\n",
       "date                213\n",
       "id                  213\n",
       "publicationName     213\n",
       "title               213\n",
       "abstract_cleaned    213\n",
       "dtype: int64"
      ]
     },
     "execution_count": 16,
     "metadata": {},
     "output_type": "execute_result"
    }
   ],
   "source": [
    "df_ab.count()"
   ]
  },
  {
   "cell_type": "code",
   "execution_count": 17,
   "metadata": {},
   "outputs": [
    {
     "name": "stdout",
     "output_type": "stream",
     "text": [
      "[27, 126, 194]\n"
     ]
    }
   ],
   "source": [
    "rowsWithNoAbstracts = []\n",
    "for i, row in df_ab.iterrows():    \n",
    "    if len(row[\"abstract\"])<2: rowsWithNoAbstracts.append(i)\n",
    "print(rowsWithNoAbstracts)"
   ]
  },
  {
   "cell_type": "markdown",
   "metadata": {},
   "source": [
    "Therefore need to remove these"
   ]
  },
  {
   "cell_type": "code",
   "execution_count": 18,
   "metadata": {},
   "outputs": [],
   "source": [
    "df_ab = df_ab.drop(rowsWithNoAbstracts)"
   ]
  },
  {
   "cell_type": "code",
   "execution_count": 19,
   "metadata": {},
   "outputs": [
    {
     "data": {
      "text/plain": [
       "abstract            210\n",
       "date                210\n",
       "id                  210\n",
       "publicationName     210\n",
       "title               210\n",
       "abstract_cleaned    210\n",
       "dtype: int64"
      ]
     },
     "execution_count": 19,
     "metadata": {},
     "output_type": "execute_result"
    }
   ],
   "source": [
    "df_ab.count()"
   ]
  },
  {
   "cell_type": "code",
   "execution_count": 20,
   "metadata": {},
   "outputs": [
    {
     "data": {
      "text/plain": [
       "77"
      ]
     },
     "execution_count": 20,
     "metadata": {},
     "output_type": "execute_result"
    }
   ],
   "source": [
    "df_ab['publicationName'].nunique()"
   ]
  },
  {
   "cell_type": "markdown",
   "metadata": {},
   "source": [
    "Now, save this file as csv (will be used in processing LDA output)"
   ]
  },
  {
   "cell_type": "code",
   "execution_count": 21,
   "metadata": {},
   "outputs": [],
   "source": [
    "df_ab.to_csv(\"article_list_cleaned_BUS_only.csv\")"
   ]
  },
  {
   "cell_type": "markdown",
   "metadata": {},
   "source": [
    "Now ready to pre-process abstract column"
   ]
  },
  {
   "cell_type": "code",
   "execution_count": 299,
   "metadata": {},
   "outputs": [],
   "source": [
    "abstracts_all = df_ab['abstract_cleaned']"
   ]
  },
  {
   "cell_type": "markdown",
   "metadata": {},
   "source": [
    "### now, pre-process the text for LDA topic modeling"
   ]
  },
  {
   "cell_type": "code",
   "execution_count": 300,
   "metadata": {},
   "outputs": [
    {
     "name": "stdout",
     "output_type": "stream",
     "text": [
      "[nltk_data] Downloading package wordnet to /Users/Tim/nltk_data...\n",
      "[nltk_data]   Package wordnet is already up-to-date!\n"
     ]
    }
   ],
   "source": [
    "import gensim\n",
    "from gensim.utils import simple_preprocess\n",
    "from gensim.models.coherencemodel import CoherenceModel\n",
    "from gensim.models.ldamodel import LdaModel\n",
    "from gensim.models.hdpmodel import HdpModel\n",
    "from gensim.models.wrappers import LdaVowpalWabbit, LdaMallet\n",
    "from gensim.corpora.dictionary import Dictionary\n",
    "from gensim.parsing.preprocessing import STOPWORDS\n",
    "from nltk.stem import WordNetLemmatizer, SnowballStemmer\n",
    "from nltk.stem.porter import *\n",
    "import numpy as np\n",
    "np.random.seed(2018)\n",
    "import nltk\n",
    "nltk.download('wordnet')\n",
    "from nltk.tokenize import sent_tokenize\n",
    "from nltk.tokenize import word_tokenize"
   ]
  },
  {
   "cell_type": "markdown",
   "metadata": {},
   "source": [
    "##### Preprocessing methods"
   ]
  },
  {
   "cell_type": "code",
   "execution_count": 301,
   "metadata": {},
   "outputs": [],
   "source": [
    "en_stopwords_path = home_path+'/nltk_data/corpora/stopwords/english'\n",
    "en_stopwords = [line.rstrip('\\n') for line in open(en_stopwords_path)]"
   ]
  },
  {
   "cell_type": "code",
   "execution_count": 302,
   "metadata": {},
   "outputs": [],
   "source": [
    "def removeStopWordsAndSingularizePhrase(phrase): # remove personal pronouns , articles, prepositions; this helps clean phrases for comparison\n",
    "    #phrase = unidecode(phrase) # for simplicity, only working in ASCII, need to look for a pythonic way of doing this that is not dependent on a package    \n",
    "    #phrase = phrase.replace(\"-\", \" \") # replace dashes with periods\n",
    "    phrase = phrase.replace(\"'s\", \"\") \n",
    "    phrase = phrase.replace(\",\", \"\")     \n",
    "    phrase_tb = TextBlob(phrase)\n",
    "    #stemmer = PorterStemmer()\n",
    "    wordnet_lemmatizer = WordNetLemmatizer() # more here: http://textminingonline.com/dive-into-nltk-part-iv-stemming-and-lemmatization\n",
    "    phrase_clean = \"\"\n",
    "    for word in phrase_tb.words:\n",
    "        if len(word)>1: # this may be controversial\n",
    "            regex_pattern = re.compile(r'\\b%s\\b'%word, re.I)  \n",
    "            #if word not in en_stopwords+[\"the\", \"a\"]: # this will not match case insensitivity \n",
    "            wordInStopWordsFlag = False # default\n",
    "            for stopword in en_stopwords+[\"the\", \"a\"]: # this is a more robust alternative approach\n",
    "                if regex_pattern.search(stopword): # note: this is the wide matching condition, contrast this to equality matching                                                    \n",
    "                    wordInStopWordsFlag = True\n",
    "                    break\n",
    "            if wordInStopWordsFlag==False:\n",
    "                word_replacement = wordnet_lemmatizer.lemmatize(word)\n",
    "                #if word_replacement != word:                 \n",
    "                #    word_replacement = word_replacement+\"*\" # this indicates a phrase has been stemmed\n",
    "                #    #print \"word_replacement:\", word_replacement\n",
    "                phrase_clean=phrase_clean+word_replacement+\" \"  \n",
    "    return phrase_clean.strip()\n",
    "\n"
   ]
  },
  {
   "cell_type": "code",
   "execution_count": 303,
   "metadata": {},
   "outputs": [],
   "source": [
    "def lemmatize_stemming(text):\n",
    "    return WordNetLemmatizer().lemmatize(text)#, pos='v')"
   ]
  },
  {
   "cell_type": "code",
   "execution_count": 304,
   "metadata": {},
   "outputs": [],
   "source": [
    "def preprocess(text):\n",
    "    result = []\n",
    "    text_cleaned = text\n",
    "    text_cleaned = re.sub(\"All rights reserved\\.\",\"\",text_cleaned, flags=re.IGNORECASE)    \n",
    "    for sent in sent_tokenize(text_cleaned):\n",
    "        #print (sent)\n",
    "        for word in word_tokenize(sent):            \n",
    "            #print (word)\n",
    "            word_cleaned = removeStopWordsAndSingularizePhrase(word).lower()            \n",
    "            if word_cleaned not in en_stopwords and len(word_cleaned) > 3:\n",
    "                #print (word_cleaned)\n",
    "                result.append(word_cleaned)\n",
    "    #        result.append(lemmatize_stemming(token))\n",
    "    #for token in gensim.utils.simple_preprocess(text_cleaned):\n",
    "    #    if token not in gensim.parsing.preprocessing.STOPWORDS and len(token) > 3:\n",
    "    #        result.append(lemmatize_stemming(token))\n",
    "    return result"
   ]
  },
  {
   "cell_type": "markdown",
   "metadata": {},
   "source": [
    "#### Sample document"
   ]
  },
  {
   "cell_type": "code",
   "execution_count": 305,
   "metadata": {},
   "outputs": [
    {
     "data": {
      "text/plain": [
       "\"Well-being as an intangible, philosophical, and multi-faceted phenomenon is hard to measure. By taking a psycholinguistic expression of well-being, we measure how tourists' experiencing holiday destinations affects their well-being states. The well-being state includes increases or decreases in Hedonia and Eudaimonia as a result of destination experiences. We apply text topic modelling to analyse big Web 2.0 datasets. These include tourists’ self-reports of their experiences during their visit to destination countries collected from Travelblog.org weblog. The findings from a Global sample, New Zealand, and France are compared to generalise Hedonia and Eudaimonia conceptualisations across these destinations. The outputs also characterise experiences with maximum well-being and ill-being that include both Hedonia and Eudaimonia. Managerial implications include how a destination image may be managed according to desired well-being states. This also helps tourists make informed decisions about their holiday destinations.\""
      ]
     },
     "execution_count": 305,
     "metadata": {},
     "output_type": "execute_result"
    }
   ],
   "source": [
    "# sample doc\n",
    "abstracts_all[0]"
   ]
  },
  {
   "cell_type": "code",
   "execution_count": 306,
   "metadata": {
    "scrolled": true
   },
   "outputs": [
    {
     "name": "stdout",
     "output_type": "stream",
     "text": [
      "['well-being', 'intangible', 'philosophical', 'multi-faceted', 'phenomenon', 'hard', 'measure', 'taking', 'psycholinguistic', 'expression', 'well-being', 'measure', 'tourist', 'experiencing', 'holiday', 'destination', 'affect', 'well-being', 'state', 'well-being', 'state', 'includes', 'increase', 'decrease', 'hedonia', 'eudaimonia', 'result', 'destination', 'experience', 'apply', 'text', 'topic', 'modelling', 'analyse', 'datasets', 'include', 'tourist', 'self-reports', 'experience', 'visit', 'destination', 'country', 'collected', 'travelblog.org', 'weblog', 'finding', 'global', 'sample', 'zealand', 'france', 'compared', 'generalise', 'hedonia', 'eudaimonia', 'conceptualisation', 'across', 'destination', 'output', 'also', 'characterise', 'experience', 'maximum', 'well-being', 'ill-being', 'include', 'hedonia', 'eudaimonia', 'managerial', 'implication', 'include', 'destination', 'image', 'managed', 'according', 'desired', 'well-being', 'state', 'also', 'help', 'tourist', 'make', 'informed', 'decision', 'holiday', 'destination']\n"
     ]
    }
   ],
   "source": [
    "# sample doc\n",
    "print(preprocess(abstracts_all[0]))"
   ]
  },
  {
   "cell_type": "markdown",
   "metadata": {},
   "source": [
    "Now, clean all documents"
   ]
  },
  {
   "cell_type": "code",
   "execution_count": 307,
   "metadata": {},
   "outputs": [],
   "source": [
    "# all docs\n",
    "processed_docs = [preprocess(abstract) for abstract in abstracts_all]"
   ]
  },
  {
   "cell_type": "code",
   "execution_count": 308,
   "metadata": {},
   "outputs": [],
   "source": [
    "processed_docs_as_string = [' '.join(doc) for doc in processed_docs ]"
   ]
  },
  {
   "cell_type": "code",
   "execution_count": 342,
   "metadata": {},
   "outputs": [
    {
     "data": {
      "text/plain": [
       "['examine',\n",
       " 'emergence',\n",
       " 'organizational',\n",
       " 'form',\n",
       " 'charter',\n",
       " 'school',\n",
       " 'oakland',\n",
       " 'california',\n",
       " 'link',\n",
       " 'field-level',\n",
       " 'logic',\n",
       " 'organizational',\n",
       " 'founding',\n",
       " 'identity',\n",
       " 'using',\n",
       " 'topic',\n",
       " 'modeling',\n",
       " 'find',\n",
       " 'corporate',\n",
       " 'community',\n",
       " 'founding',\n",
       " 'actor',\n",
       " 'create',\n",
       " 'distinct',\n",
       " 'consistent',\n",
       " 'identity',\n",
       " 'whereas',\n",
       " 'peripheral',\n",
       " 'founder',\n",
       " 'indulge',\n",
       " 'unique',\n",
       " 'identity',\n",
       " 'construction',\n",
       " 'settlement',\n",
       " 'form',\n",
       " 'stable',\n",
       " 'ecosystem',\n",
       " 'multiple',\n",
       " 'identity',\n",
       " 'code',\n",
       " 'rather',\n",
       " 'driving',\n",
       " 'toward',\n",
       " 'single',\n",
       " 'organizational',\n",
       " 'identity',\n",
       " 'variety',\n",
       " 'identity',\n",
       " 'emerge',\n",
       " 'always',\n",
       " 'onto',\n",
       " 'field-level',\n",
       " 'logic',\n",
       " 'implication',\n",
       " 'condition',\n",
       " 'organizational',\n",
       " 'innovation',\n",
       " 'experimentation',\n",
       " 'within',\n",
       " 'form',\n",
       " 'develop']"
      ]
     },
     "execution_count": 342,
     "metadata": {},
     "output_type": "execute_result"
    }
   ],
   "source": [
    "processed_docs[99]"
   ]
  },
  {
   "cell_type": "markdown",
   "metadata": {},
   "source": [
    "#### should we pre-process phrases?"
   ]
  },
  {
   "cell_type": "markdown",
   "metadata": {},
   "source": [
    "This could be informed by trigram and bigram analysis"
   ]
  },
  {
   "cell_type": "code",
   "execution_count": 309,
   "metadata": {},
   "outputs": [],
   "source": [
    "import nltk\n",
    "from nltk.util import ngrams\n",
    "import collections\n",
    "from collections import Counter\n",
    "bigrams_counter = collections.Counter()\n",
    "trigrams_counter = collections.Counter()"
   ]
  },
  {
   "cell_type": "code",
   "execution_count": 310,
   "metadata": {},
   "outputs": [],
   "source": [
    "for abstract_processed in processed_docs:\n",
    "    bigrams = ngrams(abstract_processed,2)\n",
    "    trigrams = ngrams(abstract_processed,3)\n",
    "    bigrams_counter.update(bigrams)\n",
    "    trigrams_counter.update(trigrams)"
   ]
  },
  {
   "cell_type": "code",
   "execution_count": 311,
   "metadata": {},
   "outputs": [
    {
     "name": "stdout",
     "output_type": "stream",
     "text": [
      "Most common trigrams:\n",
      "('latent', 'dirichlet', 'allocation'):      50\n",
      "('experimental', 'result', 'show'):      15\n",
      "('natural', 'language', 'processing'):      11\n",
      "('probabilistic', 'topic', 'modeling'):      11\n",
      "('dirichlet', 'allocation', 'model'):       8\n",
      "('using', 'topic', 'modeling'):       8\n",
      "('visual', 'perceptual', 'behaviour'):       8\n",
      "('different', 'time', 'period'):       7\n",
      "('topic', 'modeling', 'approach'):       7\n",
      "('probabilistic', 'topic', 'model'):       7\n",
      "('machine', 'learning', 'approach'):       7\n",
      "('analysis', 'topic', 'modeling'):       6\n",
      "('short', 'text', 'topic'):       6\n",
      "('probabilistic', 'latent', 'semantic'):       5\n",
      "('automobile', 'insurance', 'fraud'):       5\n",
      "('social', 'medium', 'data'):       5\n",
      "('biterm', 'topic', 'model'):       5\n",
      "('dirichlet', 'allocation', 'topic'):       4\n",
      "('text', 'analysis', 'method'):       4\n",
      "('topic', 'modeling', 'technique'):       4\n",
      "('keyword-based', 'search', 'system'):       4\n",
      "('result', 'show', 'proposed'):       4\n",
      "('paper', 'propose', 'novel'):       4\n",
      "('experimental', 'result', 'reveal'):       4\n",
      "('demonstrate', 'effectiveness', 'method'):       4\n",
      "('result', 'show', 'method'):       4\n",
      "('demonstrate', 'effectiveness', 'proposed'):       4\n",
      "('insurance', 'fraud', 'detection'):       4\n",
      "('machine', 'learning', 'method'):       4\n",
      "('collapsed', 'gibbs', 'sampling'):       4\n",
      "('co-occurrence', 'matrix', 'topic'):       4\n",
      "('matrix', 'topic', 'analysis'):       4\n",
      "('document-event', 'co-occurrence', 'matrix'):       4\n",
      "('probabilistic', 'generative', 'model'):       4\n",
      "('topic', 'model', 'based'):       4\n",
      "('chronological', 'citation', 'recommendation'):       4\n",
      "('explicit', 'topic', 'model'):       4\n",
      "('allocation', 'topic', 'model'):       3\n",
      "('social', 'medium', 'public'):       3\n",
      "('capture', 'latent', 'topic'):       3\n",
      "('machine', 'learning', 'algorithm'):       3\n",
      "('large-scale', 'infrastructure', 'project'):       3\n",
      "('sentiment', 'analysis', 'topic'):       3\n",
      "('topic', 'sentiment', 'joint'):       3\n",
      "('sentiment', 'joint', 'model'):       3\n",
      "('latent', 'semantic', 'analysis'):       3\n",
      "('sentiment', 'topic', 'simultaneously'):       3\n",
      "('traditional', 'topic', 'model'):       3\n",
      "('service', 'innovation', 'service'):       3\n",
      "('innovation', 'service', 'design'):       3\n"
     ]
    }
   ],
   "source": [
    "print ('Most common trigrams:')\n",
    "for letter, count in trigrams_counter.most_common(50):\n",
    "    print ('%s: %7d' % (letter, count))"
   ]
  },
  {
   "cell_type": "code",
   "execution_count": 312,
   "metadata": {},
   "outputs": [
    {
     "name": "stdout",
     "output_type": "stream",
     "text": [
      "Most common bigrams:\n",
      "('topic', 'modeling'):     125\n",
      "('topic', 'model'):     122\n",
      "('social', 'medium'):      64\n",
      "('latent', 'dirichlet'):      50\n",
      "('dirichlet', 'allocation'):      50\n",
      "('short', 'text'):      42\n",
      "('experimental', 'result'):      39\n",
      "('text', 'mining'):      33\n",
      "('result', 'show'):      32\n",
      "('social', 'network'):      32\n",
      "('paper', 'propose'):      26\n",
      "('machine', 'learning'):      23\n",
      "('proposed', 'method'):      21\n",
      "('latent', 'topic'):      20\n",
      "('probabilistic', 'topic'):      18\n",
      "('user', 'interest'):      18\n",
      "('sentiment', 'analysis'):      17\n",
      "('research', 'topic'):      16\n",
      "('proposed', 'model'):      16\n",
      "('natural', 'language'):      15\n",
      "('text', 'data'):      14\n",
      "('propose', 'novel'):      14\n",
      "('paper', 'present'):      14\n",
      "('proposed', 'approach'):      13\n",
      "('demonstrate', 'effectiveness'):      13\n",
      "('research', 'paper'):      12\n",
      "('language', 'processing'):      12\n",
      "('show', 'proposed'):      12\n",
      "('matrix', 'factorization'):      12\n",
      "('using', 'topic'):      11\n"
     ]
    }
   ],
   "source": [
    "print ('Most common bigrams:')\n",
    "for letter, count in bigrams_counter.most_common(30):\n",
    "    print ('%s: %7d' % (letter, count))"
   ]
  },
  {
   "cell_type": "code",
   "execution_count": 313,
   "metadata": {},
   "outputs": [],
   "source": [
    "import matplotlib as plt"
   ]
  },
  {
   "cell_type": "code",
   "execution_count": 314,
   "metadata": {},
   "outputs": [],
   "source": [
    "bigrams_counter_dict =  dict(bigrams_counter)"
   ]
  },
  {
   "cell_type": "code",
   "execution_count": 315,
   "metadata": {},
   "outputs": [],
   "source": [
    "bigrams_counter_df = pd.DataFrame.from_dict(bigrams_counter_dict, orient='index')"
   ]
  },
  {
   "cell_type": "code",
   "execution_count": 316,
   "metadata": {},
   "outputs": [],
   "source": [
    "bigrams_counter_df = bigrams_counter_df.sort_values(by=[0],ascending=False\n",
    "                                                     )"
   ]
  },
  {
   "cell_type": "code",
   "execution_count": 317,
   "metadata": {},
   "outputs": [
    {
     "data": {
      "text/plain": [
       "<matplotlib.axes._subplots.AxesSubplot at 0x13e1474e0>"
      ]
     },
     "execution_count": 317,
     "metadata": {},
     "output_type": "execute_result"
    },
    {
     "data": {
      "image/png": "[encoded data removed]",
      "text/plain": [
       "<Figure size 432x288 with 1 Axes>"
      ]
     },
     "metadata": {
      "needs_background": "light"
     },
     "output_type": "display_data"
    }
   ],
   "source": [
    "bigrams_counter_df.plot()"
   ]
  },
  {
   "cell_type": "code",
   "execution_count": 318,
   "metadata": {},
   "outputs": [
    {
     "data": {
      "text/html": [
       "<div>\n",
       "<style scoped>\n",
       "    .dataframe tbody tr th:only-of-type {\n",
       "        vertical-align: middle;\n",
       "    }\n",
       "\n",
       "    .dataframe tbody tr th {\n",
       "        vertical-align: top;\n",
       "    }\n",
       "\n",
       "    .dataframe thead th {\n",
       "        text-align: right;\n",
       "    }\n",
       "</style>\n",
       "<table border=\"1\" class=\"dataframe\">\n",
       "  <thead>\n",
       "    <tr style=\"text-align: right;\">\n",
       "      <th></th>\n",
       "      <th>0</th>\n",
       "    </tr>\n",
       "  </thead>\n",
       "  <tbody>\n",
       "    <tr>\n",
       "      <th>(topic, modeling)</th>\n",
       "      <td>125</td>\n",
       "    </tr>\n",
       "    <tr>\n",
       "      <th>(topic, model)</th>\n",
       "      <td>122</td>\n",
       "    </tr>\n",
       "    <tr>\n",
       "      <th>(social, medium)</th>\n",
       "      <td>64</td>\n",
       "    </tr>\n",
       "    <tr>\n",
       "      <th>(latent, dirichlet)</th>\n",
       "      <td>50</td>\n",
       "    </tr>\n",
       "    <tr>\n",
       "      <th>(dirichlet, allocation)</th>\n",
       "      <td>50</td>\n",
       "    </tr>\n",
       "    <tr>\n",
       "      <th>(short, text)</th>\n",
       "      <td>42</td>\n",
       "    </tr>\n",
       "    <tr>\n",
       "      <th>(experimental, result)</th>\n",
       "      <td>39</td>\n",
       "    </tr>\n",
       "    <tr>\n",
       "      <th>(text, mining)</th>\n",
       "      <td>33</td>\n",
       "    </tr>\n",
       "    <tr>\n",
       "      <th>(result, show)</th>\n",
       "      <td>32</td>\n",
       "    </tr>\n",
       "    <tr>\n",
       "      <th>(social, network)</th>\n",
       "      <td>32</td>\n",
       "    </tr>\n",
       "    <tr>\n",
       "      <th>(paper, propose)</th>\n",
       "      <td>26</td>\n",
       "    </tr>\n",
       "    <tr>\n",
       "      <th>(machine, learning)</th>\n",
       "      <td>23</td>\n",
       "    </tr>\n",
       "    <tr>\n",
       "      <th>(proposed, method)</th>\n",
       "      <td>21</td>\n",
       "    </tr>\n",
       "    <tr>\n",
       "      <th>(latent, topic)</th>\n",
       "      <td>20</td>\n",
       "    </tr>\n",
       "    <tr>\n",
       "      <th>(probabilistic, topic)</th>\n",
       "      <td>18</td>\n",
       "    </tr>\n",
       "    <tr>\n",
       "      <th>(user, interest)</th>\n",
       "      <td>18</td>\n",
       "    </tr>\n",
       "    <tr>\n",
       "      <th>(sentiment, analysis)</th>\n",
       "      <td>17</td>\n",
       "    </tr>\n",
       "    <tr>\n",
       "      <th>(proposed, model)</th>\n",
       "      <td>16</td>\n",
       "    </tr>\n",
       "    <tr>\n",
       "      <th>(research, topic)</th>\n",
       "      <td>16</td>\n",
       "    </tr>\n",
       "    <tr>\n",
       "      <th>(natural, language)</th>\n",
       "      <td>15</td>\n",
       "    </tr>\n",
       "    <tr>\n",
       "      <th>(text, data)</th>\n",
       "      <td>14</td>\n",
       "    </tr>\n",
       "    <tr>\n",
       "      <th>(propose, novel)</th>\n",
       "      <td>14</td>\n",
       "    </tr>\n",
       "    <tr>\n",
       "      <th>(paper, present)</th>\n",
       "      <td>14</td>\n",
       "    </tr>\n",
       "    <tr>\n",
       "      <th>(demonstrate, effectiveness)</th>\n",
       "      <td>13</td>\n",
       "    </tr>\n",
       "    <tr>\n",
       "      <th>(proposed, approach)</th>\n",
       "      <td>13</td>\n",
       "    </tr>\n",
       "  </tbody>\n",
       "</table>\n",
       "</div>"
      ],
      "text/plain": [
       "                                0\n",
       "(topic, modeling)             125\n",
       "(topic, model)                122\n",
       "(social, medium)               64\n",
       "(latent, dirichlet)            50\n",
       "(dirichlet, allocation)        50\n",
       "(short, text)                  42\n",
       "(experimental, result)         39\n",
       "(text, mining)                 33\n",
       "(result, show)                 32\n",
       "(social, network)              32\n",
       "(paper, propose)               26\n",
       "(machine, learning)            23\n",
       "(proposed, method)             21\n",
       "(latent, topic)                20\n",
       "(probabilistic, topic)         18\n",
       "(user, interest)               18\n",
       "(sentiment, analysis)          17\n",
       "(proposed, model)              16\n",
       "(research, topic)              16\n",
       "(natural, language)            15\n",
       "(text, data)                   14\n",
       "(propose, novel)               14\n",
       "(paper, present)               14\n",
       "(demonstrate, effectiveness)   13\n",
       "(proposed, approach)           13"
      ]
     },
     "execution_count": 318,
     "metadata": {},
     "output_type": "execute_result"
    }
   ],
   "source": [
    "bigrams_counter_df.head(25)"
   ]
  },
  {
   "cell_type": "code",
   "execution_count": 319,
   "metadata": {},
   "outputs": [],
   "source": [
    "trigrams_counter_dict =  dict(trigrams_counter)"
   ]
  },
  {
   "cell_type": "code",
   "execution_count": 320,
   "metadata": {},
   "outputs": [],
   "source": [
    "trigrams_counter_df = pd.DataFrame.from_dict(trigrams_counter_dict, orient='index')"
   ]
  },
  {
   "cell_type": "code",
   "execution_count": 321,
   "metadata": {},
   "outputs": [],
   "source": [
    "trigrams_counter_df = trigrams_counter_df.sort_values(by=[0],ascending=False\n",
    "                                                     )"
   ]
  },
  {
   "cell_type": "code",
   "execution_count": 322,
   "metadata": {
    "scrolled": true
   },
   "outputs": [
    {
     "data": {
      "text/plain": [
       "<matplotlib.axes._subplots.AxesSubplot at 0x1342f7940>"
      ]
     },
     "execution_count": 322,
     "metadata": {},
     "output_type": "execute_result"
    },
    {
     "data": {
      "image/png": "[encoded data removed]",
      "text/plain": [
       "<Figure size 432x288 with 1 Axes>"
      ]
     },
     "metadata": {
      "needs_background": "light"
     },
     "output_type": "display_data"
    }
   ],
   "source": [
    "trigrams_counter_df.plot()"
   ]
  },
  {
   "cell_type": "code",
   "execution_count": 323,
   "metadata": {
    "scrolled": false
   },
   "outputs": [
    {
     "data": {
      "text/html": [
       "<div>\n",
       "<style scoped>\n",
       "    .dataframe tbody tr th:only-of-type {\n",
       "        vertical-align: middle;\n",
       "    }\n",
       "\n",
       "    .dataframe tbody tr th {\n",
       "        vertical-align: top;\n",
       "    }\n",
       "\n",
       "    .dataframe thead th {\n",
       "        text-align: right;\n",
       "    }\n",
       "</style>\n",
       "<table border=\"1\" class=\"dataframe\">\n",
       "  <thead>\n",
       "    <tr style=\"text-align: right;\">\n",
       "      <th></th>\n",
       "      <th>0</th>\n",
       "    </tr>\n",
       "  </thead>\n",
       "  <tbody>\n",
       "    <tr>\n",
       "      <th>(latent, dirichlet, allocation)</th>\n",
       "      <td>50</td>\n",
       "    </tr>\n",
       "    <tr>\n",
       "      <th>(experimental, result, show)</th>\n",
       "      <td>15</td>\n",
       "    </tr>\n",
       "    <tr>\n",
       "      <th>(probabilistic, topic, modeling)</th>\n",
       "      <td>11</td>\n",
       "    </tr>\n",
       "    <tr>\n",
       "      <th>(natural, language, processing)</th>\n",
       "      <td>11</td>\n",
       "    </tr>\n",
       "    <tr>\n",
       "      <th>(dirichlet, allocation, model)</th>\n",
       "      <td>8</td>\n",
       "    </tr>\n",
       "    <tr>\n",
       "      <th>(using, topic, modeling)</th>\n",
       "      <td>8</td>\n",
       "    </tr>\n",
       "    <tr>\n",
       "      <th>(visual, perceptual, behaviour)</th>\n",
       "      <td>8</td>\n",
       "    </tr>\n",
       "    <tr>\n",
       "      <th>(different, time, period)</th>\n",
       "      <td>7</td>\n",
       "    </tr>\n",
       "    <tr>\n",
       "      <th>(probabilistic, topic, model)</th>\n",
       "      <td>7</td>\n",
       "    </tr>\n",
       "    <tr>\n",
       "      <th>(topic, modeling, approach)</th>\n",
       "      <td>7</td>\n",
       "    </tr>\n",
       "    <tr>\n",
       "      <th>(machine, learning, approach)</th>\n",
       "      <td>7</td>\n",
       "    </tr>\n",
       "    <tr>\n",
       "      <th>(short, text, topic)</th>\n",
       "      <td>6</td>\n",
       "    </tr>\n",
       "    <tr>\n",
       "      <th>(analysis, topic, modeling)</th>\n",
       "      <td>6</td>\n",
       "    </tr>\n",
       "    <tr>\n",
       "      <th>(biterm, topic, model)</th>\n",
       "      <td>5</td>\n",
       "    </tr>\n",
       "    <tr>\n",
       "      <th>(probabilistic, latent, semantic)</th>\n",
       "      <td>5</td>\n",
       "    </tr>\n",
       "    <tr>\n",
       "      <th>(automobile, insurance, fraud)</th>\n",
       "      <td>5</td>\n",
       "    </tr>\n",
       "    <tr>\n",
       "      <th>(social, medium, data)</th>\n",
       "      <td>5</td>\n",
       "    </tr>\n",
       "    <tr>\n",
       "      <th>(document-event, co-occurrence, matrix)</th>\n",
       "      <td>4</td>\n",
       "    </tr>\n",
       "    <tr>\n",
       "      <th>(topic, model, based)</th>\n",
       "      <td>4</td>\n",
       "    </tr>\n",
       "    <tr>\n",
       "      <th>(matrix, topic, analysis)</th>\n",
       "      <td>4</td>\n",
       "    </tr>\n",
       "    <tr>\n",
       "      <th>(co-occurrence, matrix, topic)</th>\n",
       "      <td>4</td>\n",
       "    </tr>\n",
       "    <tr>\n",
       "      <th>(text, analysis, method)</th>\n",
       "      <td>4</td>\n",
       "    </tr>\n",
       "    <tr>\n",
       "      <th>(insurance, fraud, detection)</th>\n",
       "      <td>4</td>\n",
       "    </tr>\n",
       "    <tr>\n",
       "      <th>(chronological, citation, recommendation)</th>\n",
       "      <td>4</td>\n",
       "    </tr>\n",
       "    <tr>\n",
       "      <th>(collapsed, gibbs, sampling)</th>\n",
       "      <td>4</td>\n",
       "    </tr>\n",
       "    <tr>\n",
       "      <th>(explicit, topic, model)</th>\n",
       "      <td>4</td>\n",
       "    </tr>\n",
       "    <tr>\n",
       "      <th>(keyword-based, search, system)</th>\n",
       "      <td>4</td>\n",
       "    </tr>\n",
       "    <tr>\n",
       "      <th>(topic, modeling, technique)</th>\n",
       "      <td>4</td>\n",
       "    </tr>\n",
       "    <tr>\n",
       "      <th>(result, show, proposed)</th>\n",
       "      <td>4</td>\n",
       "    </tr>\n",
       "    <tr>\n",
       "      <th>(demonstrate, effectiveness, proposed)</th>\n",
       "      <td>4</td>\n",
       "    </tr>\n",
       "  </tbody>\n",
       "</table>\n",
       "</div>"
      ],
      "text/plain": [
       "                                            0\n",
       "(latent, dirichlet, allocation)            50\n",
       "(experimental, result, show)               15\n",
       "(probabilistic, topic, modeling)           11\n",
       "(natural, language, processing)            11\n",
       "(dirichlet, allocation, model)              8\n",
       "(using, topic, modeling)                    8\n",
       "(visual, perceptual, behaviour)             8\n",
       "(different, time, period)                   7\n",
       "(probabilistic, topic, model)               7\n",
       "(topic, modeling, approach)                 7\n",
       "(machine, learning, approach)               7\n",
       "(short, text, topic)                        6\n",
       "(analysis, topic, modeling)                 6\n",
       "(biterm, topic, model)                      5\n",
       "(probabilistic, latent, semantic)           5\n",
       "(automobile, insurance, fraud)              5\n",
       "(social, medium, data)                      5\n",
       "(document-event, co-occurrence, matrix)     4\n",
       "(topic, model, based)                       4\n",
       "(matrix, topic, analysis)                   4\n",
       "(co-occurrence, matrix, topic)              4\n",
       "(text, analysis, method)                    4\n",
       "(insurance, fraud, detection)               4\n",
       "(chronological, citation, recommendation)   4\n",
       "(collapsed, gibbs, sampling)                4\n",
       "(explicit, topic, model)                    4\n",
       "(keyword-based, search, system)             4\n",
       "(topic, modeling, technique)                4\n",
       "(result, show, proposed)                    4\n",
       "(demonstrate, effectiveness, proposed)      4"
      ]
     },
     "execution_count": 323,
     "metadata": {},
     "output_type": "execute_result"
    }
   ],
   "source": [
    "trigrams_counter_df.head(30)"
   ]
  },
  {
   "cell_type": "markdown",
   "metadata": {},
   "source": [
    "# collapse phrases; to collapse phrases, include in this list, then run the code\n",
    "phrases_to_collapse = [ ]"
   ]
  },
  {
   "cell_type": "markdown",
   "metadata": {},
   "source": [
    "processed_docs_r = []  \n",
    "for doc in processed_docs_as_string:\n",
    "    for phrase in phrases_to_collapse:\n",
    "        phrase_with_underscore = phrase.replace(\" \", \"_\")\n",
    "        doc = doc.replace(phrase, phrase_with_underscore)\n",
    "    processed_docs_r.append(doc.split(\" \"))"
   ]
  },
  {
   "cell_type": "markdown",
   "metadata": {},
   "source": [
    "### LDA methods"
   ]
  },
  {
   "cell_type": "code",
   "execution_count": 324,
   "metadata": {},
   "outputs": [],
   "source": [
    "# work with Mallet wrapper in Gensim\n",
    "from gensim.models.wrappers import LdaMallet\n",
    "path_to_mallet_binary = home_path+\"/Dev_stuff/mallet-2.0.8/bin/mallet\""
   ]
  },
  {
   "cell_type": "code",
   "execution_count": 325,
   "metadata": {},
   "outputs": [],
   "source": [
    "# Filter out tokens that appear in: i) less than 15 documents (absolute number) or ii) more than 0.5 documents (fraction of total corpus size, not absolute number).\n",
    "#dictionary = dictionary.filter_extremes(no_below=15, no_above=0.5, keep_n=100000)"
   ]
  },
  {
   "cell_type": "code",
   "execution_count": 326,
   "metadata": {},
   "outputs": [],
   "source": [
    "# Create a dictionary from ‘processed_docs’ containing the number of times a word appears in the training set.\n",
    "dictionary = gensim.corpora.Dictionary(processed_docs)"
   ]
  },
  {
   "cell_type": "code",
   "execution_count": 327,
   "metadata": {},
   "outputs": [],
   "source": [
    "# Gensim doc2bow\n",
    "# For each document we create a dictionary reporting how many words and how many times those words appear. Save this to ‘bow_corpus’\n",
    "corpus = [dictionary.doc2bow(doc) for doc in processed_docs]"
   ]
  },
  {
   "cell_type": "markdown",
   "metadata": {},
   "source": [
    "Now, actually doing the LDA"
   ]
  },
  {
   "cell_type": "code",
   "execution_count": 328,
   "metadata": {},
   "outputs": [],
   "source": [
    "def generateModelCoherence(corpus, dictionary,processed_docs,step=5, start=5, end=10):\n",
    "    # output a pandas dataframe with each row as a model; num_topics, coherence, model    \n",
    "    i = 0\n",
    "    num_topics = (i * step)+start\n",
    "    models = []\n",
    "    while num_topics<end:\n",
    "        num_topics = i * step+start\n",
    "        print (\"num_topics:\", num_topics)\n",
    "        lda_model_mallet = LdaMallet(path_to_mallet_binary, corpus=corpus, num_topics=num_topics, id2word=dictionary)\n",
    "        cm = CoherenceModel(model=lda_model_mallet ,texts=processed_docs, corpus=corpus,dictionary=dictionary, coherence='c_v')\n",
    "        print (\"coherence:\",cm.get_coherence())\n",
    "        model_specs = {\"num_topics\":num_topics, \"model\":lda_model_mallet, \"coherence\":cm.get_coherence()}\n",
    "        models.append(model_specs)\n",
    "        i+=1 # increment step\n",
    "    return pd.DataFrame(models)"
   ]
  },
  {
   "cell_type": "code",
   "execution_count": 329,
   "metadata": {},
   "outputs": [
    {
     "name": "stdout",
     "output_type": "stream",
     "text": [
      "num_topics: 10\n",
      "coherence: 0.31909443692476575\n",
      "num_topics: 15\n",
      "coherence: 0.32873347362695277\n",
      "num_topics: 20\n",
      "coherence: 0.33071938097778786\n",
      "num_topics: 25\n",
      "coherence: 0.33701477503750127\n",
      "num_topics: 30\n",
      "coherence: 0.3263868461198362\n",
      "num_topics: 35\n",
      "coherence: 0.3326159177371942\n",
      "num_topics: 40\n",
      "coherence: 0.34641834161951196\n",
      "num_topics: 45\n",
      "coherence: 0.34444067621803665\n",
      "num_topics: 50\n",
      "coherence: 0.35171614168835136\n",
      "num_topics: 55\n",
      "coherence: 0.3799476230694304\n",
      "num_topics: 60\n",
      "coherence: 0.35945210996669863\n",
      "num_topics: 65\n",
      "coherence: 0.37808528759880533\n",
      "num_topics: 70\n",
      "coherence: 0.38778001837345527\n",
      "num_topics: 75\n",
      "coherence: 0.4032396717399376\n",
      "num_topics: 80\n",
      "coherence: 0.40753758135397433\n",
      "num_topics: 85\n",
      "coherence: 0.42078792300120416\n",
      "num_topics: 90\n",
      "coherence: 0.41652261796342127\n",
      "num_topics: 95\n",
      "coherence: 0.4322259323728624\n",
      "num_topics: 100\n",
      "coherence: 0.4267498799700726\n"
     ]
    }
   ],
   "source": [
    "all_models = generateModelCoherence(corpus, dictionary,processed_docs,5,10,100)"
   ]
  },
  {
   "cell_type": "code",
   "execution_count": 330,
   "metadata": {},
   "outputs": [
    {
     "data": {
      "text/plain": [
       "19"
      ]
     },
     "execution_count": 330,
     "metadata": {},
     "output_type": "execute_result"
    }
   ],
   "source": [
    "len(all_models)"
   ]
  },
  {
   "cell_type": "code",
   "execution_count": 335,
   "metadata": {},
   "outputs": [
    {
     "data": {
      "text/html": [
       "<div>\n",
       "<style scoped>\n",
       "    .dataframe tbody tr th:only-of-type {\n",
       "        vertical-align: middle;\n",
       "    }\n",
       "\n",
       "    .dataframe tbody tr th {\n",
       "        vertical-align: top;\n",
       "    }\n",
       "\n",
       "    .dataframe thead th {\n",
       "        text-align: right;\n",
       "    }\n",
       "</style>\n",
       "<table border=\"1\" class=\"dataframe\">\n",
       "  <thead>\n",
       "    <tr style=\"text-align: right;\">\n",
       "      <th></th>\n",
       "      <th>coherence</th>\n",
       "      <th>model</th>\n",
       "    </tr>\n",
       "    <tr>\n",
       "      <th>num_topics</th>\n",
       "      <th></th>\n",
       "      <th></th>\n",
       "    </tr>\n",
       "  </thead>\n",
       "  <tbody>\n",
       "    <tr>\n",
       "      <th>10</th>\n",
       "      <td>0.319094</td>\n",
       "      <td>&lt;gensim.models.wrappers.ldamallet.LdaMallet ob...</td>\n",
       "    </tr>\n",
       "    <tr>\n",
       "      <th>15</th>\n",
       "      <td>0.328733</td>\n",
       "      <td>&lt;gensim.models.wrappers.ldamallet.LdaMallet ob...</td>\n",
       "    </tr>\n",
       "    <tr>\n",
       "      <th>20</th>\n",
       "      <td>0.330719</td>\n",
       "      <td>&lt;gensim.models.wrappers.ldamallet.LdaMallet ob...</td>\n",
       "    </tr>\n",
       "    <tr>\n",
       "      <th>25</th>\n",
       "      <td>0.337015</td>\n",
       "      <td>&lt;gensim.models.wrappers.ldamallet.LdaMallet ob...</td>\n",
       "    </tr>\n",
       "    <tr>\n",
       "      <th>30</th>\n",
       "      <td>0.326387</td>\n",
       "      <td>&lt;gensim.models.wrappers.ldamallet.LdaMallet ob...</td>\n",
       "    </tr>\n",
       "    <tr>\n",
       "      <th>35</th>\n",
       "      <td>0.332616</td>\n",
       "      <td>&lt;gensim.models.wrappers.ldamallet.LdaMallet ob...</td>\n",
       "    </tr>\n",
       "    <tr>\n",
       "      <th>40</th>\n",
       "      <td>0.346418</td>\n",
       "      <td>&lt;gensim.models.wrappers.ldamallet.LdaMallet ob...</td>\n",
       "    </tr>\n",
       "    <tr>\n",
       "      <th>45</th>\n",
       "      <td>0.344441</td>\n",
       "      <td>&lt;gensim.models.wrappers.ldamallet.LdaMallet ob...</td>\n",
       "    </tr>\n",
       "    <tr>\n",
       "      <th>50</th>\n",
       "      <td>0.351716</td>\n",
       "      <td>&lt;gensim.models.wrappers.ldamallet.LdaMallet ob...</td>\n",
       "    </tr>\n",
       "    <tr>\n",
       "      <th>55</th>\n",
       "      <td>0.379948</td>\n",
       "      <td>&lt;gensim.models.wrappers.ldamallet.LdaMallet ob...</td>\n",
       "    </tr>\n",
       "    <tr>\n",
       "      <th>60</th>\n",
       "      <td>0.359452</td>\n",
       "      <td>&lt;gensim.models.wrappers.ldamallet.LdaMallet ob...</td>\n",
       "    </tr>\n",
       "    <tr>\n",
       "      <th>65</th>\n",
       "      <td>0.378085</td>\n",
       "      <td>&lt;gensim.models.wrappers.ldamallet.LdaMallet ob...</td>\n",
       "    </tr>\n",
       "    <tr>\n",
       "      <th>70</th>\n",
       "      <td>0.387780</td>\n",
       "      <td>&lt;gensim.models.wrappers.ldamallet.LdaMallet ob...</td>\n",
       "    </tr>\n",
       "    <tr>\n",
       "      <th>75</th>\n",
       "      <td>0.403240</td>\n",
       "      <td>&lt;gensim.models.wrappers.ldamallet.LdaMallet ob...</td>\n",
       "    </tr>\n",
       "    <tr>\n",
       "      <th>80</th>\n",
       "      <td>0.407538</td>\n",
       "      <td>&lt;gensim.models.wrappers.ldamallet.LdaMallet ob...</td>\n",
       "    </tr>\n",
       "    <tr>\n",
       "      <th>85</th>\n",
       "      <td>0.420788</td>\n",
       "      <td>&lt;gensim.models.wrappers.ldamallet.LdaMallet ob...</td>\n",
       "    </tr>\n",
       "    <tr>\n",
       "      <th>90</th>\n",
       "      <td>0.416523</td>\n",
       "      <td>&lt;gensim.models.wrappers.ldamallet.LdaMallet ob...</td>\n",
       "    </tr>\n",
       "    <tr>\n",
       "      <th>95</th>\n",
       "      <td>0.432226</td>\n",
       "      <td>&lt;gensim.models.wrappers.ldamallet.LdaMallet ob...</td>\n",
       "    </tr>\n",
       "    <tr>\n",
       "      <th>100</th>\n",
       "      <td>0.426750</td>\n",
       "      <td>&lt;gensim.models.wrappers.ldamallet.LdaMallet ob...</td>\n",
       "    </tr>\n",
       "  </tbody>\n",
       "</table>\n",
       "</div>"
      ],
      "text/plain": [
       "            coherence                                              model\n",
       "num_topics                                                              \n",
       "10           0.319094  <gensim.models.wrappers.ldamallet.LdaMallet ob...\n",
       "15           0.328733  <gensim.models.wrappers.ldamallet.LdaMallet ob...\n",
       "20           0.330719  <gensim.models.wrappers.ldamallet.LdaMallet ob...\n",
       "25           0.337015  <gensim.models.wrappers.ldamallet.LdaMallet ob...\n",
       "30           0.326387  <gensim.models.wrappers.ldamallet.LdaMallet ob...\n",
       "35           0.332616  <gensim.models.wrappers.ldamallet.LdaMallet ob...\n",
       "40           0.346418  <gensim.models.wrappers.ldamallet.LdaMallet ob...\n",
       "45           0.344441  <gensim.models.wrappers.ldamallet.LdaMallet ob...\n",
       "50           0.351716  <gensim.models.wrappers.ldamallet.LdaMallet ob...\n",
       "55           0.379948  <gensim.models.wrappers.ldamallet.LdaMallet ob...\n",
       "60           0.359452  <gensim.models.wrappers.ldamallet.LdaMallet ob...\n",
       "65           0.378085  <gensim.models.wrappers.ldamallet.LdaMallet ob...\n",
       "70           0.387780  <gensim.models.wrappers.ldamallet.LdaMallet ob...\n",
       "75           0.403240  <gensim.models.wrappers.ldamallet.LdaMallet ob...\n",
       "80           0.407538  <gensim.models.wrappers.ldamallet.LdaMallet ob...\n",
       "85           0.420788  <gensim.models.wrappers.ldamallet.LdaMallet ob...\n",
       "90           0.416523  <gensim.models.wrappers.ldamallet.LdaMallet ob...\n",
       "95           0.432226  <gensim.models.wrappers.ldamallet.LdaMallet ob...\n",
       "100          0.426750  <gensim.models.wrappers.ldamallet.LdaMallet ob..."
      ]
     },
     "execution_count": 335,
     "metadata": {},
     "output_type": "execute_result"
    }
   ],
   "source": [
    "all_models"
   ]
  },
  {
   "cell_type": "code",
   "execution_count": null,
   "metadata": {},
   "outputs": [],
   "source": [
    "#all_models = all_models.set_index('num_topics')"
   ]
  },
  {
   "cell_type": "code",
   "execution_count": 337,
   "metadata": {},
   "outputs": [
    {
     "data": {
      "text/html": [
       "<div>\n",
       "<style scoped>\n",
       "    .dataframe tbody tr th:only-of-type {\n",
       "        vertical-align: middle;\n",
       "    }\n",
       "\n",
       "    .dataframe tbody tr th {\n",
       "        vertical-align: top;\n",
       "    }\n",
       "\n",
       "    .dataframe thead th {\n",
       "        text-align: right;\n",
       "    }\n",
       "</style>\n",
       "<table border=\"1\" class=\"dataframe\">\n",
       "  <thead>\n",
       "    <tr style=\"text-align: right;\">\n",
       "      <th></th>\n",
       "      <th>coherence</th>\n",
       "      <th>model</th>\n",
       "    </tr>\n",
       "    <tr>\n",
       "      <th>num_topics</th>\n",
       "      <th></th>\n",
       "      <th></th>\n",
       "    </tr>\n",
       "  </thead>\n",
       "  <tbody>\n",
       "    <tr>\n",
       "      <th>10</th>\n",
       "      <td>0.319094</td>\n",
       "      <td>&lt;gensim.models.wrappers.ldamallet.LdaMallet ob...</td>\n",
       "    </tr>\n",
       "    <tr>\n",
       "      <th>15</th>\n",
       "      <td>0.328733</td>\n",
       "      <td>&lt;gensim.models.wrappers.ldamallet.LdaMallet ob...</td>\n",
       "    </tr>\n",
       "    <tr>\n",
       "      <th>20</th>\n",
       "      <td>0.330719</td>\n",
       "      <td>&lt;gensim.models.wrappers.ldamallet.LdaMallet ob...</td>\n",
       "    </tr>\n",
       "    <tr>\n",
       "      <th>25</th>\n",
       "      <td>0.337015</td>\n",
       "      <td>&lt;gensim.models.wrappers.ldamallet.LdaMallet ob...</td>\n",
       "    </tr>\n",
       "    <tr>\n",
       "      <th>30</th>\n",
       "      <td>0.326387</td>\n",
       "      <td>&lt;gensim.models.wrappers.ldamallet.LdaMallet ob...</td>\n",
       "    </tr>\n",
       "  </tbody>\n",
       "</table>\n",
       "</div>"
      ],
      "text/plain": [
       "            coherence                                              model\n",
       "num_topics                                                              \n",
       "10           0.319094  <gensim.models.wrappers.ldamallet.LdaMallet ob...\n",
       "15           0.328733  <gensim.models.wrappers.ldamallet.LdaMallet ob...\n",
       "20           0.330719  <gensim.models.wrappers.ldamallet.LdaMallet ob...\n",
       "25           0.337015  <gensim.models.wrappers.ldamallet.LdaMallet ob...\n",
       "30           0.326387  <gensim.models.wrappers.ldamallet.LdaMallet ob..."
      ]
     },
     "execution_count": 337,
     "metadata": {},
     "output_type": "execute_result"
    }
   ],
   "source": [
    "all_models.head()"
   ]
  },
  {
   "cell_type": "code",
   "execution_count": 338,
   "metadata": {},
   "outputs": [
    {
     "data": {
      "text/plain": [
       "<matplotlib.axes._subplots.AxesSubplot at 0x130c86048>"
      ]
     },
     "execution_count": 338,
     "metadata": {},
     "output_type": "execute_result"
    },
    {
     "data": {
      "image/png": "[encoded data removed]",
      "text/plain": [
       "<Figure size 432x288 with 1 Axes>"
      ]
     },
     "metadata": {
      "needs_background": "light"
     },
     "output_type": "display_data"
    }
   ],
   "source": [
    "models_to_plot = all_models.copy() \n",
    "models_to_plot = models_to_plot.drop(columns=['model'])\n",
    "models_to_plot.plot()"
   ]
  },
  {
   "cell_type": "markdown",
   "metadata": {},
   "source": [
    "From this, the optimal topics could be 25 or 55"
   ]
  },
  {
   "cell_type": "markdown",
   "metadata": {},
   "source": [
    "Saving 25 topics"
   ]
  },
  {
   "cell_type": "code",
   "execution_count": 339,
   "metadata": {},
   "outputs": [
    {
     "data": {
      "text/plain": [
       "'./lda_model_25_doc_topics_file_BUS_only.txt'"
      ]
     },
     "execution_count": 339,
     "metadata": {},
     "output_type": "execute_result"
    }
   ],
   "source": [
    "lda_model_mallet_25 = all_models.loc[25]['model']\n",
    "lda_model_mallet_25.save(\"lda_model_25_topics_BUS_only.sav\")\n",
    "path_state_file_for_lda_model = lda_model_mallet_25.fstate()\n",
    "shutil.copy2(path_state_file_for_lda_model, \"./lda_model_25_topics_file_BUS_only.gzip\")\n",
    "\n",
    "path_doc_topics_for_lda_model = lda_model_mallet_25.fdoctopics() \n",
    "shutil.copy2(path_doc_topics_for_lda_model, \"./lda_model_25_doc_topics_file_BUS_only.txt\")"
   ]
  },
  {
   "cell_type": "markdown",
   "metadata": {},
   "source": [
    "Saving 55 topics"
   ]
  },
  {
   "cell_type": "code",
   "execution_count": 340,
   "metadata": {},
   "outputs": [
    {
     "data": {
      "text/plain": [
       "'./lda_model_55_doc_topics_file_BUS_only.txt'"
      ]
     },
     "execution_count": 340,
     "metadata": {},
     "output_type": "execute_result"
    }
   ],
   "source": [
    "lda_model_mallet_55 = all_models.loc[55]['model']\n",
    "lda_model_mallet_55.save(\"lda_model_55_topics_BUS_only.sav\")\n",
    "path_state_file_for_lda_model = lda_model_mallet_55.fstate()\n",
    "shutil.copy2(path_state_file_for_lda_model, \"./lda_model_55_topics_file_BUS_only.gzip\")\n",
    "\n",
    "path_doc_topics_for_lda_model = lda_model_mallet_55.fdoctopics() \n",
    "shutil.copy2(path_doc_topics_for_lda_model, \"./lda_model_55_doc_topics_file_BUS_only.txt\")"
   ]
  },
  {
   "cell_type": "markdown",
   "metadata": {},
   "source": [
    "## Start to inspect topics"
   ]
  },
  {
   "cell_type": "code",
   "execution_count": null,
   "metadata": {},
   "outputs": [],
   "source": [
    "lda_model_mallet_10.show_topics(10)"
   ]
  },
  {
   "cell_type": "markdown",
   "metadata": {},
   "source": [
    "# Next, in another Notebook, process the output of these models"
   ]
  }
 ],
 "metadata": {
  "kernelspec": {
   "display_name": "Python 3",
   "language": "python",
   "name": "python3"
  },
  "language_info": {
   "codemirror_mode": {
    "name": "ipython",
    "version": 3
   },
   "file_extension": ".py",
   "mimetype": "text/x-python",
   "name": "python",
   "nbconvert_exporter": "python",
   "pygments_lexer": "ipython3",
   "version": "3.5.5"
  }
 },
 "nbformat": 4,
 "nbformat_minor": 2
}
