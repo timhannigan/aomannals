{
 "cells": [
  {
   "cell_type": "markdown",
   "metadata": {},
   "source": [
    "### Gather articles for AOM Annals Paper using the scopus api wrapper"
   ]
  },
  {
   "cell_type": "markdown",
   "metadata": {},
   "source": [
    "Using https://scopus.readthedocs.io/en/latest/examples/ScopusAbstract.html"
   ]
  },
  {
   "cell_type": "code",
   "execution_count": 86,
   "metadata": {},
   "outputs": [],
   "source": [
    "import pandas as pd\n",
    "from scopus import ScopusAbstract\n",
    "from scopus import ScopusSearch\n",
    "import pickle\n",
    "import numpy\n",
    "import re"
   ]
  },
  {
   "cell_type": "code",
   "execution_count": 257,
   "metadata": {},
   "outputs": [],
   "source": [
    "import os\n",
    "import os.path\n",
    "from os import listdir\n",
    "from os.path import isfile, join, expanduser\n",
    "import shutil"
   ]
  },
  {
   "cell_type": "code",
   "execution_count": 6,
   "metadata": {},
   "outputs": [],
   "source": [
    "from textblob import TextBlob \n",
    "import nltk\n",
    "from nltk.stem.porter import *\n",
    "from nltk.stem import WordNetLemmatizer"
   ]
  },
  {
   "cell_type": "markdown",
   "metadata": {},
   "source": [
    "### Setup"
   ]
  },
  {
   "cell_type": "code",
   "execution_count": 7,
   "metadata": {},
   "outputs": [],
   "source": [
    "std_date_format = '%Y-%m-%d'    \n",
    "home_path = expanduser(\"~\")"
   ]
  },
  {
   "cell_type": "markdown",
   "metadata": {},
   "source": [
    "### Main Code"
   ]
  },
  {
   "cell_type": "code",
   "execution_count": 8,
   "metadata": {},
   "outputs": [],
   "source": [
    "fetchFlag = True # fetchFlag determines whether I hit the Scopus server"
   ]
  },
  {
   "cell_type": "markdown",
   "metadata": {},
   "source": [
    "Query is looking at abstracts and titles from \"Social Sciences\" and \"Business, Management and Accounting\" after 2007 for \"topic modeling\"\n",
    "\n",
    "TITLE-ABS-KEY(\"topic modeling\") AND PUBYEAR > 2007 AND ( LIMIT-TO ( SUBJAREA,\"SOCI\" ) OR LIMIT-TO ( SUBJAREA,\"BUSI\" ) ) \n",
    "\n",
    "Using the scopus search webUI, there should be 654 document results(213 document results business only); note, the ScopusSearch API does not include LIMIT-TO, so for subjects, need to use SUBJAREA(\"BUSI\")  https://dev.elsevier.com/tips/ScopusSearchTips.htm"
   ]
  },
  {
   "cell_type": "code",
   "execution_count": 33,
   "metadata": {},
   "outputs": [],
   "source": [
    "query = ScopusSearch('TITLE-ABS-KEY(\"topic modeling\") AND PUBYEAR > 2007 AND (SUBJAREA(\"BUSI\") or SUBJAREA(\"SOCI\")) ', refresh=True)"
   ]
  },
  {
   "cell_type": "code",
   "execution_count": 34,
   "metadata": {},
   "outputs": [
    {
     "data": {
      "text/plain": [
       "654"
      ]
     },
     "execution_count": 34,
     "metadata": {},
     "output_type": "execute_result"
    }
   ],
   "source": [
    "len(query.EIDS)"
   ]
  },
  {
   "cell_type": "code",
   "execution_count": 35,
   "metadata": {},
   "outputs": [
    {
     "name": "stdout",
     "output_type": "stream",
     "text": [
      "0\n",
      "5\n",
      "10\n",
      "15\n",
      "20\n",
      "25\n",
      "30\n",
      "35\n",
      "40\n",
      "45\n",
      "50\n",
      "55\n",
      "60\n",
      "65\n",
      "70\n",
      "75\n",
      "80\n",
      "85\n",
      "90\n",
      "95\n",
      "100\n",
      "105\n",
      "110\n",
      "115\n",
      "120\n",
      "125\n",
      "130\n",
      "135\n",
      "140\n",
      "145\n",
      "150\n",
      "155\n",
      "160\n",
      "165\n",
      "170\n",
      "175\n",
      "180\n",
      "185\n",
      "190\n",
      "195\n",
      "200\n",
      "205\n",
      "210\n",
      "215\n",
      "220\n",
      "225\n",
      "230\n",
      "235\n",
      "240\n",
      "245\n",
      "250\n",
      "255\n",
      "260\n",
      "265\n",
      "270\n",
      "275\n",
      "280\n",
      "285\n",
      "290\n",
      "295\n",
      "300\n",
      "305\n",
      "310\n",
      "315\n",
      "320\n",
      "325\n",
      "330\n",
      "335\n",
      "340\n",
      "345\n",
      "350\n",
      "355\n",
      "360\n",
      "365\n",
      "370\n",
      "375\n",
      "380\n",
      "385\n",
      "390\n",
      "395\n",
      "400\n",
      "405\n",
      "410\n",
      "415\n",
      "420\n",
      "425\n",
      "430\n",
      "435\n",
      "440\n",
      "445\n",
      "450\n",
      "455\n",
      "460\n",
      "465\n",
      "470\n",
      "475\n",
      "480\n",
      "485\n",
      "490\n",
      "495\n",
      "500\n",
      "505\n",
      "510\n",
      "515\n",
      "520\n",
      "525\n",
      "530\n",
      "535\n",
      "540\n",
      "545\n",
      "550\n",
      "555\n",
      "560\n",
      "565\n",
      "570\n",
      "575\n",
      "580\n",
      "585\n",
      "590\n",
      "595\n",
      "600\n",
      "605\n",
      "610\n",
      "615\n",
      "620\n",
      "625\n",
      "630\n",
      "635\n",
      "640\n",
      "645\n",
      "650\n"
     ]
    }
   ],
   "source": [
    "results = []\n",
    "i=0\n",
    "for eid in query.EIDS:\n",
    "    if fetchFlag: ab = ScopusAbstract(eid, view='FULL')\n",
    "    if i % 5 == 0: print (i) # print processing progress, every 5\n",
    "    i+=1\n",
    "    if fetchFlag: results.append(ab)\n",
    "    #ab.references # list of eIDS, useful to build citation networks"
   ]
  },
  {
   "cell_type": "code",
   "execution_count": 37,
   "metadata": {},
   "outputs": [
    {
     "data": {
      "text/plain": [
       "654"
      ]
     },
     "execution_count": 37,
     "metadata": {},
     "output_type": "execute_result"
    }
   ],
   "source": [
    "len(results)"
   ]
  },
  {
   "cell_type": "code",
   "execution_count": 38,
   "metadata": {},
   "outputs": [],
   "source": [
    "with open('all_abstracts_forOct2_query.pickle', 'wb') as handle:\n",
    "    pickle.dump(results, handle, protocol=pickle.HIGHEST_PROTOCOL)"
   ]
  },
  {
   "cell_type": "markdown",
   "metadata": {},
   "source": [
    "### Load pickle (note: likely need to be connected to University VPN to use this)"
   ]
  },
  {
   "cell_type": "code",
   "execution_count": 39,
   "metadata": {},
   "outputs": [],
   "source": [
    "with open('all_abstracts_forOct2_query.pickle', 'rb') as handle:\n",
    "    results = pickle.load(handle)"
   ]
  },
  {
   "cell_type": "code",
   "execution_count": 40,
   "metadata": {},
   "outputs": [
    {
     "data": {
      "text/plain": [
       "<scopus.scopus_api.ScopusAbstract at 0x115dfdd68>"
      ]
     },
     "execution_count": 40,
     "metadata": {},
     "output_type": "execute_result"
    }
   ],
   "source": [
    "results[0]"
   ]
  },
  {
   "cell_type": "markdown",
   "metadata": {},
   "source": [
    "##### To find list of all publication names, use this code\n",
    "for ab in results:\n",
    "    print(ab.publicationName)"
   ]
  },
  {
   "cell_type": "markdown",
   "metadata": {},
   "source": [
    "Using list, can filter for specific journals"
   ]
  },
  {
   "cell_type": "code",
   "execution_count": 36,
   "metadata": {},
   "outputs": [],
   "source": [
    "journalsToUse = [] # use the lower case name of journals to filter"
   ]
  },
  {
   "cell_type": "code",
   "execution_count": 10,
   "metadata": {},
   "outputs": [],
   "source": [
    "results_filtered = []\n",
    "for ab in results:\n",
    "    for journalName in journalsToUse:\n",
    "        if ab.publicationName.lower() == journalName.lower():\n",
    "            results_filtered.append(ab)"
   ]
  },
  {
   "cell_type": "markdown",
   "metadata": {},
   "source": [
    "Because scopus.scopus_api.ScopusAbstract requires University VPN, need to save dataframe on iMac"
   ]
  },
  {
   "cell_type": "code",
   "execution_count": 42,
   "metadata": {},
   "outputs": [],
   "source": [
    "results_filtered = results # no filtering at this time\n",
    "ab_for_df = []\n",
    "for ab in results_filtered:\n",
    "    ab_dict = {\"publicationName\": ab.publicationName, \"date\": ab.coverDate, \"title\": ab.title, \"abstract\":ab.abstract, \"id\":ab.eid}\n",
    "    # authors?\n",
    "    ab_for_df.append(ab_dict)   "
   ]
  },
  {
   "cell_type": "code",
   "execution_count": 43,
   "metadata": {},
   "outputs": [],
   "source": [
    "df_ab = pd.DataFrame(ab_for_df)\n",
    "df_ab.to_csv(\"df_abstracts.csv\")"
   ]
  },
  {
   "cell_type": "markdown",
   "metadata": {},
   "source": [
    "_Example:_\n",
    "\n",
    "ab.publicationName\n",
    "'ACS Catalysis'\n",
    "ab.aggregationType\n",
    "'Journal'\n",
    "ab.coverDate\n",
    "'2015-06-05'\n",
    "ab.volume\n",
    "'5'\n",
    "ab.issueIdentifier\n",
    "'6'\n",
    "ab.pageRange\n",
    "'3894-3899'\n",
    "ab.doi\n",
    "'10.1021/acscatal.5b00538'"
   ]
  },
  {
   "cell_type": "code",
   "execution_count": null,
   "metadata": {},
   "outputs": [],
   "source": [
    "#with open('all_abstracts_ETP_JBV_post2008.pickle', 'wb') as handle:\n",
    "#    pickle.dump(results_filtered, handle, protocol=pickle.HIGHEST_PROTOCOL)"
   ]
  },
  {
   "cell_type": "markdown",
   "metadata": {},
   "source": [
    "### Load csv for all paper abstracts"
   ]
  },
  {
   "cell_type": "code",
   "execution_count": 197,
   "metadata": {
    "scrolled": true
   },
   "outputs": [],
   "source": [
    "df_ab = pd.read_csv(\"df_abstracts.csv\")"
   ]
  },
  {
   "cell_type": "code",
   "execution_count": 198,
   "metadata": {},
   "outputs": [
    {
     "data": {
      "text/plain": [
       "654"
      ]
     },
     "execution_count": 198,
     "metadata": {},
     "output_type": "execute_result"
    }
   ],
   "source": [
    "len(df_ab)"
   ]
  },
  {
   "cell_type": "markdown",
   "metadata": {},
   "source": [
    "##### capture journal names, put into a counter"
   ]
  },
  {
   "cell_type": "code",
   "execution_count": 199,
   "metadata": {},
   "outputs": [],
   "source": [
    "import collections\n",
    "from collections import defaultdict\n",
    "journal_count = defaultdict(int)"
   ]
  },
  {
   "cell_type": "code",
   "execution_count": 200,
   "metadata": {},
   "outputs": [],
   "source": [
    "for i, row in df_ab.iterrows():    \n",
    "    journal_count[row['publicationName']]+=1"
   ]
  },
  {
   "cell_type": "code",
   "execution_count": 201,
   "metadata": {},
   "outputs": [],
   "source": [
    "df_journal_count = pd.DataFrame.from_dict(journal_count, orient=\"index\")"
   ]
  },
  {
   "cell_type": "code",
   "execution_count": 202,
   "metadata": {},
   "outputs": [],
   "source": [
    "df_journal_count = df_journal_count.sort_values(0, ascending=False)"
   ]
  },
  {
   "cell_type": "code",
   "execution_count": 203,
   "metadata": {},
   "outputs": [],
   "source": [
    "df_journal_count.columns=[\"articleCounts\"]"
   ]
  },
  {
   "cell_type": "code",
   "execution_count": 204,
   "metadata": {},
   "outputs": [
    {
     "data": {
      "text/html": [
       "<div>\n",
       "<style scoped>\n",
       "    .dataframe tbody tr th:only-of-type {\n",
       "        vertical-align: middle;\n",
       "    }\n",
       "\n",
       "    .dataframe tbody tr th {\n",
       "        vertical-align: top;\n",
       "    }\n",
       "\n",
       "    .dataframe thead th {\n",
       "        text-align: right;\n",
       "    }\n",
       "</style>\n",
       "<table border=\"1\" class=\"dataframe\">\n",
       "  <thead>\n",
       "    <tr style=\"text-align: right;\">\n",
       "      <th></th>\n",
       "      <th>articleCounts</th>\n",
       "    </tr>\n",
       "  </thead>\n",
       "  <tbody>\n",
       "    <tr>\n",
       "      <th>International Conference on Information and Knowledge Management, Proceedings</th>\n",
       "      <td>61</td>\n",
       "    </tr>\n",
       "    <tr>\n",
       "      <th>Knowledge-Based Systems</th>\n",
       "      <td>31</td>\n",
       "    </tr>\n",
       "  </tbody>\n",
       "</table>\n",
       "</div>"
      ],
      "text/plain": [
       "                                                    articleCounts\n",
       "International Conference on Information and Kno...             61\n",
       "Knowledge-Based Systems                                        31"
      ]
     },
     "execution_count": 204,
     "metadata": {},
     "output_type": "execute_result"
    }
   ],
   "source": [
    "df_journal_count.head(2)"
   ]
  },
  {
   "cell_type": "code",
   "execution_count": 205,
   "metadata": {},
   "outputs": [],
   "source": [
    "df_journal_count.to_csv(\"df_journal_count.csv\")"
   ]
  },
  {
   "cell_type": "markdown",
   "metadata": {},
   "source": [
    "### Preprocessing abstracts"
   ]
  },
  {
   "cell_type": "code",
   "execution_count": 206,
   "metadata": {},
   "outputs": [],
   "source": [
    "# some abstracts are NaN; filter these out\n",
    "df_ab['abstract'] = df_ab['abstract'].fillna(\"-\")"
   ]
  },
  {
   "cell_type": "markdown",
   "metadata": {},
   "source": [
    "Need to get rid of Copyright tags in footers such as: _© 2012 Elsevier B.V. All rights reserved._\n",
    "Strategy: look for regex that matchines between © 20 and .\n",
    "\n",
    "Examples: \"© 2014 Copyright Taylor and Francis Group, LLC.\"; \"Copyright is held by the owner/author(s).\", \"Copyright 2013 ACM.\"\n",
    "-therefore, not all footers have copyright symbol, but they do have the word capitalized\n"
   ]
  },
  {
   "cell_type": "code",
   "execution_count": 207,
   "metadata": {
    "scrolled": false
   },
   "outputs": [],
   "source": [
    "symbol_pattern = \"©(.*)\"\n",
    "word_pattern = \"Copyright(.*)\"\n",
    "df_ab[\"abstract_cleaned\"] = \"\" # prep column\n",
    "\n",
    "for i, row in df_ab.iterrows():    \n",
    "    if len(row[\"abstract\"])>1:\n",
    "        if \"Copyright\" in row[\"abstract\"]:         \n",
    "            abstract_cleaned = re.sub(word_pattern, \"\", row[\"abstract\"])\n",
    "        elif \"©\" in row[\"abstract\"]:\n",
    "            abstract_cleaned = re.sub(symbol_pattern, \"\", row[\"abstract\"])\n",
    "        else:\n",
    "            abstract_cleaned = row[\"abstract\"]\n",
    "    df_ab.loc[i,\"abstract_cleaned\"]= abstract_cleaned.replace(\"All rights reserved\", \"\")"
   ]
  },
  {
   "cell_type": "code",
   "execution_count": 208,
   "metadata": {},
   "outputs": [],
   "source": [
    "df_ab = df_ab.drop(columns=[\"Unnamed: 0\"])"
   ]
  },
  {
   "cell_type": "code",
   "execution_count": 209,
   "metadata": {},
   "outputs": [
    {
     "data": {
      "text/html": [
       "<div>\n",
       "<style scoped>\n",
       "    .dataframe tbody tr th:only-of-type {\n",
       "        vertical-align: middle;\n",
       "    }\n",
       "\n",
       "    .dataframe tbody tr th {\n",
       "        vertical-align: top;\n",
       "    }\n",
       "\n",
       "    .dataframe thead th {\n",
       "        text-align: right;\n",
       "    }\n",
       "</style>\n",
       "<table border=\"1\" class=\"dataframe\">\n",
       "  <thead>\n",
       "    <tr style=\"text-align: right;\">\n",
       "      <th></th>\n",
       "      <th>abstract</th>\n",
       "      <th>date</th>\n",
       "      <th>id</th>\n",
       "      <th>publicationName</th>\n",
       "      <th>title</th>\n",
       "      <th>abstract_cleaned</th>\n",
       "    </tr>\n",
       "  </thead>\n",
       "  <tbody>\n",
       "    <tr>\n",
       "      <th>0</th>\n",
       "      <td>Well-being as an intangible, philosophical, an...</td>\n",
       "      <td>2018-12-01</td>\n",
       "      <td>2-s2.0-85048543703</td>\n",
       "      <td>Tourism Management</td>\n",
       "      <td>Hedonic and eudaimonic well-being: A psycholin...</td>\n",
       "      <td>Well-being as an intangible, philosophical, an...</td>\n",
       "    </tr>\n",
       "    <tr>\n",
       "      <th>1</th>\n",
       "      <td>The rapid growth of the Chinese economy has re...</td>\n",
       "      <td>2018-11-20</td>\n",
       "      <td>2-s2.0-85053080182</td>\n",
       "      <td>Journal of Cleaner Production</td>\n",
       "      <td>Heterogeneity evaluation of China's provincial...</td>\n",
       "      <td>The rapid growth of the Chinese economy has re...</td>\n",
       "    </tr>\n",
       "    <tr>\n",
       "      <th>2</th>\n",
       "      <td>The aim of this study is to introduce a decisi...</td>\n",
       "      <td>2018-11-10</td>\n",
       "      <td>2-s2.0-85007493460</td>\n",
       "      <td>Total Quality Management and Business Excellence</td>\n",
       "      <td>Topic modelling-based decision framework for a...</td>\n",
       "      <td>The aim of this study is to introduce a decisi...</td>\n",
       "    </tr>\n",
       "    <tr>\n",
       "      <th>3</th>\n",
       "      <td>The new reality of networked publics on social...</td>\n",
       "      <td>2018-11-01</td>\n",
       "      <td>2-s2.0-85050884991</td>\n",
       "      <td>Public Relations Review</td>\n",
       "      <td>Examining multiplicity and dynamics of publics...</td>\n",
       "      <td>The new reality of networked publics on social...</td>\n",
       "    </tr>\n",
       "    <tr>\n",
       "      <th>4</th>\n",
       "      <td>Topic models often produce unexplainable topic...</td>\n",
       "      <td>2018-11-01</td>\n",
       "      <td>2-s2.0-85048519194</td>\n",
       "      <td>Information Processing and Management</td>\n",
       "      <td>Exploring coherent topics by topic modeling wi...</td>\n",
       "      <td>Topic models often produce unexplainable topic...</td>\n",
       "    </tr>\n",
       "  </tbody>\n",
       "</table>\n",
       "</div>"
      ],
      "text/plain": [
       "                                            abstract        date  \\\n",
       "0  Well-being as an intangible, philosophical, an...  2018-12-01   \n",
       "1  The rapid growth of the Chinese economy has re...  2018-11-20   \n",
       "2  The aim of this study is to introduce a decisi...  2018-11-10   \n",
       "3  The new reality of networked publics on social...  2018-11-01   \n",
       "4  Topic models often produce unexplainable topic...  2018-11-01   \n",
       "\n",
       "                   id                                   publicationName  \\\n",
       "0  2-s2.0-85048543703                                Tourism Management   \n",
       "1  2-s2.0-85053080182                     Journal of Cleaner Production   \n",
       "2  2-s2.0-85007493460  Total Quality Management and Business Excellence   \n",
       "3  2-s2.0-85050884991                           Public Relations Review   \n",
       "4  2-s2.0-85048519194             Information Processing and Management   \n",
       "\n",
       "                                               title  \\\n",
       "0  Hedonic and eudaimonic well-being: A psycholin...   \n",
       "1  Heterogeneity evaluation of China's provincial...   \n",
       "2  Topic modelling-based decision framework for a...   \n",
       "3  Examining multiplicity and dynamics of publics...   \n",
       "4  Exploring coherent topics by topic modeling wi...   \n",
       "\n",
       "                                    abstract_cleaned  \n",
       "0  Well-being as an intangible, philosophical, an...  \n",
       "1  The rapid growth of the Chinese economy has re...  \n",
       "2  The aim of this study is to introduce a decisi...  \n",
       "3  The new reality of networked publics on social...  \n",
       "4  Topic models often produce unexplainable topic...  "
      ]
     },
     "execution_count": 209,
     "metadata": {},
     "output_type": "execute_result"
    }
   ],
   "source": [
    "df_ab.head(5)"
   ]
  },
  {
   "cell_type": "markdown",
   "metadata": {},
   "source": [
    "How many rows have NaN abstracts?"
   ]
  },
  {
   "cell_type": "code",
   "execution_count": 210,
   "metadata": {},
   "outputs": [
    {
     "data": {
      "text/plain": [
       "abstract            654\n",
       "date                654\n",
       "id                  654\n",
       "publicationName     654\n",
       "title               654\n",
       "abstract_cleaned    654\n",
       "dtype: int64"
      ]
     },
     "execution_count": 210,
     "metadata": {},
     "output_type": "execute_result"
    }
   ],
   "source": [
    "df_ab.count()"
   ]
  },
  {
   "cell_type": "code",
   "execution_count": 211,
   "metadata": {},
   "outputs": [
    {
     "name": "stdout",
     "output_type": "stream",
     "text": [
      "[99, 209, 351, 606]\n"
     ]
    }
   ],
   "source": [
    "rowsWithNoAbstracts = []\n",
    "for i, row in df_ab.iterrows():    \n",
    "    if len(row[\"abstract\"])<2: rowsWithNoAbstracts.append(i)\n",
    "print(rowsWithNoAbstracts)"
   ]
  },
  {
   "cell_type": "markdown",
   "metadata": {},
   "source": [
    "Therefore need to remove these"
   ]
  },
  {
   "cell_type": "code",
   "execution_count": 212,
   "metadata": {},
   "outputs": [],
   "source": [
    "df_ab = df_ab.drop(rowsWithNoAbstracts)"
   ]
  },
  {
   "cell_type": "code",
   "execution_count": 213,
   "metadata": {},
   "outputs": [
    {
     "data": {
      "text/plain": [
       "abstract            650\n",
       "date                650\n",
       "id                  650\n",
       "publicationName     650\n",
       "title               650\n",
       "abstract_cleaned    650\n",
       "dtype: int64"
      ]
     },
     "execution_count": 213,
     "metadata": {},
     "output_type": "execute_result"
    }
   ],
   "source": [
    "df_ab.count()"
   ]
  },
  {
   "cell_type": "code",
   "execution_count": 214,
   "metadata": {},
   "outputs": [
    {
     "data": {
      "text/plain": [
       "307"
      ]
     },
     "execution_count": 214,
     "metadata": {},
     "output_type": "execute_result"
    }
   ],
   "source": [
    "df_ab['publicationName'].nunique()"
   ]
  },
  {
   "cell_type": "markdown",
   "metadata": {},
   "source": [
    "Now, save this file as csv (will be used in processing LDA output)"
   ]
  },
  {
   "cell_type": "code",
   "execution_count": 215,
   "metadata": {},
   "outputs": [],
   "source": [
    "df_ab.to_csv(\"article_list_cleaned.csv\")"
   ]
  },
  {
   "cell_type": "markdown",
   "metadata": {},
   "source": [
    "Now ready to pre-process abstract column"
   ]
  },
  {
   "cell_type": "code",
   "execution_count": 216,
   "metadata": {},
   "outputs": [],
   "source": [
    "abstracts_all = df_ab['abstract_cleaned']"
   ]
  },
  {
   "cell_type": "markdown",
   "metadata": {},
   "source": [
    "### now, pre-process the text for LDA topic modeling"
   ]
  },
  {
   "cell_type": "code",
   "execution_count": 217,
   "metadata": {},
   "outputs": [
    {
     "name": "stdout",
     "output_type": "stream",
     "text": [
      "[nltk_data] Downloading package wordnet to /Users/Tim/nltk_data...\n",
      "[nltk_data]   Package wordnet is already up-to-date!\n"
     ]
    }
   ],
   "source": [
    "import gensim\n",
    "from gensim.utils import simple_preprocess\n",
    "from gensim.models.coherencemodel import CoherenceModel\n",
    "from gensim.models.ldamodel import LdaModel\n",
    "from gensim.models.hdpmodel import HdpModel\n",
    "from gensim.models.wrappers import LdaVowpalWabbit, LdaMallet\n",
    "from gensim.corpora.dictionary import Dictionary\n",
    "from gensim.parsing.preprocessing import STOPWORDS\n",
    "from nltk.stem import WordNetLemmatizer, SnowballStemmer\n",
    "from nltk.stem.porter import *\n",
    "import numpy as np\n",
    "np.random.seed(2018)\n",
    "import nltk\n",
    "nltk.download('wordnet')\n",
    "from nltk.tokenize import sent_tokenize\n",
    "from nltk.tokenize import word_tokenize"
   ]
  },
  {
   "cell_type": "markdown",
   "metadata": {},
   "source": [
    "##### Preprocessing methods"
   ]
  },
  {
   "cell_type": "code",
   "execution_count": 218,
   "metadata": {},
   "outputs": [],
   "source": [
    "en_stopwords_path = home_path+'/nltk_data/corpora/stopwords/english'\n",
    "en_stopwords = [line.rstrip('\\n') for line in open(en_stopwords_path)]"
   ]
  },
  {
   "cell_type": "code",
   "execution_count": 219,
   "metadata": {},
   "outputs": [],
   "source": [
    "def removeStopWordsAndSingularizePhrase(phrase): # remove personal pronouns , articles, prepositions; this helps clean phrases for comparison\n",
    "    #phrase = unidecode(phrase) # for simplicity, only working in ASCII, need to look for a pythonic way of doing this that is not dependent on a package    \n",
    "    #phrase = phrase.replace(\"-\", \" \") # replace dashes with periods\n",
    "    phrase = phrase.replace(\"'s\", \"\") \n",
    "    phrase = phrase.replace(\",\", \"\")     \n",
    "    phrase_tb = TextBlob(phrase)\n",
    "    #stemmer = PorterStemmer()\n",
    "    wordnet_lemmatizer = WordNetLemmatizer() # more here: http://textminingonline.com/dive-into-nltk-part-iv-stemming-and-lemmatization\n",
    "    phrase_clean = \"\"\n",
    "    for word in phrase_tb.words:\n",
    "        if len(word)>1: # this may be controversial\n",
    "            regex_pattern = re.compile(r'\\b%s\\b'%word, re.I)  \n",
    "            #if word not in en_stopwords+[\"the\", \"a\"]: # this will not match case insensitivity \n",
    "            wordInStopWordsFlag = False # default\n",
    "            for stopword in en_stopwords+[\"the\", \"a\"]: # this is a more robust alternative approach\n",
    "                if regex_pattern.search(stopword): # note: this is the wide matching condition, contrast this to equality matching                                                    \n",
    "                    wordInStopWordsFlag = True\n",
    "                    break\n",
    "            if wordInStopWordsFlag==False:\n",
    "                word_replacement = wordnet_lemmatizer.lemmatize(word)\n",
    "                #if word_replacement != word:                 \n",
    "                #    word_replacement = word_replacement+\"*\" # this indicates a phrase has been stemmed\n",
    "                #    #print \"word_replacement:\", word_replacement\n",
    "                phrase_clean=phrase_clean+word_replacement+\" \"  \n",
    "    return phrase_clean.strip()\n",
    "\n"
   ]
  },
  {
   "cell_type": "code",
   "execution_count": 220,
   "metadata": {},
   "outputs": [],
   "source": [
    "def lemmatize_stemming(text):\n",
    "    return WordNetLemmatizer().lemmatize(text)#, pos='v')"
   ]
  },
  {
   "cell_type": "code",
   "execution_count": 221,
   "metadata": {},
   "outputs": [],
   "source": [
    "def preprocess(text):\n",
    "    result = []\n",
    "    text_cleaned = text\n",
    "    text_cleaned = re.sub(\"All rights reserved\\.\",\"\",text_cleaned, flags=re.IGNORECASE)    \n",
    "    for sent in sent_tokenize(text_cleaned):\n",
    "        #print (sent)\n",
    "        for word in word_tokenize(sent):            \n",
    "            #print (word)\n",
    "            word_cleaned = removeStopWordsAndSingularizePhrase(word).lower()            \n",
    "            if word_cleaned not in en_stopwords and len(word_cleaned) > 3:\n",
    "                #print (word_cleaned)\n",
    "                result.append(word_cleaned)\n",
    "    #        result.append(lemmatize_stemming(token))\n",
    "    #for token in gensim.utils.simple_preprocess(text_cleaned):\n",
    "    #    if token not in gensim.parsing.preprocessing.STOPWORDS and len(token) > 3:\n",
    "    #        result.append(lemmatize_stemming(token))\n",
    "    return result"
   ]
  },
  {
   "cell_type": "markdown",
   "metadata": {},
   "source": [
    "#### Sample document"
   ]
  },
  {
   "cell_type": "code",
   "execution_count": 225,
   "metadata": {},
   "outputs": [
    {
     "data": {
      "text/plain": [
       "\"Well-being as an intangible, philosophical, and multi-faceted phenomenon is hard to measure. By taking a psycholinguistic expression of well-being, we measure how tourists' experiencing holiday destinations affects their well-being states. The well-being state includes increases or decreases in Hedonia and Eudaimonia as a result of destination experiences. We apply text topic modelling to analyse big Web 2.0 datasets. These include tourists’ self-reports of their experiences during their visit to destination countries collected from Travelblog.org weblog. The findings from a Global sample, New Zealand, and France are compared to generalise Hedonia and Eudaimonia conceptualisations across these destinations. The outputs also characterise experiences with maximum well-being and ill-being that include both Hedonia and Eudaimonia. Managerial implications include how a destination image may be managed according to desired well-being states. This also helps tourists make informed decisions about their holiday destinations.\""
      ]
     },
     "execution_count": 225,
     "metadata": {},
     "output_type": "execute_result"
    }
   ],
   "source": [
    "# sample doc\n",
    "abstracts_all[0]"
   ]
  },
  {
   "cell_type": "code",
   "execution_count": 224,
   "metadata": {
    "scrolled": true
   },
   "outputs": [
    {
     "name": "stdout",
     "output_type": "stream",
     "text": [
      "['well-being', 'intangible', 'philosophical', 'multi-faceted', 'phenomenon', 'hard', 'measure', 'taking', 'psycholinguistic', 'expression', 'well-being', 'measure', 'tourist', 'experiencing', 'holiday', 'destination', 'affect', 'well-being', 'state', 'well-being', 'state', 'includes', 'increase', 'decrease', 'hedonia', 'eudaimonia', 'result', 'destination', 'experience', 'apply', 'text', 'topic', 'modelling', 'analyse', 'datasets', 'include', 'tourist', 'self-reports', 'experience', 'visit', 'destination', 'country', 'collected', 'travelblog.org', 'weblog', 'finding', 'global', 'sample', 'zealand', 'france', 'compared', 'generalise', 'hedonia', 'eudaimonia', 'conceptualisation', 'across', 'destination', 'output', 'also', 'characterise', 'experience', 'maximum', 'well-being', 'ill-being', 'include', 'hedonia', 'eudaimonia', 'managerial', 'implication', 'include', 'destination', 'image', 'managed', 'according', 'desired', 'well-being', 'state', 'also', 'help', 'tourist', 'make', 'informed', 'decision', 'holiday', 'destination']\n"
     ]
    }
   ],
   "source": [
    "# sample doc\n",
    "print(preprocess(abstracts_all[0]))"
   ]
  },
  {
   "cell_type": "markdown",
   "metadata": {},
   "source": [
    "Now, clean all documents"
   ]
  },
  {
   "cell_type": "code",
   "execution_count": 226,
   "metadata": {},
   "outputs": [],
   "source": [
    "# all docs\n",
    "processed_docs = [preprocess(abstract) for abstract in abstracts_all]"
   ]
  },
  {
   "cell_type": "code",
   "execution_count": 227,
   "metadata": {},
   "outputs": [],
   "source": [
    "processed_docs_as_string = [' '.join(doc) for doc in processed_docs ]"
   ]
  },
  {
   "cell_type": "markdown",
   "metadata": {},
   "source": [
    "#### should we pre-process phrases?"
   ]
  },
  {
   "cell_type": "markdown",
   "metadata": {},
   "source": [
    "This could be informed by trigram and bigram analysis"
   ]
  },
  {
   "cell_type": "code",
   "execution_count": 228,
   "metadata": {},
   "outputs": [],
   "source": [
    "import nltk\n",
    "from nltk.util import ngrams\n",
    "import collections\n",
    "from collections import Counter\n",
    "bigrams_counter = collections.Counter()\n",
    "trigrams_counter = collections.Counter()"
   ]
  },
  {
   "cell_type": "code",
   "execution_count": 233,
   "metadata": {},
   "outputs": [],
   "source": [
    "for abstract_processed in processed_docs:\n",
    "    bigrams = ngrams(abstract_processed,2)\n",
    "    trigrams = ngrams(abstract_processed,3)\n",
    "    bigrams_counter.update(bigrams)\n",
    "    trigrams_counter.update(trigrams)"
   ]
  },
  {
   "cell_type": "code",
   "execution_count": 234,
   "metadata": {},
   "outputs": [
    {
     "name": "stdout",
     "output_type": "stream",
     "text": [
      "Most common trigrams:\n",
      "('latent', 'dirichlet', 'allocation'):     262\n",
      "('experimental', 'result', 'show'):      56\n",
      "('natural', 'language', 'processing'):      48\n",
      "('probabilistic', 'topic', 'modeling'):      46\n",
      "('topic', 'modeling', 'approach'):      46\n",
      "('topic', 'modeling', 'technique'):      44\n",
      "('analysis', 'topic', 'modeling'):      42\n",
      "('using', 'topic', 'modeling'):      40\n",
      "('online', 'social', 'network'):      40\n",
      "('probabilistic', 'topic', 'model'):      40\n",
      "('social', 'medium', 'data'):      38\n",
      "('dirichlet', 'allocation', 'model'):      34\n",
      "('dirichlet', 'allocation', 'topic'):      28\n",
      "('latent', 'semantic', 'analysis'):      26\n",
      "('proceeding', 'contain', 'paper'):      26\n",
      "('topic', 'modeling', 'method'):      24\n",
      "('online', 'product', 'review'):      24\n",
      "('paper', 'propose', 'novel'):      22\n",
      "('topic', 'modeling', 'algorithm'):      22\n",
      "('probabilistic', 'latent', 'semantic'):      22\n",
      "('sentiment', 'analysis', 'topic'):      20\n",
      "('social', 'network', 'analysis'):      20\n",
      "('based', 'latent', 'dirichlet'):      20\n",
      "('hierarchical', 'dirichlet', 'process'):      20\n",
      "('health', 'information', 'technology'):      20\n",
      "('design', 'science', 'research'):      20\n",
      "('machine', 'learning', 'algorithm'):      18\n",
      "('topic', 'model', 'used'):      18\n",
      "('approach', 'topic', 'modeling'):      18\n",
      "('result', 'show', 'proposed'):      18\n",
      "('text', 'mining', 'method'):      18\n",
      "('social', 'networking', 'site'):      18\n",
      "('probabilistic', 'generative', 'model'):      18\n",
      "('model', 'latent', 'dirichlet'):      18\n",
      "('different', 'time', 'period'):      16\n",
      "('text', 'analysis', 'method'):      16\n",
      "('topic', 'model', 'based'):      16\n",
      "('machine', 'learning', 'technique'):      16\n",
      "('using', 'latent', 'dirichlet'):      16\n",
      "('unsupervised', 'topic', 'modeling'):      16\n",
      "('play', 'important', 'role'):      16\n",
      "('social', 'medium', 'site'):      16\n",
      "('contain', 'paper', 'topic'):      16\n",
      "('paper', 'topic', 'discussed'):      16\n",
      "('topic', 'discussed', 'include'):      16\n",
      "('machine', 'learning', 'approach'):      16\n",
      "('visual', 'perceptual', 'behaviour'):      16\n",
      "('critical', 'discourse', 'analysis'):      16\n",
      "('topic', 'model', 'latent'):      16\n",
      "('allocation', 'topic', 'model'):      14\n"
     ]
    }
   ],
   "source": [
    "print ('Most common trigrams:')\n",
    "for letter, count in trigrams_counter.most_common(50):\n",
    "    print ('%s: %7d' % (letter, count))"
   ]
  },
  {
   "cell_type": "code",
   "execution_count": 235,
   "metadata": {},
   "outputs": [
    {
     "name": "stdout",
     "output_type": "stream",
     "text": [
      "Most common bigrams:\n",
      "('topic', 'modeling'):     868\n",
      "('topic', 'model'):     686\n",
      "('social', 'medium'):     314\n",
      "('latent', 'dirichlet'):     270\n",
      "('dirichlet', 'allocation'):     266\n",
      "('social', 'network'):     190\n",
      "('result', 'show'):     154\n",
      "('experimental', 'result'):     146\n",
      "('topic', 'modelling'):     128\n",
      "('text', 'mining'):     120\n",
      "('short', 'text'):     118\n",
      "('paper', 'propose'):     118\n",
      "('latent', 'topic'):     116\n",
      "('machine', 'learning'):     108\n",
      "('sentiment', 'analysis'):      96\n",
      "('probabilistic', 'topic'):      92\n",
      "('paper', 'present'):      84\n",
      "('proposed', 'method'):      78\n",
      "('natural', 'language'):      76\n",
      "('research', 'topic'):      72\n",
      "('text', 'analysis'):      72\n",
      "('public', 'opinion'):      66\n",
      "('proposed', 'model'):      66\n",
      "('number', 'topic'):      64\n",
      "('using', 'topic'):      62\n",
      "('case', 'study'):      62\n",
      "('information', 'system'):      62\n",
      "('climate', 'change'):      60\n",
      "('information', 'retrieval'):      58\n",
      "('text', 'data'):      56\n"
     ]
    }
   ],
   "source": [
    "print ('Most common bigrams:')\n",
    "for letter, count in bigrams_counter.most_common(30):\n",
    "    print ('%s: %7d' % (letter, count))"
   ]
  },
  {
   "cell_type": "code",
   "execution_count": 236,
   "metadata": {},
   "outputs": [],
   "source": [
    "import matplotlib as plt"
   ]
  },
  {
   "cell_type": "code",
   "execution_count": 237,
   "metadata": {},
   "outputs": [],
   "source": [
    "bigrams_counter_dict =  dict(bigrams_counter)"
   ]
  },
  {
   "cell_type": "code",
   "execution_count": 238,
   "metadata": {},
   "outputs": [],
   "source": [
    "bigrams_counter_df = pd.DataFrame.from_dict(bigrams_counter_dict, orient='index')"
   ]
  },
  {
   "cell_type": "code",
   "execution_count": 239,
   "metadata": {},
   "outputs": [],
   "source": [
    "bigrams_counter_df = bigrams_counter_df.sort_values(by=[0],ascending=False\n",
    "                                                     )"
   ]
  },
  {
   "cell_type": "code",
   "execution_count": 240,
   "metadata": {},
   "outputs": [
    {
     "data": {
      "text/plain": [
       "<matplotlib.axes._subplots.AxesSubplot at 0x1243ef278>"
      ]
     },
     "execution_count": 240,
     "metadata": {},
     "output_type": "execute_result"
    },
    {
     "data": {
      "image/png": "[encoded data removed]",
      "text/plain": [
       "<Figure size 432x288 with 1 Axes>"
      ]
     },
     "metadata": {
      "needs_background": "light"
     },
     "output_type": "display_data"
    }
   ],
   "source": [
    "bigrams_counter_df.plot()"
   ]
  },
  {
   "cell_type": "code",
   "execution_count": 241,
   "metadata": {},
   "outputs": [
    {
     "data": {
      "text/html": [
       "<div>\n",
       "<style scoped>\n",
       "    .dataframe tbody tr th:only-of-type {\n",
       "        vertical-align: middle;\n",
       "    }\n",
       "\n",
       "    .dataframe tbody tr th {\n",
       "        vertical-align: top;\n",
       "    }\n",
       "\n",
       "    .dataframe thead th {\n",
       "        text-align: right;\n",
       "    }\n",
       "</style>\n",
       "<table border=\"1\" class=\"dataframe\">\n",
       "  <thead>\n",
       "    <tr style=\"text-align: right;\">\n",
       "      <th></th>\n",
       "      <th>0</th>\n",
       "    </tr>\n",
       "  </thead>\n",
       "  <tbody>\n",
       "    <tr>\n",
       "      <th>(topic, modeling)</th>\n",
       "      <td>868</td>\n",
       "    </tr>\n",
       "    <tr>\n",
       "      <th>(topic, model)</th>\n",
       "      <td>686</td>\n",
       "    </tr>\n",
       "    <tr>\n",
       "      <th>(social, medium)</th>\n",
       "      <td>314</td>\n",
       "    </tr>\n",
       "    <tr>\n",
       "      <th>(latent, dirichlet)</th>\n",
       "      <td>270</td>\n",
       "    </tr>\n",
       "    <tr>\n",
       "      <th>(dirichlet, allocation)</th>\n",
       "      <td>266</td>\n",
       "    </tr>\n",
       "    <tr>\n",
       "      <th>(social, network)</th>\n",
       "      <td>190</td>\n",
       "    </tr>\n",
       "    <tr>\n",
       "      <th>(result, show)</th>\n",
       "      <td>154</td>\n",
       "    </tr>\n",
       "    <tr>\n",
       "      <th>(experimental, result)</th>\n",
       "      <td>146</td>\n",
       "    </tr>\n",
       "    <tr>\n",
       "      <th>(topic, modelling)</th>\n",
       "      <td>128</td>\n",
       "    </tr>\n",
       "    <tr>\n",
       "      <th>(text, mining)</th>\n",
       "      <td>120</td>\n",
       "    </tr>\n",
       "    <tr>\n",
       "      <th>(short, text)</th>\n",
       "      <td>118</td>\n",
       "    </tr>\n",
       "    <tr>\n",
       "      <th>(paper, propose)</th>\n",
       "      <td>118</td>\n",
       "    </tr>\n",
       "    <tr>\n",
       "      <th>(latent, topic)</th>\n",
       "      <td>116</td>\n",
       "    </tr>\n",
       "    <tr>\n",
       "      <th>(machine, learning)</th>\n",
       "      <td>108</td>\n",
       "    </tr>\n",
       "    <tr>\n",
       "      <th>(sentiment, analysis)</th>\n",
       "      <td>96</td>\n",
       "    </tr>\n",
       "    <tr>\n",
       "      <th>(probabilistic, topic)</th>\n",
       "      <td>92</td>\n",
       "    </tr>\n",
       "    <tr>\n",
       "      <th>(paper, present)</th>\n",
       "      <td>84</td>\n",
       "    </tr>\n",
       "    <tr>\n",
       "      <th>(proposed, method)</th>\n",
       "      <td>78</td>\n",
       "    </tr>\n",
       "    <tr>\n",
       "      <th>(natural, language)</th>\n",
       "      <td>76</td>\n",
       "    </tr>\n",
       "    <tr>\n",
       "      <th>(research, topic)</th>\n",
       "      <td>72</td>\n",
       "    </tr>\n",
       "    <tr>\n",
       "      <th>(text, analysis)</th>\n",
       "      <td>72</td>\n",
       "    </tr>\n",
       "    <tr>\n",
       "      <th>(proposed, model)</th>\n",
       "      <td>66</td>\n",
       "    </tr>\n",
       "    <tr>\n",
       "      <th>(public, opinion)</th>\n",
       "      <td>66</td>\n",
       "    </tr>\n",
       "    <tr>\n",
       "      <th>(number, topic)</th>\n",
       "      <td>64</td>\n",
       "    </tr>\n",
       "    <tr>\n",
       "      <th>(information, system)</th>\n",
       "      <td>62</td>\n",
       "    </tr>\n",
       "  </tbody>\n",
       "</table>\n",
       "</div>"
      ],
      "text/plain": [
       "                           0\n",
       "(topic, modeling)        868\n",
       "(topic, model)           686\n",
       "(social, medium)         314\n",
       "(latent, dirichlet)      270\n",
       "(dirichlet, allocation)  266\n",
       "(social, network)        190\n",
       "(result, show)           154\n",
       "(experimental, result)   146\n",
       "(topic, modelling)       128\n",
       "(text, mining)           120\n",
       "(short, text)            118\n",
       "(paper, propose)         118\n",
       "(latent, topic)          116\n",
       "(machine, learning)      108\n",
       "(sentiment, analysis)     96\n",
       "(probabilistic, topic)    92\n",
       "(paper, present)          84\n",
       "(proposed, method)        78\n",
       "(natural, language)       76\n",
       "(research, topic)         72\n",
       "(text, analysis)          72\n",
       "(proposed, model)         66\n",
       "(public, opinion)         66\n",
       "(number, topic)           64\n",
       "(information, system)     62"
      ]
     },
     "execution_count": 241,
     "metadata": {},
     "output_type": "execute_result"
    }
   ],
   "source": [
    "bigrams_counter_df.head(25)"
   ]
  },
  {
   "cell_type": "code",
   "execution_count": 242,
   "metadata": {},
   "outputs": [],
   "source": [
    "trigrams_counter_dict =  dict(trigrams_counter)"
   ]
  },
  {
   "cell_type": "code",
   "execution_count": 243,
   "metadata": {},
   "outputs": [],
   "source": [
    "trigrams_counter_df = pd.DataFrame.from_dict(trigrams_counter_dict, orient='index')"
   ]
  },
  {
   "cell_type": "code",
   "execution_count": 244,
   "metadata": {},
   "outputs": [],
   "source": [
    "trigrams_counter_df = trigrams_counter_df.sort_values(by=[0],ascending=False\n",
    "                                                     )"
   ]
  },
  {
   "cell_type": "code",
   "execution_count": 245,
   "metadata": {
    "scrolled": true
   },
   "outputs": [
    {
     "data": {
      "text/plain": [
       "<matplotlib.axes._subplots.AxesSubplot at 0x124422be0>"
      ]
     },
     "execution_count": 245,
     "metadata": {},
     "output_type": "execute_result"
    },
    {
     "data": {
      "image/png": "[encoded data removed]",
      "text/plain": [
       "<Figure size 432x288 with 1 Axes>"
      ]
     },
     "metadata": {
      "needs_background": "light"
     },
     "output_type": "display_data"
    }
   ],
   "source": [
    "trigrams_counter_df.plot()"
   ]
  },
  {
   "cell_type": "code",
   "execution_count": 246,
   "metadata": {
    "scrolled": false
   },
   "outputs": [
    {
     "data": {
      "text/html": [
       "<div>\n",
       "<style scoped>\n",
       "    .dataframe tbody tr th:only-of-type {\n",
       "        vertical-align: middle;\n",
       "    }\n",
       "\n",
       "    .dataframe tbody tr th {\n",
       "        vertical-align: top;\n",
       "    }\n",
       "\n",
       "    .dataframe thead th {\n",
       "        text-align: right;\n",
       "    }\n",
       "</style>\n",
       "<table border=\"1\" class=\"dataframe\">\n",
       "  <thead>\n",
       "    <tr style=\"text-align: right;\">\n",
       "      <th></th>\n",
       "      <th>0</th>\n",
       "    </tr>\n",
       "  </thead>\n",
       "  <tbody>\n",
       "    <tr>\n",
       "      <th>(latent, dirichlet, allocation)</th>\n",
       "      <td>262</td>\n",
       "    </tr>\n",
       "    <tr>\n",
       "      <th>(experimental, result, show)</th>\n",
       "      <td>56</td>\n",
       "    </tr>\n",
       "    <tr>\n",
       "      <th>(natural, language, processing)</th>\n",
       "      <td>48</td>\n",
       "    </tr>\n",
       "    <tr>\n",
       "      <th>(topic, modeling, approach)</th>\n",
       "      <td>46</td>\n",
       "    </tr>\n",
       "    <tr>\n",
       "      <th>(probabilistic, topic, modeling)</th>\n",
       "      <td>46</td>\n",
       "    </tr>\n",
       "    <tr>\n",
       "      <th>(topic, modeling, technique)</th>\n",
       "      <td>44</td>\n",
       "    </tr>\n",
       "    <tr>\n",
       "      <th>(analysis, topic, modeling)</th>\n",
       "      <td>42</td>\n",
       "    </tr>\n",
       "    <tr>\n",
       "      <th>(using, topic, modeling)</th>\n",
       "      <td>40</td>\n",
       "    </tr>\n",
       "    <tr>\n",
       "      <th>(probabilistic, topic, model)</th>\n",
       "      <td>40</td>\n",
       "    </tr>\n",
       "    <tr>\n",
       "      <th>(online, social, network)</th>\n",
       "      <td>40</td>\n",
       "    </tr>\n",
       "    <tr>\n",
       "      <th>(social, medium, data)</th>\n",
       "      <td>38</td>\n",
       "    </tr>\n",
       "    <tr>\n",
       "      <th>(dirichlet, allocation, model)</th>\n",
       "      <td>34</td>\n",
       "    </tr>\n",
       "    <tr>\n",
       "      <th>(dirichlet, allocation, topic)</th>\n",
       "      <td>28</td>\n",
       "    </tr>\n",
       "    <tr>\n",
       "      <th>(latent, semantic, analysis)</th>\n",
       "      <td>26</td>\n",
       "    </tr>\n",
       "    <tr>\n",
       "      <th>(proceeding, contain, paper)</th>\n",
       "      <td>26</td>\n",
       "    </tr>\n",
       "    <tr>\n",
       "      <th>(online, product, review)</th>\n",
       "      <td>24</td>\n",
       "    </tr>\n",
       "    <tr>\n",
       "      <th>(topic, modeling, method)</th>\n",
       "      <td>24</td>\n",
       "    </tr>\n",
       "    <tr>\n",
       "      <th>(paper, propose, novel)</th>\n",
       "      <td>22</td>\n",
       "    </tr>\n",
       "    <tr>\n",
       "      <th>(probabilistic, latent, semantic)</th>\n",
       "      <td>22</td>\n",
       "    </tr>\n",
       "    <tr>\n",
       "      <th>(topic, modeling, algorithm)</th>\n",
       "      <td>22</td>\n",
       "    </tr>\n",
       "    <tr>\n",
       "      <th>(based, latent, dirichlet)</th>\n",
       "      <td>20</td>\n",
       "    </tr>\n",
       "    <tr>\n",
       "      <th>(social, network, analysis)</th>\n",
       "      <td>20</td>\n",
       "    </tr>\n",
       "    <tr>\n",
       "      <th>(design, science, research)</th>\n",
       "      <td>20</td>\n",
       "    </tr>\n",
       "    <tr>\n",
       "      <th>(sentiment, analysis, topic)</th>\n",
       "      <td>20</td>\n",
       "    </tr>\n",
       "    <tr>\n",
       "      <th>(health, information, technology)</th>\n",
       "      <td>20</td>\n",
       "    </tr>\n",
       "    <tr>\n",
       "      <th>(hierarchical, dirichlet, process)</th>\n",
       "      <td>20</td>\n",
       "    </tr>\n",
       "    <tr>\n",
       "      <th>(text, mining, method)</th>\n",
       "      <td>18</td>\n",
       "    </tr>\n",
       "    <tr>\n",
       "      <th>(approach, topic, modeling)</th>\n",
       "      <td>18</td>\n",
       "    </tr>\n",
       "    <tr>\n",
       "      <th>(topic, model, used)</th>\n",
       "      <td>18</td>\n",
       "    </tr>\n",
       "    <tr>\n",
       "      <th>(probabilistic, generative, model)</th>\n",
       "      <td>18</td>\n",
       "    </tr>\n",
       "  </tbody>\n",
       "</table>\n",
       "</div>"
      ],
      "text/plain": [
       "                                      0\n",
       "(latent, dirichlet, allocation)     262\n",
       "(experimental, result, show)         56\n",
       "(natural, language, processing)      48\n",
       "(topic, modeling, approach)          46\n",
       "(probabilistic, topic, modeling)     46\n",
       "(topic, modeling, technique)         44\n",
       "(analysis, topic, modeling)          42\n",
       "(using, topic, modeling)             40\n",
       "(probabilistic, topic, model)        40\n",
       "(online, social, network)            40\n",
       "(social, medium, data)               38\n",
       "(dirichlet, allocation, model)       34\n",
       "(dirichlet, allocation, topic)       28\n",
       "(latent, semantic, analysis)         26\n",
       "(proceeding, contain, paper)         26\n",
       "(online, product, review)            24\n",
       "(topic, modeling, method)            24\n",
       "(paper, propose, novel)              22\n",
       "(probabilistic, latent, semantic)    22\n",
       "(topic, modeling, algorithm)         22\n",
       "(based, latent, dirichlet)           20\n",
       "(social, network, analysis)          20\n",
       "(design, science, research)          20\n",
       "(sentiment, analysis, topic)         20\n",
       "(health, information, technology)    20\n",
       "(hierarchical, dirichlet, process)   20\n",
       "(text, mining, method)               18\n",
       "(approach, topic, modeling)          18\n",
       "(topic, model, used)                 18\n",
       "(probabilistic, generative, model)   18"
      ]
     },
     "execution_count": 246,
     "metadata": {},
     "output_type": "execute_result"
    }
   ],
   "source": [
    "trigrams_counter_df.head(30)"
   ]
  },
  {
   "cell_type": "markdown",
   "metadata": {},
   "source": [
    "# collapse phrases; to collapse phrases, include in this list, then run the code\n",
    "phrases_to_collapse = [ ]"
   ]
  },
  {
   "cell_type": "markdown",
   "metadata": {},
   "source": [
    "processed_docs_r = []  \n",
    "for doc in processed_docs_as_string:\n",
    "    for phrase in phrases_to_collapse:\n",
    "        phrase_with_underscore = phrase.replace(\" \", \"_\")\n",
    "        doc = doc.replace(phrase, phrase_with_underscore)\n",
    "    processed_docs_r.append(doc.split(\" \"))"
   ]
  },
  {
   "cell_type": "markdown",
   "metadata": {},
   "source": [
    "### LDA methods"
   ]
  },
  {
   "cell_type": "code",
   "execution_count": 248,
   "metadata": {},
   "outputs": [],
   "source": [
    "# work with Mallet wrapper in Gensim\n",
    "from gensim.models.wrappers import LdaMallet\n",
    "path_to_mallet_binary = home_path+\"/Dev_stuff/mallet-2.0.8/bin/mallet\""
   ]
  },
  {
   "cell_type": "code",
   "execution_count": 273,
   "metadata": {},
   "outputs": [],
   "source": [
    "# Filter out tokens that appear in: i) less than 15 documents (absolute number) or ii) more than 0.5 documents (fraction of total corpus size, not absolute number).\n",
    "#dictionary = dictionary.filter_extremes(no_below=15, no_above=0.5, keep_n=100000)"
   ]
  },
  {
   "cell_type": "code",
   "execution_count": 249,
   "metadata": {},
   "outputs": [],
   "source": [
    "# Create a dictionary from ‘processed_docs’ containing the number of times a word appears in the training set.\n",
    "dictionary = gensim.corpora.Dictionary(processed_docs)"
   ]
  },
  {
   "cell_type": "code",
   "execution_count": 250,
   "metadata": {},
   "outputs": [],
   "source": [
    "# Gensim doc2bow\n",
    "# For each document we create a dictionary reporting how many words and how many times those words appear. Save this to ‘bow_corpus’\n",
    "corpus = [dictionary.doc2bow(doc) for doc in processed_docs]"
   ]
  },
  {
   "cell_type": "markdown",
   "metadata": {},
   "source": [
    "Now, actually doing the LDA"
   ]
  },
  {
   "cell_type": "code",
   "execution_count": 251,
   "metadata": {},
   "outputs": [],
   "source": [
    "def generateModelCoherence(corpus, dictionary,processed_docs,step=5, start=5, end=10):\n",
    "    # output a pandas dataframe with each row as a model; num_topics, coherence, model    \n",
    "    i = 0\n",
    "    num_topics = (i * step)+start\n",
    "    models = []\n",
    "    while num_topics<end:\n",
    "        num_topics = i * step+start\n",
    "        print (\"num_topics:\", num_topics)\n",
    "        lda_model_mallet = LdaMallet(path_to_mallet_binary, corpus=corpus, num_topics=num_topics, id2word=dictionary)\n",
    "        cm = CoherenceModel(model=lda_model_mallet ,texts=processed_docs, corpus=corpus,dictionary=dictionary, coherence='c_v')\n",
    "        print (\"coherence:\",cm.get_coherence())\n",
    "        model_specs = {\"num_topics\":num_topics, \"model\":lda_model_mallet, \"coherence\":cm.get_coherence()}\n",
    "        models.append(model_specs)\n",
    "        i+=1 # increment step\n",
    "    return pd.DataFrame(models)"
   ]
  },
  {
   "cell_type": "code",
   "execution_count": 252,
   "metadata": {},
   "outputs": [
    {
     "name": "stdout",
     "output_type": "stream",
     "text": [
      "num_topics: 10\n",
      "coherence: 0.41317160934189767\n",
      "num_topics: 15\n",
      "coherence: 0.395412320187844\n",
      "num_topics: 20\n",
      "coherence: 0.37597337199399283\n",
      "num_topics: 25\n",
      "coherence: 0.3752752299445272\n",
      "num_topics: 30\n",
      "coherence: 0.35728426914426287\n",
      "num_topics: 35\n",
      "coherence: 0.34683122305824365\n",
      "num_topics: 40\n",
      "coherence: 0.3578268557624157\n",
      "num_topics: 45\n",
      "coherence: 0.3587680163721683\n",
      "num_topics: 50\n",
      "coherence: 0.3387609794241579\n",
      "num_topics: 55\n",
      "coherence: 0.34466912446190223\n",
      "num_topics: 60\n",
      "coherence: 0.3445502426941443\n"
     ]
    }
   ],
   "source": [
    "all_models = generateModelCoherence(corpus, dictionary,processed_docs,5,10,100)"
   ]
  },
  {
   "cell_type": "code",
   "execution_count": 253,
   "metadata": {},
   "outputs": [],
   "source": [
    "all_models = all_models.set_index('num_topics')"
   ]
  },
  {
   "cell_type": "code",
   "execution_count": 254,
   "metadata": {},
   "outputs": [
    {
     "data": {
      "text/html": [
       "<div>\n",
       "<style scoped>\n",
       "    .dataframe tbody tr th:only-of-type {\n",
       "        vertical-align: middle;\n",
       "    }\n",
       "\n",
       "    .dataframe tbody tr th {\n",
       "        vertical-align: top;\n",
       "    }\n",
       "\n",
       "    .dataframe thead th {\n",
       "        text-align: right;\n",
       "    }\n",
       "</style>\n",
       "<table border=\"1\" class=\"dataframe\">\n",
       "  <thead>\n",
       "    <tr style=\"text-align: right;\">\n",
       "      <th></th>\n",
       "      <th>coherence</th>\n",
       "      <th>model</th>\n",
       "    </tr>\n",
       "    <tr>\n",
       "      <th>num_topics</th>\n",
       "      <th></th>\n",
       "      <th></th>\n",
       "    </tr>\n",
       "  </thead>\n",
       "  <tbody>\n",
       "    <tr>\n",
       "      <th>10</th>\n",
       "      <td>0.413172</td>\n",
       "      <td>&lt;gensim.models.wrappers.ldamallet.LdaMallet ob...</td>\n",
       "    </tr>\n",
       "    <tr>\n",
       "      <th>15</th>\n",
       "      <td>0.395412</td>\n",
       "      <td>&lt;gensim.models.wrappers.ldamallet.LdaMallet ob...</td>\n",
       "    </tr>\n",
       "    <tr>\n",
       "      <th>20</th>\n",
       "      <td>0.375973</td>\n",
       "      <td>&lt;gensim.models.wrappers.ldamallet.LdaMallet ob...</td>\n",
       "    </tr>\n",
       "    <tr>\n",
       "      <th>25</th>\n",
       "      <td>0.375275</td>\n",
       "      <td>&lt;gensim.models.wrappers.ldamallet.LdaMallet ob...</td>\n",
       "    </tr>\n",
       "    <tr>\n",
       "      <th>30</th>\n",
       "      <td>0.357284</td>\n",
       "      <td>&lt;gensim.models.wrappers.ldamallet.LdaMallet ob...</td>\n",
       "    </tr>\n",
       "  </tbody>\n",
       "</table>\n",
       "</div>"
      ],
      "text/plain": [
       "            coherence                                              model\n",
       "num_topics                                                              \n",
       "10           0.413172  <gensim.models.wrappers.ldamallet.LdaMallet ob...\n",
       "15           0.395412  <gensim.models.wrappers.ldamallet.LdaMallet ob...\n",
       "20           0.375973  <gensim.models.wrappers.ldamallet.LdaMallet ob...\n",
       "25           0.375275  <gensim.models.wrappers.ldamallet.LdaMallet ob...\n",
       "30           0.357284  <gensim.models.wrappers.ldamallet.LdaMallet ob..."
      ]
     },
     "execution_count": 254,
     "metadata": {},
     "output_type": "execute_result"
    }
   ],
   "source": [
    "all_models.head()"
   ]
  },
  {
   "cell_type": "code",
   "execution_count": 255,
   "metadata": {},
   "outputs": [
    {
     "data": {
      "text/plain": [
       "<matplotlib.axes._subplots.AxesSubplot at 0x120a664e0>"
      ]
     },
     "execution_count": 255,
     "metadata": {},
     "output_type": "execute_result"
    },
    {
     "data": {
      "image/png": "[encoded data removed]",
      "text/plain": [
       "<Figure size 432x288 with 1 Axes>"
      ]
     },
     "metadata": {
      "needs_background": "light"
     },
     "output_type": "display_data"
    }
   ],
   "source": [
    "models_to_plot = all_models.copy() \n",
    "models_to_plot = models_to_plot.drop(columns=['model'])\n",
    "models_to_plot.plot()"
   ]
  },
  {
   "cell_type": "markdown",
   "metadata": {},
   "source": [
    "From this, the optimal topics could be 10, 25, or 45"
   ]
  },
  {
   "cell_type": "markdown",
   "metadata": {},
   "source": [
    "Saving 10 topics"
   ]
  },
  {
   "cell_type": "code",
   "execution_count": 258,
   "metadata": {},
   "outputs": [
    {
     "data": {
      "text/plain": [
       "'./lda_model_10_doc_topics_file.txt'"
      ]
     },
     "execution_count": 258,
     "metadata": {},
     "output_type": "execute_result"
    }
   ],
   "source": [
    "lda_model_mallet_10 = all_models.loc[10]['model']\n",
    "lda_model_mallet_10.save(\"lda_model_10_topics.sav\")\n",
    "path_state_file_for_lda_model = lda_model_mallet_10.fstate()\n",
    "shutil.copy2(path_state_file_for_lda_model, \"./lda_model_10_topics_file.gzip\")\n",
    "\n",
    "path_doc_topics_for_lda_model = lda_model_mallet_10.fdoctopics() \n",
    "shutil.copy2(path_doc_topics_for_lda_model, \"./lda_model_10_doc_topics_file.txt\")"
   ]
  },
  {
   "cell_type": "markdown",
   "metadata": {},
   "source": [
    "Saving 25 topics"
   ]
  },
  {
   "cell_type": "code",
   "execution_count": 260,
   "metadata": {},
   "outputs": [
    {
     "data": {
      "text/plain": [
       "'./lda_model_25_doc_topics_file.txt'"
      ]
     },
     "execution_count": 260,
     "metadata": {},
     "output_type": "execute_result"
    }
   ],
   "source": [
    "lda_model_mallet_25 = all_models.loc[25]['model']\n",
    "lda_model_mallet_25.save(\"lda_model_25_topics.sav\")\n",
    "path_state_file_for_lda_model = lda_model_mallet_25.fstate()\n",
    "shutil.copy2(path_state_file_for_lda_model, \"./lda_model_25_topics_file.gzip\")\n",
    "\n",
    "path_doc_topics_for_lda_model = lda_model_mallet_25.fdoctopics() \n",
    "shutil.copy2(path_doc_topics_for_lda_model, \"./lda_model_25_doc_topics_file.txt\")"
   ]
  },
  {
   "cell_type": "markdown",
   "metadata": {},
   "source": [
    "Saving 45 topics"
   ]
  },
  {
   "cell_type": "code",
   "execution_count": 261,
   "metadata": {},
   "outputs": [
    {
     "data": {
      "text/plain": [
       "'./lda_model_45_doc_topics_file.txt'"
      ]
     },
     "execution_count": 261,
     "metadata": {},
     "output_type": "execute_result"
    }
   ],
   "source": [
    "lda_model_mallet_45 = all_models.loc[45]['model']\n",
    "lda_model_mallet_45.save(\"lda_model_45_topics.sav\")\n",
    "path_state_file_for_lda_model = lda_model_mallet_45.fstate()\n",
    "shutil.copy2(path_state_file_for_lda_model, \"./lda_model_45_topics_file.gzip\")\n",
    "\n",
    "path_doc_topics_for_lda_model = lda_model_mallet_45.fdoctopics() \n",
    "shutil.copy2(path_doc_topics_for_lda_model, \"./lda_model_45_doc_topics_file.txt\")"
   ]
  },
  {
   "cell_type": "markdown",
   "metadata": {},
   "source": [
    "## Start to inspect topics"
   ]
  },
  {
   "cell_type": "code",
   "execution_count": 264,
   "metadata": {},
   "outputs": [
    {
     "data": {
      "text/plain": [
       "[(0,\n",
       "  '0.022*\"study\" + 0.021*\"provide\" + 0.019*\"type\" + 0.015*\"result\" + 0.015*\"human\" + 0.015*\"technique\" + 0.013*\"textual\" + 0.013*\"modeling\" + 0.012*\"identify\" + 0.011*\"student\"'),\n",
       " (1,\n",
       "  '0.064*\"user\" + 0.032*\"content\" + 0.027*\"social\" + 0.022*\"network\" + 0.020*\"interest\" + 0.020*\"recommendation\" + 0.018*\"system\" + 0.018*\"community\" + 0.016*\"post\" + 0.015*\"based\"'),\n",
       " (2,\n",
       "  '0.136*\"topic\" + 0.082*\"model\" + 0.050*\"document\" + 0.034*\"word\" + 0.031*\"latent\" + 0.024*\"algorithm\" + 0.019*\"modeling\" + 0.017*\"text\" + 0.017*\"distribution\" + 0.016*\"allocation\"'),\n",
       " (3,\n",
       "  '0.068*\"research\" + 0.047*\"analysis\" + 0.033*\"study\" + 0.033*\"topic\" + 0.032*\"article\" + 0.022*\"field\" + 0.018*\"technology\" + 0.018*\"journal\" + 0.014*\"area\" + 0.013*\"trend\"'),\n",
       " (4,\n",
       "  '0.054*\"model\" + 0.050*\"topic\" + 0.027*\"problem\" + 0.026*\"show\" + 0.021*\"event\" + 0.020*\"sentiment\" + 0.019*\"word\" + 0.019*\"process\" + 0.015*\"aspect\" + 0.014*\"review\"'),\n",
       " (5,\n",
       "  '0.082*\"data\" + 0.040*\"text\" + 0.034*\"modeling\" + 0.034*\"topic\" + 0.022*\"mining\" + 0.019*\"paper\" + 0.017*\"approach\" + 0.014*\"technique\" + 0.014*\"tool\" + 0.013*\"present\"'),\n",
       " (6,\n",
       "  '0.027*\"medium\" + 0.025*\"public\" + 0.024*\"social\" + 0.024*\"analysis\" + 0.022*\"issue\" + 0.018*\"opinion\" + 0.016*\"twitter\" + 0.015*\"news\" + 0.014*\"tweet\" + 0.012*\"change\"'),\n",
       " (7,\n",
       "  '0.051*\"topic\" + 0.046*\"information\" + 0.034*\"based\" + 0.033*\"paper\" + 0.031*\"method\" + 0.028*\"feature\" + 0.028*\"time\" + 0.025*\"result\" + 0.023*\"approach\" + 0.023*\"term\"'),\n",
       " (8,\n",
       "  '0.023*\"information\" + 0.023*\"online\" + 0.020*\"service\" + 0.019*\"system\" + 0.018*\"social\" + 0.018*\"network\" + 0.014*\"project\" + 0.014*\"effect\" + 0.013*\"strategy\" + 0.013*\"review\"'),\n",
       " (9,\n",
       "  '0.049*\"method\" + 0.031*\"learning\" + 0.029*\"approach\" + 0.026*\"corpus\" + 0.022*\"result\" + 0.022*\"classification\" + 0.022*\"text\" + 0.021*\"language\" + 0.019*\"question\" + 0.015*\"large\"')]"
      ]
     },
     "execution_count": 264,
     "metadata": {},
     "output_type": "execute_result"
    }
   ],
   "source": [
    "lda_model_mallet_10.show_topics(10)"
   ]
  },
  {
   "cell_type": "code",
   "execution_count": 265,
   "metadata": {},
   "outputs": [
    {
     "data": {
      "text/plain": [
       "[(0,\n",
       "  '0.151*\"user\" + 0.050*\"system\" + 0.049*\"recommendation\" + 0.047*\"content\" + 0.045*\"information\" + 0.044*\"interest\" + 0.034*\"based\" + 0.019*\"item\" + 0.018*\"message\" + 0.012*\"improve\"'),\n",
       " (1,\n",
       "  '0.028*\"social\" + 0.027*\"information\" + 0.024*\"online\" + 0.023*\"system\" + 0.021*\"effect\" + 0.020*\"network\" + 0.019*\"service\" + 0.014*\"management\" + 0.013*\"design\" + 0.013*\"research\"'),\n",
       " (2,\n",
       "  '0.061*\"search\" + 0.050*\"type\" + 0.047*\"information\" + 0.032*\"show\" + 0.023*\"query\" + 0.022*\"place\" + 0.021*\"common\" + 0.021*\"difference\" + 0.020*\"textual\" + 0.020*\"extracted\"'),\n",
       " (3,\n",
       "  '0.051*\"pattern\" + 0.041*\"human\" + 0.022*\"present\" + 0.022*\"large\" + 0.019*\"spatial\" + 0.018*\"large-scale\" + 0.016*\"state\" + 0.016*\"behavior\" + 0.016*\"temporal\" + 0.016*\"activity\"'),\n",
       " (4,\n",
       "  '0.050*\"learning\" + 0.030*\"machine\" + 0.028*\"student\" + 0.026*\"important\" + 0.022*\"support\" + 0.018*\"education\" + 0.018*\"crime\" + 0.014*\"engineering\" + 0.014*\"identification\" + 0.013*\"develop\"'),\n",
       " (5,\n",
       "  '0.024*\"political\" + 0.024*\"communication\" + 0.022*\"theme\" + 0.021*\"issue\" + 0.019*\"discourse\" + 0.015*\"candidate\" + 0.014*\"government\" + 0.014*\"period\" + 0.013*\"party\" + 0.013*\"examine\"'),\n",
       " (6,\n",
       "  '0.218*\"method\" + 0.081*\"paper\" + 0.047*\"proposed\" + 0.031*\"extract\" + 0.025*\"show\" + 0.024*\"compared\" + 0.024*\"term\" + 0.023*\"author\" + 0.020*\"work\" + 0.017*\"existing\"'),\n",
       " (7,\n",
       "  '0.134*\"topic\" + 0.107*\"latent\" + 0.057*\"dirichlet\" + 0.052*\"allocation\" + 0.041*\"semantic\" + 0.028*\"clustering\" + 0.027*\"space\" + 0.025*\"approach\" + 0.023*\"similarity\" + 0.023*\"cluster\"'),\n",
       " (8,\n",
       "  '0.111*\"model\" + 0.046*\"problem\" + 0.033*\"propose\" + 0.032*\"aspect\" + 0.024*\"experiment\" + 0.022*\"task\" + 0.022*\"proposed\" + 0.019*\"existing\" + 0.017*\"matrix\" + 0.017*\"prediction\"'),\n",
       " (9,\n",
       "  '0.050*\"question\" + 0.035*\"change\" + 0.034*\"issue\" + 0.029*\"result\" + 0.018*\"modeling\" + 0.018*\"survey\" + 0.017*\"find\" + 0.016*\"country\" + 0.016*\"climate\" + 0.015*\"report\"'),\n",
       " (10,\n",
       "  '0.130*\"social\" + 0.072*\"medium\" + 0.061*\"public\" + 0.049*\"twitter\" + 0.037*\"news\" + 0.035*\"tweet\" + 0.033*\"opinion\" + 0.021*\"platform\" + 0.020*\"content\" + 0.015*\"comment\"'),\n",
       " (11,\n",
       "  '0.098*\"topic\" + 0.068*\"corpus\" + 0.040*\"process\" + 0.031*\"category\" + 0.029*\"modeling\" + 0.024*\"measure\" + 0.022*\"present\" + 0.021*\"sense\" + 0.020*\"developed\" + 0.017*\"hierarchical\"'),\n",
       " (12,\n",
       "  '0.049*\"technology\" + 0.027*\"trend\" + 0.027*\"patent\" + 0.025*\"analysis\" + 0.023*\"development\" + 0.023*\"project\" + 0.022*\"company\" + 0.018*\"industry\" + 0.017*\"business\" + 0.017*\"study\"'),\n",
       " (13,\n",
       "  '0.144*\"research\" + 0.063*\"article\" + 0.045*\"analysis\" + 0.044*\"field\" + 0.037*\"journal\" + 0.033*\"science\" + 0.024*\"literature\" + 0.020*\"scientific\" + 0.020*\"publication\" + 0.019*\"citation\"'),\n",
       " (14,\n",
       "  '0.049*\"large\" + 0.035*\"role\" + 0.034*\"study\" + 0.031*\"focus\" + 0.029*\"dynamic\" + 0.029*\"evaluation\" + 0.027*\"application\" + 0.026*\"level\" + 0.022*\"concept\" + 0.021*\"framework\"'),\n",
       " (15,\n",
       "  '0.210*\"data\" + 0.099*\"analysis\" + 0.039*\"modeling\" + 0.035*\"tool\" + 0.018*\"present\" + 0.018*\"amount\" + 0.018*\"challenge\" + 0.016*\"computational\" + 0.014*\"analyzing\" + 0.013*\"researcher\"'),\n",
       " (16,\n",
       "  '0.069*\"review\" + 0.040*\"product\" + 0.035*\"source\" + 0.035*\"mining\" + 0.035*\"technique\" + 0.033*\"online\" + 0.026*\"digital\" + 0.020*\"service\" + 0.016*\"customer\" + 0.015*\"quality\"'),\n",
       " (17,\n",
       "  '0.139*\"topic\" + 0.043*\"community\" + 0.043*\"modeling\" + 0.040*\"post\" + 0.031*\"framework\" + 0.026*\"result\" + 0.020*\"significant\" + 0.018*\"forum\" + 0.018*\"online\" + 0.016*\"people\"'),\n",
       " (18,\n",
       "  '0.072*\"sentiment\" + 0.071*\"model\" + 0.031*\"approach\" + 0.029*\"show\" + 0.029*\"result\" + 0.028*\"link\" + 0.028*\"domain\" + 0.022*\"paper\" + 0.019*\"context\" + 0.019*\"knowledge\"'),\n",
       " (19,\n",
       "  '0.071*\"network\" + 0.071*\"time\" + 0.058*\"paper\" + 0.055*\"topic\" + 0.050*\"event\" + 0.033*\"relationship\" + 0.030*\"based\" + 0.028*\"detection\" + 0.027*\"influence\" + 0.023*\"related\"'),\n",
       " (20,\n",
       "  '0.098*\"study\" + 0.038*\"topic\" + 0.031*\"modelling\" + 0.024*\"insight\" + 0.020*\"purpose\" + 0.017*\"previous\" + 0.017*\"apply\" + 0.016*\"quality\" + 0.015*\"explore\" + 0.015*\"specific\"'),\n",
       " (21,\n",
       "  '0.147*\"topic\" + 0.142*\"model\" + 0.113*\"word\" + 0.055*\"text\" + 0.050*\"document\" + 0.026*\"short\" + 0.021*\"distribution\" + 0.016*\"semantic\" + 0.015*\"inference\" + 0.014*\"co-occurrence\"'),\n",
       " (22,\n",
       "  '0.147*\"topic\" + 0.079*\"document\" + 0.067*\"information\" + 0.056*\"modeling\" + 0.035*\"collection\" + 0.033*\"result\" + 0.032*\"term\" + 0.025*\"retrieval\" + 0.018*\"relevant\" + 0.017*\"topical\"'),\n",
       " (23,\n",
       "  '0.141*\"text\" + 0.104*\"approach\" + 0.041*\"knowledge\" + 0.040*\"language\" + 0.026*\"resource\" + 0.024*\"application\" + 0.020*\"natural\" + 0.019*\"modeling\" + 0.018*\"technique\" + 0.018*\"recent\"'),\n",
       " (24,\n",
       "  '0.070*\"feature\" + 0.066*\"algorithm\" + 0.055*\"classification\" + 0.037*\"learning\" + 0.031*\"performance\" + 0.028*\"based\" + 0.027*\"representation\" + 0.023*\"datasets\" + 0.023*\"proposed\" + 0.018*\"dataset\"')]"
      ]
     },
     "execution_count": 265,
     "metadata": {},
     "output_type": "execute_result"
    }
   ],
   "source": [
    "lda_model_mallet_25.show_topics(25)"
   ]
  },
  {
   "cell_type": "code",
   "execution_count": 266,
   "metadata": {},
   "outputs": [
    {
     "data": {
      "text/plain": [
       "[(0,\n",
       "  '0.102*\"content\" + 0.062*\"tweet\" + 0.053*\"twitter\" + 0.046*\"public\" + 0.034*\"message\" + 0.032*\"related\" + 0.024*\"understand\" + 0.024*\"health\" + 0.020*\"theme\" + 0.018*\"extracted\"'),\n",
       " (1,\n",
       "  '0.050*\"project\" + 0.046*\"article\" + 0.043*\"digital\" + 0.029*\"history\" + 0.027*\"modeling\" + 0.027*\"country\" + 0.026*\"library\" + 0.024*\"organization\" + 0.022*\"discussed\" + 0.020*\"corpus\"'),\n",
       " (2,\n",
       "  '0.221*\"word\" + 0.127*\"model\" + 0.114*\"topic\" + 0.031*\"corpus\" + 0.030*\"sense\" + 0.021*\"existing\" + 0.021*\"coherence\" + 0.019*\"inference\" + 0.018*\"representation\" + 0.017*\"propose\"'),\n",
       " (3,\n",
       "  '0.101*\"review\" + 0.075*\"aspect\" + 0.075*\"product\" + 0.066*\"domain\" + 0.054*\"paper\" + 0.036*\"mining\" + 0.025*\"show\" + 0.023*\"related\" + 0.021*\"proposed\" + 0.020*\"extraction\"'),\n",
       " (4,\n",
       "  '0.086*\"question\" + 0.040*\"group\" + 0.034*\"problem\" + 0.032*\"survey\" + 0.031*\"previous\" + 0.031*\"expert\" + 0.028*\"textual\" + 0.027*\"modeling\" + 0.025*\"identification\" + 0.024*\"answer\"'),\n",
       " (5,\n",
       "  '0.110*\"network\" + 0.081*\"community\" + 0.045*\"social\" + 0.040*\"prediction\" + 0.038*\"link\" + 0.032*\"paper\" + 0.031*\"graph\" + 0.031*\"interaction\" + 0.025*\"correlation\" + 0.019*\"stream\"'),\n",
       " (6,\n",
       "  '0.237*\"information\" + 0.045*\"query\" + 0.041*\"retrieval\" + 0.038*\"approach\" + 0.038*\"result\" + 0.034*\"based\" + 0.024*\"obtained\" + 0.016*\"relevant\" + 0.015*\"feedback\" + 0.014*\"suggestion\"'),\n",
       " (7,\n",
       "  '0.113*\"feature\" + 0.088*\"classification\" + 0.044*\"performance\" + 0.044*\"algorithm\" + 0.036*\"representation\" + 0.033*\"result\" + 0.033*\"semantic\" + 0.031*\"learning\" + 0.025*\"experimental\" + 0.021*\"image\"'),\n",
       " (8,\n",
       "  '0.116*\"topic\" + 0.074*\"context\" + 0.068*\"task\" + 0.047*\"present\" + 0.045*\"paper\" + 0.040*\"relation\" + 0.034*\"approach\" + 0.030*\"summarization\" + 0.021*\"summary\" + 0.020*\"combine\"'),\n",
       " (9,\n",
       "  '0.143*\"topic\" + 0.097*\"time\" + 0.057*\"relationship\" + 0.056*\"category\" + 0.039*\"finding\" + 0.034*\"evolution\" + 0.031*\"dynamic\" + 0.030*\"based\" + 0.025*\"approach\" + 0.022*\"paper\"'),\n",
       " (10,\n",
       "  '0.134*\"sentiment\" + 0.084*\"opinion\" + 0.073*\"post\" + 0.047*\"based\" + 0.032*\"public\" + 0.028*\"comment\" + 0.026*\"analysis\" + 0.025*\"result\" + 0.021*\"issue\" + 0.020*\"negative\"'),\n",
       " (11,\n",
       "  '0.131*\"model\" + 0.121*\"topic\" + 0.059*\"distribution\" + 0.031*\"show\" + 0.030*\"similarity\" + 0.030*\"make\" + 0.030*\"paper\" + 0.029*\"probabilistic\" + 0.026*\"structure\" + 0.025*\"similar\"'),\n",
       " (12,\n",
       "  '0.050*\"find\" + 0.047*\"human\" + 0.027*\"international\" + 0.027*\"engineering\" + 0.024*\"strategy\" + 0.023*\"idea\" + 0.022*\"design\" + 0.021*\"degree\" + 0.020*\"increase\" + 0.020*\"innovation\"'),\n",
       " (13,\n",
       "  '0.045*\"company\" + 0.036*\"forum\" + 0.029*\"research\" + 0.028*\"result\" + 0.027*\"decision\" + 0.026*\"study\" + 0.026*\"market\" + 0.024*\"analyzing\" + 0.020*\"making\" + 0.018*\"popularity\"'),\n",
       " (14,\n",
       "  '0.100*\"search\" + 0.080*\"news\" + 0.048*\"level\" + 0.041*\"show\" + 0.029*\"specific\" + 0.028*\"dimension\" + 0.022*\"engine\" + 0.020*\"measure\" + 0.020*\"general\" + 0.020*\"compare\"'),\n",
       " (15,\n",
       "  '0.269*\"data\" + 0.064*\"approach\" + 0.029*\"existing\" + 0.025*\"large-scale\" + 0.023*\"technique\" + 0.023*\"unstructured\" + 0.021*\"application\" + 0.021*\"amount\" + 0.015*\"driver\" + 0.015*\"created\"'),\n",
       " (16,\n",
       "  '0.126*\"data\" + 0.069*\"large\" + 0.042*\"provide\" + 0.030*\"part\" + 0.029*\"discus\" + 0.022*\"including\" + 0.020*\"sample\" + 0.017*\"present\" + 0.016*\"open\" + 0.016*\"planning\"'),\n",
       " (17,\n",
       "  '0.333*\"method\" + 0.062*\"proposed\" + 0.059*\"algorithm\" + 0.058*\"based\" + 0.046*\"result\" + 0.039*\"extract\" + 0.034*\"traditional\" + 0.029*\"paper\" + 0.028*\"unsupervised\" + 0.017*\"keywords\"'),\n",
       " (18,\n",
       "  '0.032*\"information\" + 0.029*\"social\" + 0.028*\"effect\" + 0.025*\"network\" + 0.019*\"design\" + 0.015*\"management\" + 0.014*\"strategy\" + 0.012*\"project\" + 0.011*\"research\" + 0.011*\"impact\"'),\n",
       " (19,\n",
       "  '0.262*\"topic\" + 0.113*\"framework\" + 0.069*\"modeling\" + 0.044*\"based\" + 0.030*\"evaluation\" + 0.025*\"order\" + 0.023*\"significant\" + 0.020*\"developed\" + 0.018*\"traditional\" + 0.017*\"popular\"'),\n",
       " (20,\n",
       "  '0.097*\"study\" + 0.048*\"student\" + 0.035*\"purpose\" + 0.028*\"education\" + 0.024*\"quality\" + 0.019*\"skill\" + 0.019*\"case\" + 0.018*\"university\" + 0.017*\"relative\" + 0.017*\"found\"'),\n",
       " (21,\n",
       "  '0.059*\"issue\" + 0.056*\"change\" + 0.047*\"discourse\" + 0.032*\"public\" + 0.029*\"policy\" + 0.026*\"climate\" + 0.024*\"government\" + 0.019*\"attention\" + 0.019*\"energy\" + 0.017*\"understanding\"'),\n",
       " (22,\n",
       "  '0.135*\"online\" + 0.111*\"system\" + 0.106*\"service\" + 0.042*\"review\" + 0.041*\"customer\" + 0.035*\"evaluation\" + 0.025*\"quality\" + 0.023*\"identifying\" + 0.023*\"data\" + 0.022*\"mining\"'),\n",
       " (23,\n",
       "  '0.225*\"analysis\" + 0.059*\"tool\" + 0.048*\"science\" + 0.042*\"modeling\" + 0.038*\"source\" + 0.030*\"qualitative\" + 0.022*\"visualization\" + 0.020*\"computational\" + 0.019*\"automated\" + 0.016*\"analyzing\"'),\n",
       " (24,\n",
       "  '0.083*\"pattern\" + 0.036*\"behavior\" + 0.032*\"spatial\" + 0.032*\"activity\" + 0.032*\"space\" + 0.029*\"individual\" + 0.023*\"city\" + 0.023*\"location\" + 0.019*\"local\" + 0.019*\"temporal\"'),\n",
       " (25,\n",
       "  '0.075*\"topic\" + 0.041*\"form\" + 0.034*\"crime\" + 0.033*\"perspective\" + 0.027*\"statistical\" + 0.027*\"type\" + 0.026*\"apply\" + 0.023*\"standard\" + 0.019*\"investigate\" + 0.017*\"unique\"'),\n",
       " (26,\n",
       "  '0.121*\"knowledge\" + 0.118*\"approach\" + 0.117*\"learning\" + 0.055*\"machine\" + 0.031*\"challenge\" + 0.024*\"demonstrate\" + 0.022*\"learner\" + 0.018*\"address\" + 0.016*\"environment\" + 0.016*\"offer\"'),\n",
       " (27,\n",
       "  '0.080*\"technique\" + 0.063*\"researcher\" + 0.058*\"study\" + 0.057*\"identify\" + 0.041*\"insight\" + 0.040*\"modeling\" + 0.031*\"specific\" + 0.028*\"applied\" + 0.026*\"order\" + 0.025*\"analyze\"'),\n",
       " (28,\n",
       "  '0.081*\"technology\" + 0.042*\"patent\" + 0.041*\"trend\" + 0.037*\"study\" + 0.031*\"analysis\" + 0.025*\"development\" + 0.025*\"technological\" + 0.025*\"industry\" + 0.019*\"emerging\" + 0.019*\"area\"'),\n",
       " (29,\n",
       "  '0.184*\"model\" + 0.068*\"problem\" + 0.066*\"proposed\" + 0.041*\"experiment\" + 0.039*\"datasets\" + 0.031*\"dataset\" + 0.028*\"propose\" + 0.024*\"baseline\" + 0.022*\"accuracy\" + 0.021*\"real-world\"'),\n",
       " (30,\n",
       "  '0.232*\"topic\" + 0.204*\"latent\" + 0.102*\"dirichlet\" + 0.099*\"allocation\" + 0.037*\"semantic\" + 0.019*\"detect\" + 0.016*\"semantics\" + 0.012*\"limitation\" + 0.011*\"studied\" + 0.010*\"spam\"'),\n",
       " (31,\n",
       "  '0.042*\"role\" + 0.037*\"development\" + 0.036*\"model\" + 0.031*\"risk\" + 0.030*\"influence\" + 0.029*\"empirical\" + 0.029*\"dynamic\" + 0.024*\"consumer\" + 0.024*\"support\" + 0.021*\"focus\"'),\n",
       " (32,\n",
       "  '0.229*\"user\" + 0.069*\"recommendation\" + 0.057*\"interest\" + 0.028*\"item\" + 0.028*\"content\" + 0.021*\"show\" + 0.020*\"rating\" + 0.019*\"system\" + 0.016*\"factor\" + 0.016*\"preference\"'),\n",
       " (33,\n",
       "  '0.219*\"research\" + 0.062*\"journal\" + 0.060*\"article\" + 0.042*\"field\" + 0.039*\"literature\" + 0.033*\"scientific\" + 0.031*\"area\" + 0.030*\"year\" + 0.022*\"publication\" + 0.022*\"management\"'),\n",
       " (34,\n",
       "  '0.078*\"paper\" + 0.063*\"author\" + 0.049*\"field\" + 0.045*\"citation\" + 0.041*\"impact\" + 0.037*\"network\" + 0.031*\"influence\" + 0.031*\"diversity\" + 0.029*\"topic\" + 0.027*\"ranking\"'),\n",
       " (35,\n",
       "  '0.045*\"type\" + 0.041*\"entity\" + 0.040*\"modelling\" + 0.034*\"place\" + 0.030*\"article\" + 0.024*\"difference\" + 0.023*\"wikipedia\" + 0.020*\"show\" + 0.020*\"significantly\" + 0.019*\"thematic\"'),\n",
       " (36,\n",
       "  '0.202*\"topic\" + 0.099*\"term\" + 0.075*\"modeling\" + 0.036*\"work\" + 0.018*\"compared\" + 0.016*\"scheme\" + 0.016*\"phrase\" + 0.016*\"co-occurrence\" + 0.015*\"combination\" + 0.015*\"weight\"'),\n",
       " (37,\n",
       "  '0.231*\"document\" + 0.159*\"topic\" + 0.068*\"collection\" + 0.047*\"model\" + 0.044*\"clustering\" + 0.041*\"cluster\" + 0.030*\"topical\" + 0.027*\"number\" + 0.015*\"single\" + 0.014*\"compared\"'),\n",
       " (38,\n",
       "  '0.070*\"result\" + 0.050*\"application\" + 0.045*\"modeling\" + 0.042*\"subject\" + 0.031*\"automatically\" + 0.024*\"report\" + 0.019*\"software\" + 0.019*\"russian\" + 0.018*\"manually\" + 0.017*\"describes\"'),\n",
       " (39,\n",
       "  '0.351*\"text\" + 0.074*\"corpus\" + 0.060*\"short\" + 0.043*\"semantic\" + 0.036*\"number\" + 0.025*\"task\" + 0.021*\"mining\" + 0.020*\"large\" + 0.019*\"applying\" + 0.016*\"external\"'),\n",
       " (40,\n",
       "  '0.212*\"social\" + 0.133*\"medium\" + 0.035*\"twitter\" + 0.027*\"analysis\" + 0.020*\"platform\" + 0.020*\"potential\" + 0.019*\"provide\" + 0.019*\"construction\" + 0.018*\"activity\" + 0.017*\"finding\"'),\n",
       " (41,\n",
       "  '0.091*\"process\" + 0.066*\"model\" + 0.031*\"measure\" + 0.027*\"hierarchical\" + 0.027*\"prior\" + 0.025*\"show\" + 0.022*\"modeling\" + 0.022*\"point\" + 0.021*\"mixture\" + 0.020*\"dirichlet\"'),\n",
       " (42,\n",
       "  '0.106*\"language\" + 0.051*\"concept\" + 0.049*\"resource\" + 0.039*\"natural\" + 0.035*\"processing\" + 0.030*\"present\" + 0.024*\"lexical\" + 0.018*\"source\" + 0.018*\"system\" + 0.017*\"contribution\"'),\n",
       " (43,\n",
       "  '0.046*\"political\" + 0.043*\"communication\" + 0.032*\"period\" + 0.029*\"candidate\" + 0.025*\"theme\" + 0.023*\"party\" + 0.022*\"discussion\" + 0.021*\"platform\" + 0.021*\"central\" + 0.019*\"study\"'),\n",
       " (44,\n",
       "  '0.101*\"event\" + 0.055*\"detection\" + 0.046*\"demonstrate\" + 0.038*\"propose\" + 0.037*\"time\" + 0.036*\"important\" + 0.033*\"effectiveness\" + 0.033*\"multiple\" + 0.028*\"model\" + 0.026*\"temporal\"')]"
      ]
     },
     "execution_count": 266,
     "metadata": {},
     "output_type": "execute_result"
    }
   ],
   "source": [
    "lda_model_mallet_45.show_topics(45)"
   ]
  },
  {
   "cell_type": "markdown",
   "metadata": {},
   "source": [
    "# Next, in another Notebook, process the output of these models"
   ]
  }
 ],
 "metadata": {
  "kernelspec": {
   "display_name": "Python 3",
   "language": "python",
   "name": "python3"
  },
  "language_info": {
   "codemirror_mode": {
    "name": "ipython",
    "version": 3
   },
   "file_extension": ".py",
   "mimetype": "text/x-python",
   "name": "python",
   "nbconvert_exporter": "python",
   "pygments_lexer": "ipython3",
   "version": "3.6.6"
  }
 },
 "nbformat": 4,
 "nbformat_minor": 2
}
