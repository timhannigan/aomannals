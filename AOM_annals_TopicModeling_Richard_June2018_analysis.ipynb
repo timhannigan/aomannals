{
 "cells": [
  {
   "cell_type": "markdown",
   "metadata": {},
   "source": [
    "### Using Mallet to generate a Topic Model for the LDA_article Corpus Richard generated in 2018-06-27"
   ]
  },
  {
   "cell_type": "code",
   "execution_count": 2,
   "metadata": {},
   "outputs": [],
   "source": [
    "import pandas as pd\n",
    "from scopus import ScopusAbstract\n",
    "from scopus import ScopusSearch\n",
    "import pickle\n",
    "import numpy\n",
    "import re"
   ]
  },
  {
   "cell_type": "code",
   "execution_count": 67,
   "metadata": {},
   "outputs": [],
   "source": [
    "import matplotlib as plt"
   ]
  },
  {
   "cell_type": "code",
   "execution_count": 3,
   "metadata": {},
   "outputs": [],
   "source": [
    "import os\n",
    "import os.path\n",
    "from os import listdir\n",
    "from os.path import isfile, join, expanduser\n",
    "import shutil"
   ]
  },
  {
   "cell_type": "code",
   "execution_count": 4,
   "metadata": {},
   "outputs": [],
   "source": [
    "from textblob import TextBlob \n",
    "import nltk\n",
    "from nltk.stem.porter import *\n",
    "from nltk.stem import WordNetLemmatizer"
   ]
  },
  {
   "cell_type": "markdown",
   "metadata": {},
   "source": [
    "### Setup"
   ]
  },
  {
   "cell_type": "code",
   "execution_count": 5,
   "metadata": {},
   "outputs": [],
   "source": [
    "std_date_format = '%Y-%m-%d'    \n",
    "home_path = expanduser(\"~\")"
   ]
  },
  {
   "cell_type": "markdown",
   "metadata": {},
   "source": [
    "### Main Code"
   ]
  },
  {
   "cell_type": "markdown",
   "metadata": {},
   "source": [
    "### Load csv for all paper abstracts"
   ]
  },
  {
   "cell_type": "markdown",
   "metadata": {},
   "source": [
    "Note: this excel file was extracted using the \"combined_unduplicated\" sheet in the file Richard produced on 2018-06-27 \"WoS_Scopus_combined_updated.xlsx\""
   ]
  },
  {
   "cell_type": "code",
   "execution_count": 6,
   "metadata": {
    "scrolled": true
   },
   "outputs": [],
   "source": [
    "df_ab = pd.read_excel(\"Corpus_from_Richard_analysis_2018_06_27.xlsx\")"
   ]
  },
  {
   "cell_type": "code",
   "execution_count": 7,
   "metadata": {},
   "outputs": [
    {
     "data": {
      "text/plain": [
       "1478"
      ]
     },
     "execution_count": 7,
     "metadata": {},
     "output_type": "execute_result"
    }
   ],
   "source": [
    "len(df_ab)"
   ]
  },
  {
   "cell_type": "code",
   "execution_count": 24,
   "metadata": {},
   "outputs": [],
   "source": [
    "# remove articles that do not have an abstract\n",
    "df_ab['Abstract'] = df_ab['Abstract'].astype(str)\n",
    "rowsToDelete = []\n",
    "for i, row in df_ab.iterrows():        \n",
    "    if len(row['Abstract'])<2: rowsToDelete.append(i)"
   ]
  },
  {
   "cell_type": "code",
   "execution_count": 25,
   "metadata": {},
   "outputs": [
    {
     "data": {
      "text/plain": [
       "[57, 64, 91, 101, 145, 155, 178, 227, 1477]"
      ]
     },
     "execution_count": 25,
     "metadata": {},
     "output_type": "execute_result"
    }
   ],
   "source": [
    "rowsToDelete"
   ]
  },
  {
   "cell_type": "code",
   "execution_count": 27,
   "metadata": {},
   "outputs": [
    {
     "data": {
      "text/plain": [
       "1469"
      ]
     },
     "execution_count": 27,
     "metadata": {},
     "output_type": "execute_result"
    }
   ],
   "source": [
    "df_ab = df_ab.drop(rowsToDelete)\n",
    "len(df_ab)"
   ]
  },
  {
   "cell_type": "markdown",
   "metadata": {},
   "source": [
    "## Should I include titles as an addition to each Abstract?"
   ]
  },
  {
   "cell_type": "markdown",
   "metadata": {},
   "source": [
    "##### capture journal names, put into a counter"
   ]
  },
  {
   "cell_type": "code",
   "execution_count": 29,
   "metadata": {},
   "outputs": [],
   "source": [
    "import collections\n",
    "from collections import defaultdict\n",
    "journal_count = defaultdict(int)"
   ]
  },
  {
   "cell_type": "code",
   "execution_count": 30,
   "metadata": {},
   "outputs": [],
   "source": [
    "for i, row in df_ab.iterrows():    \n",
    "    journal_count[row['Publication']]+=1"
   ]
  },
  {
   "cell_type": "code",
   "execution_count": 31,
   "metadata": {},
   "outputs": [],
   "source": [
    "df_journal_count = pd.DataFrame.from_dict(journal_count, orient=\"index\")"
   ]
  },
  {
   "cell_type": "code",
   "execution_count": 32,
   "metadata": {},
   "outputs": [],
   "source": [
    "df_journal_count = df_journal_count.sort_values(0, ascending=False)"
   ]
  },
  {
   "cell_type": "code",
   "execution_count": 33,
   "metadata": {},
   "outputs": [],
   "source": [
    "df_journal_count.columns=[\"articleCounts\"]"
   ]
  },
  {
   "cell_type": "code",
   "execution_count": 34,
   "metadata": {},
   "outputs": [
    {
     "data": {
      "text/html": [
       "<div>\n",
       "<style scoped>\n",
       "    .dataframe tbody tr th:only-of-type {\n",
       "        vertical-align: middle;\n",
       "    }\n",
       "\n",
       "    .dataframe tbody tr th {\n",
       "        vertical-align: top;\n",
       "    }\n",
       "\n",
       "    .dataframe thead th {\n",
       "        text-align: right;\n",
       "    }\n",
       "</style>\n",
       "<table border=\"1\" class=\"dataframe\">\n",
       "  <thead>\n",
       "    <tr style=\"text-align: right;\">\n",
       "      <th></th>\n",
       "      <th>articleCounts</th>\n",
       "    </tr>\n",
       "  </thead>\n",
       "  <tbody>\n",
       "    <tr>\n",
       "      <th>International Conference on Information and Knowledge Management, Proceedings</th>\n",
       "      <td>136</td>\n",
       "    </tr>\n",
       "    <tr>\n",
       "      <th>Knowledge-Based Systems</th>\n",
       "      <td>40</td>\n",
       "    </tr>\n",
       "  </tbody>\n",
       "</table>\n",
       "</div>"
      ],
      "text/plain": [
       "                                                    articleCounts\n",
       "International Conference on Information and Kno...            136\n",
       "Knowledge-Based Systems                                        40"
      ]
     },
     "execution_count": 34,
     "metadata": {},
     "output_type": "execute_result"
    }
   ],
   "source": [
    "df_journal_count.head(2)"
   ]
  },
  {
   "cell_type": "code",
   "execution_count": 35,
   "metadata": {},
   "outputs": [],
   "source": [
    "df_journal_count.to_csv(\"df_publication_count_June18_Analysis.csv\")"
   ]
  },
  {
   "cell_type": "markdown",
   "metadata": {},
   "source": [
    "### Preprocessing abstracts"
   ]
  },
  {
   "cell_type": "code",
   "execution_count": 38,
   "metadata": {},
   "outputs": [
    {
     "name": "stdout",
     "output_type": "stream",
     "text": [
      "<class 'pandas.core.frame.DataFrame'>\n",
      "Int64Index: 1469 entries, 0 to 1476\n",
      "Data columns (total 6 columns):\n",
      "Article_signifier    1469 non-null object\n",
      "Year                 1469 non-null int64\n",
      "Author               1469 non-null object\n",
      "Title                1469 non-null object\n",
      "Publication          1469 non-null object\n",
      "Abstract             1469 non-null object\n",
      "dtypes: int64(1), object(5)\n",
      "memory usage: 80.3+ KB\n"
     ]
    }
   ],
   "source": [
    "df_ab.info()"
   ]
  },
  {
   "cell_type": "markdown",
   "metadata": {},
   "source": [
    "To make things easier, changing the column names of the dataframe"
   ]
  },
  {
   "cell_type": "code",
   "execution_count": 39,
   "metadata": {},
   "outputs": [],
   "source": [
    "df_ab.columns = ['pkey', 'year', 'authors', 'title', 'publicationName', 'abstract']"
   ]
  },
  {
   "cell_type": "code",
   "execution_count": 40,
   "metadata": {},
   "outputs": [],
   "source": [
    "# some abstracts are NaN; filter these out\n",
    "df_ab['abstract'] = df_ab['abstract'].fillna(\"-\")"
   ]
  },
  {
   "cell_type": "markdown",
   "metadata": {},
   "source": [
    "Need to get rid of Copyright tags in footers such as: _© 2012 Elsevier B.V. All rights reserved._\n",
    "Strategy: look for regex that matchines between © 20 and .\n",
    "\n",
    "Examples: \"© 2014 Copyright Taylor and Francis Group, LLC.\"; \"Copyright is held by the owner/author(s).\", \"Copyright 2013 ACM.\"\n",
    "-therefore, not all footers have copyright symbol, but they do have the word capitalized\n"
   ]
  },
  {
   "cell_type": "code",
   "execution_count": 41,
   "metadata": {
    "scrolled": false
   },
   "outputs": [],
   "source": [
    "symbol_pattern = \"©(.*)\"\n",
    "word_pattern = \"Copyright(.*)\"\n",
    "df_ab[\"abstract_cleaned\"] = \"\" # prep column\n",
    "\n",
    "for i, row in df_ab.iterrows():    \n",
    "    if len(row[\"abstract\"])>1:\n",
    "        if \"Copyright\" in row[\"abstract\"]:         \n",
    "            abstract_cleaned = re.sub(word_pattern, \"\", row[\"abstract\"])\n",
    "        elif \"©\" in row[\"abstract\"]:\n",
    "            abstract_cleaned = re.sub(symbol_pattern, \"\", row[\"abstract\"])\n",
    "        else:\n",
    "            abstract_cleaned = row[\"abstract\"]\n",
    "    df_ab.loc[i,\"abstract_cleaned\"]= abstract_cleaned.replace(\"All rights reserved\", \"\")"
   ]
  },
  {
   "cell_type": "code",
   "execution_count": 46,
   "metadata": {},
   "outputs": [
    {
     "data": {
      "text/html": [
       "<div>\n",
       "<style scoped>\n",
       "    .dataframe tbody tr th:only-of-type {\n",
       "        vertical-align: middle;\n",
       "    }\n",
       "\n",
       "    .dataframe tbody tr th {\n",
       "        vertical-align: top;\n",
       "    }\n",
       "\n",
       "    .dataframe thead th {\n",
       "        text-align: right;\n",
       "    }\n",
       "</style>\n",
       "<table border=\"1\" class=\"dataframe\">\n",
       "  <thead>\n",
       "    <tr style=\"text-align: right;\">\n",
       "      <th></th>\n",
       "      <th>pkey</th>\n",
       "      <th>year</th>\n",
       "      <th>authors</th>\n",
       "      <th>title</th>\n",
       "      <th>publicationName</th>\n",
       "      <th>abstract</th>\n",
       "      <th>abstract_cleaned</th>\n",
       "    </tr>\n",
       "  </thead>\n",
       "  <tbody>\n",
       "    <tr>\n",
       "      <th>0</th>\n",
       "      <td>academic autonomy beyond the nation-state the ...</td>\n",
       "      <td>2018</td>\n",
       "      <td>Baier, C; Gengnagel, V</td>\n",
       "      <td>Academic Autonomy Beyond the Nation-State The ...</td>\n",
       "      <td>OSTERREICHISCHE ZEITSCHRIFT FUER SOZIOLOGIE</td>\n",
       "      <td>The social sciences and humanities (SSH) tradi...</td>\n",
       "      <td>The social sciences and humanities (SSH) tradi...</td>\n",
       "    </tr>\n",
       "    <tr>\n",
       "      <th>1</th>\n",
       "      <td>exploring hidden factors behind online food sh...</td>\n",
       "      <td>2018</td>\n",
       "      <td>Heng, Y; Gao, ZF; Jiang, Y; Chen, XQ</td>\n",
       "      <td>Exploring hidden factors behind online food sh...</td>\n",
       "      <td>JOURNAL OF RETAILING AND CONSUMER SERVICES</td>\n",
       "      <td>Despite the popularity of online food and groc...</td>\n",
       "      <td>Despite the popularity of online food and groc...</td>\n",
       "    </tr>\n",
       "  </tbody>\n",
       "</table>\n",
       "</div>"
      ],
      "text/plain": [
       "                                                pkey  year  \\\n",
       "0  academic autonomy beyond the nation-state the ...  2018   \n",
       "1  exploring hidden factors behind online food sh...  2018   \n",
       "\n",
       "                                authors  \\\n",
       "0                Baier, C; Gengnagel, V   \n",
       "1  Heng, Y; Gao, ZF; Jiang, Y; Chen, XQ   \n",
       "\n",
       "                                               title  \\\n",
       "0  Academic Autonomy Beyond the Nation-State The ...   \n",
       "1  Exploring hidden factors behind online food sh...   \n",
       "\n",
       "                               publicationName  \\\n",
       "0  OSTERREICHISCHE ZEITSCHRIFT FUER SOZIOLOGIE   \n",
       "1   JOURNAL OF RETAILING AND CONSUMER SERVICES   \n",
       "\n",
       "                                            abstract  \\\n",
       "0  The social sciences and humanities (SSH) tradi...   \n",
       "1  Despite the popularity of online food and groc...   \n",
       "\n",
       "                                    abstract_cleaned  \n",
       "0  The social sciences and humanities (SSH) tradi...  \n",
       "1  Despite the popularity of online food and groc...  "
      ]
     },
     "execution_count": 46,
     "metadata": {},
     "output_type": "execute_result"
    }
   ],
   "source": [
    "df_ab.head(2)"
   ]
  },
  {
   "cell_type": "markdown",
   "metadata": {},
   "source": [
    "How many rows have NaN abstracts?"
   ]
  },
  {
   "cell_type": "code",
   "execution_count": 49,
   "metadata": {},
   "outputs": [
    {
     "data": {
      "text/plain": [
       "654"
      ]
     },
     "execution_count": 49,
     "metadata": {},
     "output_type": "execute_result"
    }
   ],
   "source": [
    "df_ab['publicationName'].nunique()"
   ]
  },
  {
   "cell_type": "markdown",
   "metadata": {},
   "source": [
    "Now, save this file as csv (will be used in processing LDA output)"
   ]
  },
  {
   "cell_type": "code",
   "execution_count": 50,
   "metadata": {},
   "outputs": [],
   "source": [
    "df_ab.to_csv(\"article_list_June18_Analysis.csv\")"
   ]
  },
  {
   "cell_type": "markdown",
   "metadata": {},
   "source": [
    "Now ready to pre-process abstract column"
   ]
  },
  {
   "cell_type": "code",
   "execution_count": 51,
   "metadata": {},
   "outputs": [],
   "source": [
    "abstracts_all = df_ab['abstract_cleaned']"
   ]
  },
  {
   "cell_type": "markdown",
   "metadata": {},
   "source": [
    "### now, pre-process the text for LDA topic modeling"
   ]
  },
  {
   "cell_type": "code",
   "execution_count": 52,
   "metadata": {},
   "outputs": [
    {
     "name": "stdout",
     "output_type": "stream",
     "text": [
      "[nltk_data] Downloading package wordnet to /Users/Tim/nltk_data...\n",
      "[nltk_data]   Package wordnet is already up-to-date!\n"
     ]
    }
   ],
   "source": [
    "import gensim\n",
    "from gensim.utils import simple_preprocess\n",
    "from gensim.models.coherencemodel import CoherenceModel\n",
    "from gensim.models.ldamodel import LdaModel\n",
    "from gensim.models.hdpmodel import HdpModel\n",
    "from gensim.models.wrappers import LdaVowpalWabbit, LdaMallet\n",
    "from gensim.corpora.dictionary import Dictionary\n",
    "from gensim.parsing.preprocessing import STOPWORDS\n",
    "from nltk.stem import WordNetLemmatizer, SnowballStemmer\n",
    "from nltk.stem.porter import *\n",
    "import numpy as np\n",
    "np.random.seed(2018)\n",
    "import nltk\n",
    "nltk.download('wordnet')\n",
    "from nltk.tokenize import sent_tokenize\n",
    "from nltk.tokenize import word_tokenize"
   ]
  },
  {
   "cell_type": "markdown",
   "metadata": {},
   "source": [
    "##### Preprocessing methods"
   ]
  },
  {
   "cell_type": "code",
   "execution_count": 53,
   "metadata": {},
   "outputs": [],
   "source": [
    "en_stopwords_path = home_path+'/nltk_data/corpora/stopwords/english'\n",
    "en_stopwords = [line.rstrip('\\n') for line in open(en_stopwords_path)]"
   ]
  },
  {
   "cell_type": "code",
   "execution_count": 55,
   "metadata": {},
   "outputs": [],
   "source": [
    "def removeStopWordsAndSingularizePhrase(phrase): # remove personal pronouns , articles, prepositions; this helps clean phrases for comparison\n",
    "    #phrase = unidecode(phrase) # for simplicity, only working in ASCII, need to look for a pythonic way of doing this that is not dependent on a package    \n",
    "    #phrase = phrase.replace(\"-\", \" \") # replace dashes with periods\n",
    "    phrase = phrase.replace(\"'s\", \"\") \n",
    "    phrase = phrase.replace(\",\", \"\")     \n",
    "    phrase_tb = TextBlob(phrase)\n",
    "    #stemmer = PorterStemmer()\n",
    "    wordnet_lemmatizer = WordNetLemmatizer() # more here: http://textminingonline.com/dive-into-nltk-part-iv-stemming-and-lemmatization\n",
    "    phrase_clean = \"\"\n",
    "    for word in phrase_tb.words:\n",
    "        if len(word)>1: # this may be controversial\n",
    "            regex_pattern = re.compile(r'\\b%s\\b'%word, re.I)  \n",
    "            #if word not in en_stopwords+[\"the\", \"a\"]: # this will not match case insensitivity \n",
    "            wordInStopWordsFlag = False # default\n",
    "            for stopword in en_stopwords+[\"the\", \"a\"]: # this is a more robust alternative approach\n",
    "                if regex_pattern.search(stopword): # note: this is the wide matching condition, contrast this to equality matching                                                    \n",
    "                    wordInStopWordsFlag = True\n",
    "                    break\n",
    "            if wordInStopWordsFlag==False:\n",
    "                word_replacement = wordnet_lemmatizer.lemmatize(word)\n",
    "                #if word_replacement != word:                 \n",
    "                #    word_replacement = word_replacement+\"*\" # this indicates a phrase has been stemmed\n",
    "                #    #print \"word_replacement:\", word_replacement\n",
    "                phrase_clean=phrase_clean+word_replacement+\" \"  \n",
    "    return phrase_clean.strip()"
   ]
  },
  {
   "cell_type": "code",
   "execution_count": 56,
   "metadata": {},
   "outputs": [],
   "source": [
    "def lemmatize_stemming(text):\n",
    "    return WordNetLemmatizer().lemmatize(text)#, pos='v')"
   ]
  },
  {
   "cell_type": "code",
   "execution_count": 57,
   "metadata": {},
   "outputs": [],
   "source": [
    "def preprocess(text):\n",
    "    result = []\n",
    "    text_cleaned = text\n",
    "    text_cleaned = re.sub(\"All rights reserved\\.\",\"\",text_cleaned, flags=re.IGNORECASE)    \n",
    "    for sent in sent_tokenize(text_cleaned):\n",
    "        #print (sent)\n",
    "        for word in word_tokenize(sent):            \n",
    "            #print (word)\n",
    "            word_cleaned = removeStopWordsAndSingularizePhrase(word).lower()            \n",
    "            if word_cleaned not in en_stopwords and len(word_cleaned) > 3:\n",
    "                #print (word_cleaned)\n",
    "                result.append(word_cleaned)\n",
    "    #        result.append(lemmatize_stemming(token))\n",
    "    #for token in gensim.utils.simple_preprocess(text_cleaned):\n",
    "    #    if token not in gensim.parsing.preprocessing.STOPWORDS and len(token) > 3:\n",
    "    #        result.append(lemmatize_stemming(token))\n",
    "    return result"
   ]
  },
  {
   "cell_type": "markdown",
   "metadata": {},
   "source": [
    "#### Sample document - this is testing the preprocessing method"
   ]
  },
  {
   "cell_type": "code",
   "execution_count": 58,
   "metadata": {},
   "outputs": [
    {
     "data": {
      "text/plain": [
       "'The social sciences and humanities (SSH) traditionally have a close relationship to the nation-state and there are substantial disciplinary differences across countries. Drawing on Bourdieu\\'s theory of the academic field, the present article examines how academic autonomy and heteronomy are applied as discursive strategies as the SSH compete for funding in the transnational European arena established by the European Research Council (ERC). To this end, we analyze mission statements of ERC Starting Grant projects in the SSH, using a mixed methods approach of statistical text analysis (topic modeling) and qualitative content analysis. Although the ERC puts the SSH under the constraints of academic capitalism, the classical humanities secure a strong position by signaling academic autonomy and engaging in the construction and consecration of European culture. However, economics and other social sciences gravitate toward a more heteronomous self-representation, emphasizing the political and social utility of their research, while disciplines like neuro-science and psychology exhibit self-representations closely related to the \"hard sciences\"-and relatively alien to the SSH.'"
      ]
     },
     "execution_count": 58,
     "metadata": {},
     "output_type": "execute_result"
    }
   ],
   "source": [
    "# sample doc\n",
    "abstracts_all[0]"
   ]
  },
  {
   "cell_type": "code",
   "execution_count": 59,
   "metadata": {
    "scrolled": true
   },
   "outputs": [
    {
     "name": "stdout",
     "output_type": "stream",
     "text": [
      "['social', 'science', 'humanity', 'traditionally', 'close', 'relationship', 'nation-state', 'substantial', 'disciplinary', 'difference', 'across', 'country', 'drawing', 'bourdieu', 'theory', 'academic', 'field', 'present', 'article', 'examines', 'academic', 'autonomy', 'heteronomy', 'applied', 'discursive', 'strategy', 'compete', 'funding', 'transnational', 'european', 'arena', 'established', 'european', 'research', 'council', 'analyze', 'mission', 'statement', 'starting', 'grant', 'project', 'using', 'mixed', 'method', 'approach', 'statistical', 'text', 'analysis', 'topic', 'modeling', 'qualitative', 'content', 'analysis', 'although', 'constraint', 'academic', 'capitalism', 'classical', 'humanity', 'secure', 'strong', 'position', 'signaling', 'academic', 'autonomy', 'engaging', 'construction', 'consecration', 'european', 'culture', 'however', 'economics', 'social', 'science', 'gravitate', 'toward', 'heteronomous', 'self-representation', 'emphasizing', 'political', 'social', 'utility', 'research', 'discipline', 'like', 'neuro-science', 'psychology', 'exhibit', 'self-representations', 'closely', 'related', 'hard', 'science', 'relatively', 'alien']\n"
     ]
    }
   ],
   "source": [
    "# sample doc\n",
    "print(preprocess(abstracts_all[0]))"
   ]
  },
  {
   "cell_type": "markdown",
   "metadata": {},
   "source": [
    "#### Now, clean all documents"
   ]
  },
  {
   "cell_type": "code",
   "execution_count": 60,
   "metadata": {},
   "outputs": [],
   "source": [
    "# all docs\n",
    "processed_docs = [preprocess(abstract) for abstract in abstracts_all]"
   ]
  },
  {
   "cell_type": "code",
   "execution_count": 308,
   "metadata": {},
   "outputs": [],
   "source": [
    "processed_docs_as_string = [' '.join(doc) for doc in processed_docs ]"
   ]
  },
  {
   "cell_type": "markdown",
   "metadata": {},
   "source": [
    "#### should we pre-process phrases?"
   ]
  },
  {
   "cell_type": "markdown",
   "metadata": {},
   "source": [
    "This could be informed by trigram and bigram analysis"
   ]
  },
  {
   "cell_type": "code",
   "execution_count": 68,
   "metadata": {},
   "outputs": [],
   "source": [
    "import nltk\n",
    "from nltk.util import ngrams\n",
    "import collections\n",
    "from collections import Counter\n",
    "bigrams_counter = collections.Counter()\n",
    "trigrams_counter = collections.Counter()"
   ]
  },
  {
   "cell_type": "code",
   "execution_count": 69,
   "metadata": {},
   "outputs": [],
   "source": [
    "for abstract_processed in processed_docs:\n",
    "    bigrams = ngrams(abstract_processed,2)\n",
    "    trigrams = ngrams(abstract_processed,3)\n",
    "    bigrams_counter.update(bigrams)\n",
    "    trigrams_counter.update(trigrams)"
   ]
  },
  {
   "cell_type": "code",
   "execution_count": 70,
   "metadata": {},
   "outputs": [
    {
     "name": "stdout",
     "output_type": "stream",
     "text": [
      "Most common trigrams:\n",
      "('latent', 'dirichlet', 'allocation'):     388\n",
      "('experimental', 'result', 'show'):      68\n",
      "('dirichlet', 'allocation', 'model'):      65\n",
      "('probabilistic', 'topic', 'model'):      58\n",
      "('latent', 'semantic', 'analysis'):      55\n",
      "('natural', 'language', 'processing'):      44\n",
      "('probabilistic', 'latent', 'semantic'):      36\n",
      "('proceeding', 'contain', 'paper'):      34\n",
      "('based', 'latent', 'dirichlet'):      31\n",
      "('social', 'medium', 'data'):      30\n",
      "('support', 'vector', 'machine'):      28\n",
      "('topic', 'modeling', 'technique'):      27\n",
      "('topic', 'modeling', 'approach'):      26\n",
      "('using', 'latent', 'dirichlet'):      26\n",
      "('topic', 'discussed', 'include'):      26\n",
      "('contain', 'paper', 'topic'):      25\n",
      "('paper', 'topic', 'discussed'):      25\n",
      "('dirichlet', 'allocation', 'topic'):      24\n",
      "('paper', 'propose', 'novel'):      24\n",
      "('play', 'important', 'role'):      24\n",
      "('model', 'latent', 'dirichlet'):      24\n",
      "('using', 'topic', 'modeling'):      23\n",
      "('probabilistic', 'topic', 'modeling'):      23\n",
      "('semantic', 'analysis', 'plsa'):      23\n",
      "('online', 'social', 'network'):      23\n",
      "('latent', 'topic', 'model'):      22\n",
      "('analysis', 'topic', 'modeling'):      20\n",
      "('using', 'topic', 'model'):      20\n",
      "('result', 'show', 'proposed'):      20\n",
      "('topic', 'model', 'based'):      19\n",
      "('show', 'proposed', 'method'):      19\n",
      "('topic', 'model', 'latent'):      19\n",
      "('topic', 'modeling', 'method'):      17\n",
      "('online', 'product', 'review'):      16\n",
      "('word', 'sense', 'disambiguation'):      16\n",
      "('vector', 'space', 'model'):      16\n",
      "('social', 'medium', 'platform'):      15\n",
      "('social', 'medium', 'site'):      15\n",
      "('automated', 'text', 'analysis'):      14\n",
      "('topic', 'model', 'used'):      14\n",
      "('topic', 'modeling', 'algorithm'):      14\n",
      "('experimental', 'result', 'demonstrate'):      14\n",
      "('hierarchical', 'dirichlet', 'process'):      14\n",
      "('remote', 'sensing', 'image'):      13\n",
      "('model', 'topic', 'model'):      13\n",
      "('allocation', 'topic', 'model'):      13\n",
      "('text', 'mining', 'technique'):      13\n",
      "('show', 'proposed', 'approach'):      13\n",
      "('social', 'networking', 'site'):      13\n",
      "('social', 'network', 'analysis'):      12\n"
     ]
    }
   ],
   "source": [
    "print ('Most common trigrams:')\n",
    "for letter, count in trigrams_counter.most_common(50):\n",
    "    print ('%s: %7d' % (letter, count))"
   ]
  },
  {
   "cell_type": "code",
   "execution_count": 77,
   "metadata": {},
   "outputs": [],
   "source": [
    "trigrams_counter_dict =  dict(trigrams_counter)"
   ]
  },
  {
   "cell_type": "code",
   "execution_count": 78,
   "metadata": {},
   "outputs": [],
   "source": [
    "trigrams_counter_df = pd.DataFrame.from_dict(trigrams_counter_dict, orient='index')"
   ]
  },
  {
   "cell_type": "code",
   "execution_count": 79,
   "metadata": {},
   "outputs": [],
   "source": [
    "trigrams_counter_df = trigrams_counter_df.sort_values(by=[0],ascending=False\n",
    "                                                     )"
   ]
  },
  {
   "cell_type": "code",
   "execution_count": 80,
   "metadata": {
    "scrolled": true
   },
   "outputs": [
    {
     "data": {
      "text/plain": [
       "<matplotlib.axes._subplots.AxesSubplot at 0x11ec6b470>"
      ]
     },
     "execution_count": 80,
     "metadata": {},
     "output_type": "execute_result"
    },
    {
     "data": {
      "image/png": "[encoded data removed]",
      "text/plain": [
       "<Figure size 432x288 with 1 Axes>"
      ]
     },
     "metadata": {
      "needs_background": "light"
     },
     "output_type": "display_data"
    }
   ],
   "source": [
    "trigrams_counter_df.plot()"
   ]
  },
  {
   "cell_type": "code",
   "execution_count": 71,
   "metadata": {},
   "outputs": [
    {
     "name": "stdout",
     "output_type": "stream",
     "text": [
      "Most common bigrams:\n",
      "('topic', 'model'):     751\n",
      "('topic', 'modeling'):     452\n",
      "('latent', 'dirichlet'):     398\n",
      "('dirichlet', 'allocation'):     390\n",
      "('social', 'medium'):     266\n",
      "('experimental', 'result'):     167\n",
      "('social', 'network'):     160\n",
      "('result', 'show'):     157\n",
      "('latent', 'topic'):     145\n",
      "('paper', 'propose'):     128\n",
      "('proposed', 'method'):     113\n",
      "('text', 'mining'):     103\n",
      "('paper', 'present'):      96\n",
      "('latent', 'semantic'):      89\n",
      "('probabilistic', 'topic'):      85\n",
      "('information', 'retrieval'):      82\n",
      "('machine', 'learning'):      81\n",
      "('semantic', 'analysis'):      73\n",
      "('text', 'analysis'):      71\n",
      "('topic', 'modelling'):      70\n",
      "('sentiment', 'analysis'):      70\n",
      "('allocation', 'model'):      69\n",
      "('natural', 'language'):      67\n",
      "('show', 'proposed'):      64\n",
      "('proposed', 'approach'):      62\n",
      "('topic', 'distribution'):      62\n",
      "('research', 'topic'):      60\n",
      "('propose', 'novel'):      60\n",
      "('case', 'study'):      59\n",
      "('using', 'topic'):      58\n"
     ]
    }
   ],
   "source": [
    "print ('Most common bigrams:')\n",
    "for letter, count in bigrams_counter.most_common(30):\n",
    "    print ('%s: %7d' % (letter, count))"
   ]
  },
  {
   "cell_type": "code",
   "execution_count": 72,
   "metadata": {},
   "outputs": [],
   "source": [
    "bigrams_counter_dict =  dict(bigrams_counter)"
   ]
  },
  {
   "cell_type": "code",
   "execution_count": 73,
   "metadata": {},
   "outputs": [],
   "source": [
    "bigrams_counter_df = pd.DataFrame.from_dict(bigrams_counter_dict, orient='index')"
   ]
  },
  {
   "cell_type": "code",
   "execution_count": 74,
   "metadata": {},
   "outputs": [],
   "source": [
    "bigrams_counter_df = bigrams_counter_df.sort_values(by=[0],ascending=False\n",
    "                                                     )"
   ]
  },
  {
   "cell_type": "code",
   "execution_count": 75,
   "metadata": {},
   "outputs": [
    {
     "data": {
      "text/plain": [
       "<matplotlib.axes._subplots.AxesSubplot at 0x11dab36d8>"
      ]
     },
     "execution_count": 75,
     "metadata": {},
     "output_type": "execute_result"
    },
    {
     "data": {
      "image/png": "[encoded data removed]",
      "text/plain": [
       "<Figure size 432x288 with 1 Axes>"
      ]
     },
     "metadata": {
      "needs_background": "light"
     },
     "output_type": "display_data"
    }
   ],
   "source": [
    "bigrams_counter_df.plot()"
   ]
  },
  {
   "cell_type": "markdown",
   "metadata": {},
   "source": [
    "# collapse phrases; to collapse phrases, include in this list, then run the code\n",
    "phrases_to_collapse = [ ]"
   ]
  },
  {
   "cell_type": "markdown",
   "metadata": {},
   "source": [
    "processed_docs_r = []  \n",
    "for doc in processed_docs_as_string:\n",
    "    for phrase in phrases_to_collapse:\n",
    "        phrase_with_underscore = phrase.replace(\" \", \"_\")\n",
    "        doc = doc.replace(phrase, phrase_with_underscore)\n",
    "    processed_docs_r.append(doc.split(\" \"))"
   ]
  },
  {
   "cell_type": "markdown",
   "metadata": {},
   "source": [
    "### LDA methods"
   ]
  },
  {
   "cell_type": "code",
   "execution_count": 82,
   "metadata": {},
   "outputs": [],
   "source": [
    "# work with Mallet wrapper in Gensim\n",
    "from gensim.models.wrappers import LdaMallet\n",
    "path_to_mallet_binary = home_path+\"/Dev_stuff/mallet-2.0.8/bin/mallet\""
   ]
  },
  {
   "cell_type": "code",
   "execution_count": 83,
   "metadata": {},
   "outputs": [],
   "source": [
    "# Filter out tokens that appear in: i) less than 15 documents (absolute number) or ii) more than 0.5 documents (fraction of total corpus size, not absolute number).\n",
    "#dictionary = dictionary.filter_extremes(no_below=15, no_above=0.5, keep_n=100000)"
   ]
  },
  {
   "cell_type": "code",
   "execution_count": 84,
   "metadata": {},
   "outputs": [],
   "source": [
    "# Create a dictionary from ‘processed_docs’ containing the number of times a word appears in the training set.\n",
    "dictionary = gensim.corpora.Dictionary(processed_docs)"
   ]
  },
  {
   "cell_type": "code",
   "execution_count": 85,
   "metadata": {},
   "outputs": [],
   "source": [
    "# Gensim doc2bow\n",
    "# For each document we create a dictionary reporting how many words and how many times those words appear. Save this to ‘bow_corpus’\n",
    "corpus = [dictionary.doc2bow(doc) for doc in processed_docs]"
   ]
  },
  {
   "cell_type": "markdown",
   "metadata": {},
   "source": [
    "Now, actually doing the LDA"
   ]
  },
  {
   "cell_type": "code",
   "execution_count": 86,
   "metadata": {},
   "outputs": [],
   "source": [
    "def generateModelCoherence(corpus, dictionary,processed_docs,step=5, start=5, end=10):\n",
    "    # output a pandas dataframe with each row as a model; num_topics, coherence, model    \n",
    "    i = 0\n",
    "    num_topics = (i * step)+start\n",
    "    models = []\n",
    "    while num_topics<end:\n",
    "        num_topics = i * step+start\n",
    "        print (\"num_topics:\", num_topics)\n",
    "        lda_model_mallet = LdaMallet(path_to_mallet_binary, corpus=corpus, num_topics=num_topics, id2word=dictionary)\n",
    "        cm = CoherenceModel(model=lda_model_mallet ,texts=processed_docs, corpus=corpus,dictionary=dictionary, coherence='c_v')\n",
    "        print (\"coherence:\",cm.get_coherence())\n",
    "        model_specs = {\"num_topics\":num_topics, \"model\":lda_model_mallet, \"coherence\":cm.get_coherence()}\n",
    "        models.append(model_specs)\n",
    "        i+=1 # increment step\n",
    "    return pd.DataFrame(models)"
   ]
  },
  {
   "cell_type": "code",
   "execution_count": 87,
   "metadata": {},
   "outputs": [
    {
     "name": "stdout",
     "output_type": "stream",
     "text": [
      "num_topics: 10\n",
      "coherence: 0.4447861867306737\n",
      "num_topics: 15\n",
      "coherence: 0.45043367356896896\n",
      "num_topics: 20\n",
      "coherence: 0.4206971304981031\n",
      "num_topics: 25\n",
      "coherence: 0.40981001872534334\n",
      "num_topics: 30\n",
      "coherence: 0.400960810595453\n",
      "num_topics: 35\n",
      "coherence: 0.3993084243775669\n",
      "num_topics: 40\n",
      "coherence: 0.3874705882122679\n",
      "num_topics: 45\n",
      "coherence: 0.3799981960432084\n",
      "num_topics: 50\n",
      "coherence: 0.37963631217034327\n",
      "num_topics: 55\n",
      "coherence: 0.37269739475621866\n",
      "num_topics: 60\n",
      "coherence: 0.3650145496546912\n",
      "num_topics: 65\n",
      "coherence: 0.3733893728511426\n",
      "num_topics: 70\n",
      "coherence: 0.3685805181392735\n",
      "num_topics: 75\n",
      "coherence: 0.3635275114832314\n",
      "num_topics: 80\n",
      "coherence: 0.35936575812100574\n",
      "num_topics: 85\n",
      "coherence: 0.3527253301033179\n",
      "num_topics: 90\n",
      "coherence: 0.3550447758948038\n",
      "num_topics: 95\n",
      "coherence: 0.3521551356752643\n",
      "num_topics: 100\n",
      "coherence: 0.35219059171140743\n"
     ]
    }
   ],
   "source": [
    "all_models = generateModelCoherence(corpus, dictionary,processed_docs,5,10,100)"
   ]
  },
  {
   "cell_type": "code",
   "execution_count": 88,
   "metadata": {},
   "outputs": [
    {
     "data": {
      "text/plain": [
       "19"
      ]
     },
     "execution_count": 88,
     "metadata": {},
     "output_type": "execute_result"
    }
   ],
   "source": [
    "len(all_models)"
   ]
  },
  {
   "cell_type": "code",
   "execution_count": 89,
   "metadata": {},
   "outputs": [
    {
     "data": {
      "text/html": [
       "<div>\n",
       "<style scoped>\n",
       "    .dataframe tbody tr th:only-of-type {\n",
       "        vertical-align: middle;\n",
       "    }\n",
       "\n",
       "    .dataframe tbody tr th {\n",
       "        vertical-align: top;\n",
       "    }\n",
       "\n",
       "    .dataframe thead th {\n",
       "        text-align: right;\n",
       "    }\n",
       "</style>\n",
       "<table border=\"1\" class=\"dataframe\">\n",
       "  <thead>\n",
       "    <tr style=\"text-align: right;\">\n",
       "      <th></th>\n",
       "      <th>coherence</th>\n",
       "      <th>model</th>\n",
       "      <th>num_topics</th>\n",
       "    </tr>\n",
       "  </thead>\n",
       "  <tbody>\n",
       "    <tr>\n",
       "      <th>0</th>\n",
       "      <td>0.444786</td>\n",
       "      <td>&lt;gensim.models.wrappers.ldamallet.LdaMallet ob...</td>\n",
       "      <td>10</td>\n",
       "    </tr>\n",
       "    <tr>\n",
       "      <th>1</th>\n",
       "      <td>0.450434</td>\n",
       "      <td>&lt;gensim.models.wrappers.ldamallet.LdaMallet ob...</td>\n",
       "      <td>15</td>\n",
       "    </tr>\n",
       "    <tr>\n",
       "      <th>2</th>\n",
       "      <td>0.420697</td>\n",
       "      <td>&lt;gensim.models.wrappers.ldamallet.LdaMallet ob...</td>\n",
       "      <td>20</td>\n",
       "    </tr>\n",
       "    <tr>\n",
       "      <th>3</th>\n",
       "      <td>0.409810</td>\n",
       "      <td>&lt;gensim.models.wrappers.ldamallet.LdaMallet ob...</td>\n",
       "      <td>25</td>\n",
       "    </tr>\n",
       "    <tr>\n",
       "      <th>4</th>\n",
       "      <td>0.400961</td>\n",
       "      <td>&lt;gensim.models.wrappers.ldamallet.LdaMallet ob...</td>\n",
       "      <td>30</td>\n",
       "    </tr>\n",
       "    <tr>\n",
       "      <th>5</th>\n",
       "      <td>0.399308</td>\n",
       "      <td>&lt;gensim.models.wrappers.ldamallet.LdaMallet ob...</td>\n",
       "      <td>35</td>\n",
       "    </tr>\n",
       "    <tr>\n",
       "      <th>6</th>\n",
       "      <td>0.387471</td>\n",
       "      <td>&lt;gensim.models.wrappers.ldamallet.LdaMallet ob...</td>\n",
       "      <td>40</td>\n",
       "    </tr>\n",
       "    <tr>\n",
       "      <th>7</th>\n",
       "      <td>0.379998</td>\n",
       "      <td>&lt;gensim.models.wrappers.ldamallet.LdaMallet ob...</td>\n",
       "      <td>45</td>\n",
       "    </tr>\n",
       "    <tr>\n",
       "      <th>8</th>\n",
       "      <td>0.379636</td>\n",
       "      <td>&lt;gensim.models.wrappers.ldamallet.LdaMallet ob...</td>\n",
       "      <td>50</td>\n",
       "    </tr>\n",
       "    <tr>\n",
       "      <th>9</th>\n",
       "      <td>0.372697</td>\n",
       "      <td>&lt;gensim.models.wrappers.ldamallet.LdaMallet ob...</td>\n",
       "      <td>55</td>\n",
       "    </tr>\n",
       "    <tr>\n",
       "      <th>10</th>\n",
       "      <td>0.365015</td>\n",
       "      <td>&lt;gensim.models.wrappers.ldamallet.LdaMallet ob...</td>\n",
       "      <td>60</td>\n",
       "    </tr>\n",
       "    <tr>\n",
       "      <th>11</th>\n",
       "      <td>0.373389</td>\n",
       "      <td>&lt;gensim.models.wrappers.ldamallet.LdaMallet ob...</td>\n",
       "      <td>65</td>\n",
       "    </tr>\n",
       "    <tr>\n",
       "      <th>12</th>\n",
       "      <td>0.368581</td>\n",
       "      <td>&lt;gensim.models.wrappers.ldamallet.LdaMallet ob...</td>\n",
       "      <td>70</td>\n",
       "    </tr>\n",
       "    <tr>\n",
       "      <th>13</th>\n",
       "      <td>0.363528</td>\n",
       "      <td>&lt;gensim.models.wrappers.ldamallet.LdaMallet ob...</td>\n",
       "      <td>75</td>\n",
       "    </tr>\n",
       "    <tr>\n",
       "      <th>14</th>\n",
       "      <td>0.359366</td>\n",
       "      <td>&lt;gensim.models.wrappers.ldamallet.LdaMallet ob...</td>\n",
       "      <td>80</td>\n",
       "    </tr>\n",
       "    <tr>\n",
       "      <th>15</th>\n",
       "      <td>0.352725</td>\n",
       "      <td>&lt;gensim.models.wrappers.ldamallet.LdaMallet ob...</td>\n",
       "      <td>85</td>\n",
       "    </tr>\n",
       "    <tr>\n",
       "      <th>16</th>\n",
       "      <td>0.355045</td>\n",
       "      <td>&lt;gensim.models.wrappers.ldamallet.LdaMallet ob...</td>\n",
       "      <td>90</td>\n",
       "    </tr>\n",
       "    <tr>\n",
       "      <th>17</th>\n",
       "      <td>0.352155</td>\n",
       "      <td>&lt;gensim.models.wrappers.ldamallet.LdaMallet ob...</td>\n",
       "      <td>95</td>\n",
       "    </tr>\n",
       "    <tr>\n",
       "      <th>18</th>\n",
       "      <td>0.352191</td>\n",
       "      <td>&lt;gensim.models.wrappers.ldamallet.LdaMallet ob...</td>\n",
       "      <td>100</td>\n",
       "    </tr>\n",
       "  </tbody>\n",
       "</table>\n",
       "</div>"
      ],
      "text/plain": [
       "    coherence                                              model  num_topics\n",
       "0    0.444786  <gensim.models.wrappers.ldamallet.LdaMallet ob...          10\n",
       "1    0.450434  <gensim.models.wrappers.ldamallet.LdaMallet ob...          15\n",
       "2    0.420697  <gensim.models.wrappers.ldamallet.LdaMallet ob...          20\n",
       "3    0.409810  <gensim.models.wrappers.ldamallet.LdaMallet ob...          25\n",
       "4    0.400961  <gensim.models.wrappers.ldamallet.LdaMallet ob...          30\n",
       "5    0.399308  <gensim.models.wrappers.ldamallet.LdaMallet ob...          35\n",
       "6    0.387471  <gensim.models.wrappers.ldamallet.LdaMallet ob...          40\n",
       "7    0.379998  <gensim.models.wrappers.ldamallet.LdaMallet ob...          45\n",
       "8    0.379636  <gensim.models.wrappers.ldamallet.LdaMallet ob...          50\n",
       "9    0.372697  <gensim.models.wrappers.ldamallet.LdaMallet ob...          55\n",
       "10   0.365015  <gensim.models.wrappers.ldamallet.LdaMallet ob...          60\n",
       "11   0.373389  <gensim.models.wrappers.ldamallet.LdaMallet ob...          65\n",
       "12   0.368581  <gensim.models.wrappers.ldamallet.LdaMallet ob...          70\n",
       "13   0.363528  <gensim.models.wrappers.ldamallet.LdaMallet ob...          75\n",
       "14   0.359366  <gensim.models.wrappers.ldamallet.LdaMallet ob...          80\n",
       "15   0.352725  <gensim.models.wrappers.ldamallet.LdaMallet ob...          85\n",
       "16   0.355045  <gensim.models.wrappers.ldamallet.LdaMallet ob...          90\n",
       "17   0.352155  <gensim.models.wrappers.ldamallet.LdaMallet ob...          95\n",
       "18   0.352191  <gensim.models.wrappers.ldamallet.LdaMallet ob...         100"
      ]
     },
     "execution_count": 89,
     "metadata": {},
     "output_type": "execute_result"
    }
   ],
   "source": [
    "all_models"
   ]
  },
  {
   "cell_type": "code",
   "execution_count": 94,
   "metadata": {},
   "outputs": [],
   "source": [
    "all_models = all_models.set_index('num_topics')"
   ]
  },
  {
   "cell_type": "code",
   "execution_count": 95,
   "metadata": {},
   "outputs": [
    {
     "data": {
      "text/html": [
       "<div>\n",
       "<style scoped>\n",
       "    .dataframe tbody tr th:only-of-type {\n",
       "        vertical-align: middle;\n",
       "    }\n",
       "\n",
       "    .dataframe tbody tr th {\n",
       "        vertical-align: top;\n",
       "    }\n",
       "\n",
       "    .dataframe thead th {\n",
       "        text-align: right;\n",
       "    }\n",
       "</style>\n",
       "<table border=\"1\" class=\"dataframe\">\n",
       "  <thead>\n",
       "    <tr style=\"text-align: right;\">\n",
       "      <th></th>\n",
       "      <th>coherence</th>\n",
       "      <th>model</th>\n",
       "    </tr>\n",
       "    <tr>\n",
       "      <th>num_topics</th>\n",
       "      <th></th>\n",
       "      <th></th>\n",
       "    </tr>\n",
       "  </thead>\n",
       "  <tbody>\n",
       "    <tr>\n",
       "      <th>10</th>\n",
       "      <td>0.444786</td>\n",
       "      <td>&lt;gensim.models.wrappers.ldamallet.LdaMallet ob...</td>\n",
       "    </tr>\n",
       "    <tr>\n",
       "      <th>15</th>\n",
       "      <td>0.450434</td>\n",
       "      <td>&lt;gensim.models.wrappers.ldamallet.LdaMallet ob...</td>\n",
       "    </tr>\n",
       "    <tr>\n",
       "      <th>20</th>\n",
       "      <td>0.420697</td>\n",
       "      <td>&lt;gensim.models.wrappers.ldamallet.LdaMallet ob...</td>\n",
       "    </tr>\n",
       "    <tr>\n",
       "      <th>25</th>\n",
       "      <td>0.409810</td>\n",
       "      <td>&lt;gensim.models.wrappers.ldamallet.LdaMallet ob...</td>\n",
       "    </tr>\n",
       "    <tr>\n",
       "      <th>30</th>\n",
       "      <td>0.400961</td>\n",
       "      <td>&lt;gensim.models.wrappers.ldamallet.LdaMallet ob...</td>\n",
       "    </tr>\n",
       "  </tbody>\n",
       "</table>\n",
       "</div>"
      ],
      "text/plain": [
       "            coherence                                              model\n",
       "num_topics                                                              \n",
       "10           0.444786  <gensim.models.wrappers.ldamallet.LdaMallet ob...\n",
       "15           0.450434  <gensim.models.wrappers.ldamallet.LdaMallet ob...\n",
       "20           0.420697  <gensim.models.wrappers.ldamallet.LdaMallet ob...\n",
       "25           0.409810  <gensim.models.wrappers.ldamallet.LdaMallet ob...\n",
       "30           0.400961  <gensim.models.wrappers.ldamallet.LdaMallet ob..."
      ]
     },
     "execution_count": 95,
     "metadata": {},
     "output_type": "execute_result"
    }
   ],
   "source": [
    "all_models.head()"
   ]
  },
  {
   "cell_type": "code",
   "execution_count": 96,
   "metadata": {},
   "outputs": [
    {
     "data": {
      "text/plain": [
       "<matplotlib.axes._subplots.AxesSubplot at 0x123954550>"
      ]
     },
     "execution_count": 96,
     "metadata": {},
     "output_type": "execute_result"
    },
    {
     "data": {
      "image/png": "[encoded data removed]",
      "text/plain": [
       "<Figure size 432x288 with 1 Axes>"
      ]
     },
     "metadata": {
      "needs_background": "light"
     },
     "output_type": "display_data"
    }
   ],
   "source": [
    "models_to_plot = all_models.copy() \n",
    "models_to_plot = models_to_plot.drop(columns=['model'])\n",
    "models_to_plot.plot()"
   ]
  },
  {
   "cell_type": "markdown",
   "metadata": {},
   "source": [
    "From this, the optimal topics could be 15 or 65"
   ]
  },
  {
   "cell_type": "markdown",
   "metadata": {},
   "source": [
    "## Saving 15 topics"
   ]
  },
  {
   "cell_type": "code",
   "execution_count": 99,
   "metadata": {},
   "outputs": [
    {
     "data": {
      "text/plain": [
       "'./lda_model_15_doc_topics_file_Jun2018_Analysis.txt'"
      ]
     },
     "execution_count": 99,
     "metadata": {},
     "output_type": "execute_result"
    }
   ],
   "source": [
    "lda_model_mallet_15 = all_models.loc[15]['model']\n",
    "lda_model_mallet_15.save(\"lda_model_15_topics_Jun2018_Analysis.sav\")\n",
    "path_state_file_for_lda_model = lda_model_mallet_15.fstate()\n",
    "shutil.copy2(path_state_file_for_lda_model, \"./lda_model_15_topics_file_Jun2018_Analysis.gzip\")\n",
    "\n",
    "path_doc_topics_for_lda_model = lda_model_mallet_15.fdoctopics() \n",
    "shutil.copy2(path_doc_topics_for_lda_model, \"./lda_model_15_doc_topics_file_Jun2018_Analysis.txt\")"
   ]
  },
  {
   "cell_type": "markdown",
   "metadata": {},
   "source": [
    "## Saving 65 topics"
   ]
  },
  {
   "cell_type": "code",
   "execution_count": 100,
   "metadata": {},
   "outputs": [
    {
     "data": {
      "text/plain": [
       "'./lda_model_65_doc_topics_file_Jun2018_Analysis.txt'"
      ]
     },
     "execution_count": 100,
     "metadata": {},
     "output_type": "execute_result"
    }
   ],
   "source": [
    "lda_model_mallet_65 = all_models.loc[65]['model']\n",
    "lda_model_mallet_65.save(\"lda_model_65_topics_Jun2018_Analysis.sav\")\n",
    "path_state_file_for_lda_model = lda_model_mallet_65.fstate()\n",
    "shutil.copy2(path_state_file_for_lda_model, \"./lda_model_65_topics_file_Jun2018_Analysis.gzip\")\n",
    "\n",
    "path_doc_topics_for_lda_model = lda_model_mallet_65.fdoctopics() \n",
    "shutil.copy2(path_doc_topics_for_lda_model, \"./lda_model_65_doc_topics_file_Jun2018_Analysis.txt\")"
   ]
  },
  {
   "cell_type": "markdown",
   "metadata": {},
   "source": [
    "## Start to inspect topics"
   ]
  },
  {
   "cell_type": "code",
   "execution_count": 98,
   "metadata": {},
   "outputs": [
    {
     "data": {
      "text/plain": [
       "[(19,\n",
       "  '0.090*\"evaluation\" + 0.072*\"order\" + 0.047*\"page\" + 0.043*\"view\" + 0.037*\"concern\" + 0.034*\"rate\" + 0.023*\"point\" + 0.021*\"book\" + 0.021*\"conducted\" + 0.018*\"statistic\"'),\n",
       " (73,\n",
       "  '0.030*\"information\" + 0.027*\"social\" + 0.026*\"effect\" + 0.021*\"network\" + 0.021*\"service\" + 0.013*\"management\" + 0.013*\"role\" + 0.012*\"project\" + 0.010*\"user\" + 0.010*\"impact\"'),\n",
       " (22,\n",
       "  '0.063*\"business\" + 0.055*\"company\" + 0.050*\"consumer\" + 0.042*\"market\" + 0.040*\"potential\" + 0.030*\"firm\" + 0.030*\"industry\" + 0.026*\"competitive\" + 0.025*\"framework\" + 0.022*\"strategy\"'),\n",
       " (53,\n",
       "  '0.094*\"science\" + 0.067*\"analysis\" + 0.054*\"research\" + 0.041*\"software\" + 0.031*\"engineering\" + 0.030*\"computer\" + 0.025*\"skill\" + 0.023*\"technique\" + 0.020*\"practice\" + 0.019*\"developed\"'),\n",
       " (44,\n",
       "  '0.094*\"area\" + 0.064*\"patent\" + 0.052*\"urban\" + 0.042*\"analysis\" + 0.035*\"study\" + 0.028*\"elsevier\" + 0.026*\"planning\" + 0.019*\"functional\" + 0.018*\"case\" + 0.018*\"land\"'),\n",
       " (9,\n",
       "  '0.184*\"review\" + 0.086*\"service\" + 0.085*\"product\" + 0.082*\"aspect\" + 0.052*\"online\" + 0.052*\"customer\" + 0.024*\"rating\" + 0.018*\"dimension\" + 0.016*\"mining\" + 0.016*\"extract\"'),\n",
       " (26,\n",
       "  '0.109*\"technique\" + 0.087*\"work\" + 0.066*\"provide\" + 0.058*\"present\" + 0.054*\"modelling\" + 0.047*\"contribution\" + 0.040*\"case\" + 0.034*\"context\" + 0.029*\"visualization\" + 0.022*\"produce\"'),\n",
       " (28,\n",
       "  '0.363*\"social\" + 0.176*\"medium\" + 0.019*\"platform\" + 0.019*\"audience\" + 0.018*\"provide\" + 0.015*\"engagement\" + 0.014*\"opportunity\" + 0.014*\"site\" + 0.014*\"application\" + 0.014*\"characteristic\"'),\n",
       " (3,\n",
       "  '0.284*\"feature\" + 0.102*\"classification\" + 0.035*\"vector\" + 0.034*\"accuracy\" + 0.026*\"paper\" + 0.026*\"classifier\" + 0.021*\"performance\" + 0.020*\"machine\" + 0.018*\"spectral\" + 0.017*\"scene\"'),\n",
       " (33,\n",
       "  '0.201*\"result\" + 0.096*\"show\" + 0.038*\"good\" + 0.038*\"experimental\" + 0.036*\"investigate\" + 0.034*\"effectively\" + 0.030*\"popular\" + 0.030*\"automatically\" + 0.028*\"phrase\" + 0.026*\"real\"'),\n",
       " (57,\n",
       "  '0.438*\"document\" + 0.092*\"model\" + 0.091*\"collection\" + 0.036*\"topic\" + 0.022*\"retrieval\" + 0.015*\"topical\" + 0.014*\"indexing\" + 0.014*\"selection\" + 0.012*\"underlying\" + 0.010*\"experiments\"'),\n",
       " (4,\n",
       "  '0.259*\"model\" + 0.222*\"topic\" + 0.068*\"propose\" + 0.043*\"existing\" + 0.027*\"experiments\" + 0.023*\"chinese\" + 0.022*\"outperforms\" + 0.019*\"demonstrate\" + 0.018*\"called\" + 0.016*\"multiple\"'),\n",
       " (66,\n",
       "  '0.402*\"approach\" + 0.061*\"show\" + 0.042*\"present\" + 0.031*\"alternative\" + 0.031*\"compare\" + 0.027*\"identifying\" + 0.023*\"unsupervised\" + 0.020*\"hidden\" + 0.018*\"lda-based\" + 0.018*\"apply\"'),\n",
       " (67,\n",
       "  '0.277*\"network\" + 0.066*\"link\" + 0.065*\"graph\" + 0.035*\"social\" + 0.026*\"property\" + 0.025*\"paper\" + 0.021*\"discovery\" + 0.020*\"structural\" + 0.020*\"structure\" + 0.018*\"topical\"'),\n",
       " (61,\n",
       "  '0.234*\"semantic\" + 0.098*\"representation\" + 0.080*\"concept\" + 0.062*\"latent\" + 0.048*\"relation\" + 0.041*\"probabilistic\" + 0.023*\"semantics\" + 0.021*\"explicit\" + 0.021*\"ontology\" + 0.020*\"plsa\"')]"
      ]
     },
     "execution_count": 98,
     "metadata": {},
     "output_type": "execute_result"
    }
   ],
   "source": [
    "lda_model_mallet_15.show_topics(15)"
   ]
  },
  {
   "cell_type": "code",
   "execution_count": 101,
   "metadata": {},
   "outputs": [
    {
     "data": {
      "text/plain": [
       "[(0,\n",
       "  '0.383*\"information\" + 0.056*\"based\" + 0.037*\"source\" + 0.037*\"paper\" + 0.029*\"order\" + 0.026*\"internet\" + 0.024*\"specific\" + 0.019*\"provide\" + 0.018*\"framework\" + 0.018*\"extracted\"'),\n",
       " (1,\n",
       "  '0.043*\"sample\" + 0.027*\"patient\" + 0.026*\"health\" + 0.023*\"treatment\" + 0.020*\"medical\" + 0.020*\"higher\" + 0.019*\"results\" + 0.019*\"clinical\" + 0.019*\"condition\" + 0.018*\"increase\"'),\n",
       " (2,\n",
       "  '0.086*\"change\" + 0.057*\"issue\" + 0.037*\"policy\" + 0.032*\"understanding\" + 0.029*\"climate\" + 0.028*\"public\" + 0.024*\"development\" + 0.023*\"individual\" + 0.021*\"find\" + 0.021*\"energy\"'),\n",
       " (3,\n",
       "  '0.090*\"activity\" + 0.079*\"post\" + 0.041*\"candidate\" + 0.031*\"place\" + 0.026*\"blog\" + 0.020*\"political\" + 0.020*\"online\" + 0.020*\"modeling\" + 0.019*\"individual\" + 0.018*\"focus\"'),\n",
       " (4,\n",
       "  '0.233*\"model\" + 0.054*\"show\" + 0.047*\"task\" + 0.046*\"propose\" + 0.043*\"proposed\" + 0.040*\"outperforms\" + 0.034*\"capture\" + 0.029*\"baseline\" + 0.028*\"state-of-the-art\" + 0.023*\"experiment\"'),\n",
       " (5,\n",
       "  '0.086*\"evaluation\" + 0.085*\"result\" + 0.042*\"approach\" + 0.032*\"evaluate\" + 0.031*\"page\" + 0.030*\"annotation\" + 0.028*\"perspective\" + 0.028*\"correlation\" + 0.022*\"concern\" + 0.022*\"present\"'),\n",
       " (6,\n",
       "  '0.424*\"text\" + 0.074*\"mining\" + 0.073*\"corpus\" + 0.049*\"short\" + 0.021*\"large\" + 0.019*\"number\" + 0.015*\"address\" + 0.011*\"effective\" + 0.011*\"automatically\" + 0.010*\"long\"'),\n",
       " (7,\n",
       "  '0.059*\"behavior\" + 0.056*\"factor\" + 0.047*\"find\" + 0.037*\"impact\" + 0.033*\"effect\" + 0.026*\"influence\" + 0.023*\"individual\" + 0.022*\"study\" + 0.021*\"increase\" + 0.020*\"difference\"'),\n",
       " (8,\n",
       "  '0.120*\"search\" + 0.100*\"query\" + 0.058*\"retrieval\" + 0.044*\"relevant\" + 0.035*\"ranking\" + 0.034*\"result\" + 0.032*\"relevance\" + 0.030*\"engine\" + 0.025*\"feedback\" + 0.022*\"technique\"'),\n",
       " (9,\n",
       "  '0.042*\"characteristic\" + 0.035*\"video\" + 0.029*\"significant\" + 0.026*\"control\" + 0.023*\"accident\" + 0.023*\"count\" + 0.022*\"requirement\" + 0.021*\"n-gram\" + 0.019*\"improvement\" + 0.017*\"traffic\"'),\n",
       " (10,\n",
       "  '0.100*\"human\" + 0.053*\"related\" + 0.053*\"work\" + 0.046*\"context\" + 0.037*\"present\" + 0.032*\"generated\" + 0.023*\"produced\" + 0.022*\"produce\" + 0.022*\"developed\" + 0.019*\"discus\"'),\n",
       " (11,\n",
       "  '0.315*\"word\" + 0.050*\"sentence\" + 0.042*\"summarization\" + 0.034*\"sense\" + 0.033*\"summary\" + 0.030*\"context\" + 0.028*\"model\" + 0.026*\"task\" + 0.021*\"paper\" + 0.019*\"co-occurrence\"'),\n",
       " (12,\n",
       "  '0.146*\"language\" + 0.082*\"corpus\" + 0.061*\"model\" + 0.043*\"natural\" + 0.035*\"wikipedia\" + 0.027*\"processing\" + 0.025*\"translation\" + 0.023*\"article\" + 0.022*\"english\" + 0.021*\"parallel\"'),\n",
       " (13,\n",
       "  '0.095*\"space\" + 0.094*\"model\" + 0.031*\"parameter\" + 0.025*\"random\" + 0.023*\"speaker\" + 0.021*\"distribution\" + 0.019*\"estimation\" + 0.018*\"modeling\" + 0.017*\"matrix\" + 0.016*\"vector\"'),\n",
       " (14,\n",
       "  '0.117*\"clustering\" + 0.117*\"question\" + 0.074*\"cluster\" + 0.066*\"based\" + 0.027*\"answer\" + 0.025*\"dataset\" + 0.023*\"textual\" + 0.020*\"traditional\" + 0.020*\"current\" + 0.017*\"find\"'),\n",
       " (15,\n",
       "  '0.221*\"feature\" + 0.070*\"classification\" + 0.040*\"recognition\" + 0.036*\"speech\" + 0.026*\"classifier\" + 0.026*\"accuracy\" + 0.020*\"paper\" + 0.019*\"vector\" + 0.017*\"scene\" + 0.017*\"audio\"'),\n",
       " (16,\n",
       "  '0.120*\"research\" + 0.073*\"author\" + 0.057*\"scientific\" + 0.055*\"paper\" + 0.048*\"literature\" + 0.037*\"field\" + 0.034*\"citation\" + 0.034*\"researcher\" + 0.031*\"publication\" + 0.027*\"area\"'),\n",
       " (17,\n",
       "  '0.037*\"education\" + 0.036*\"idea\" + 0.033*\"university\" + 0.029*\"engineering\" + 0.024*\"strategy\" + 0.023*\"degree\" + 0.020*\"light\" + 0.019*\"technique\" + 0.018*\"goal\" + 0.017*\"security\"'),\n",
       " (18,\n",
       "  '0.114*\"learning\" + 0.090*\"student\" + 0.045*\"online\" + 0.038*\"discussion\" + 0.036*\"comment\" + 0.034*\"forum\" + 0.025*\"learner\" + 0.018*\"environment\" + 0.018*\"teacher\" + 0.018*\"skill\"'),\n",
       " (19,\n",
       "  '0.089*\"aspect\" + 0.066*\"paper\" + 0.044*\"modelling\" + 0.042*\"extraction\" + 0.031*\"work\" + 0.031*\"segmentation\" + 0.029*\"segment\" + 0.029*\"based\" + 0.026*\"expression\" + 0.024*\"method\"'),\n",
       " (20,\n",
       "  '0.089*\"study\" + 0.087*\"service\" + 0.059*\"quality\" + 0.050*\"purpose\" + 0.046*\"paper\" + 0.036*\"management\" + 0.031*\"methodology\" + 0.023*\"support\" + 0.021*\"research\" + 0.019*\"cost\"'),\n",
       " (21,\n",
       "  '0.102*\"classification\" + 0.093*\"learning\" + 0.075*\"data\" + 0.047*\"label\" + 0.041*\"training\" + 0.041*\"class\" + 0.036*\"domain\" + 0.036*\"machine\" + 0.032*\"approach\" + 0.024*\"supervised\"'),\n",
       " (22,\n",
       "  '0.473*\"method\" + 0.072*\"category\" + 0.039*\"proposed\" + 0.027*\"applied\" + 0.027*\"traditional\" + 0.025*\"finally\" + 0.020*\"kind\" + 0.015*\"statistical\" + 0.014*\"represent\" + 0.013*\"proposes\"'),\n",
       " (23,\n",
       "  '0.141*\"content\" + 0.080*\"provide\" + 0.053*\"resource\" + 0.034*\"automatically\" + 0.029*\"large\" + 0.028*\"contribution\" + 0.024*\"difficult\" + 0.024*\"describe\" + 0.023*\"relevant\" + 0.023*\"make\"'),\n",
       " (24,\n",
       "  '0.157*\"analysis\" + 0.063*\"science\" + 0.059*\"research\" + 0.030*\"practice\" + 0.027*\"study\" + 0.026*\"qualitative\" + 0.024*\"automated\" + 0.021*\"computational\" + 0.019*\"insight\" + 0.019*\"computer\"'),\n",
       " (25,\n",
       "  '0.136*\"topic\" + 0.115*\"event\" + 0.093*\"detection\" + 0.054*\"entity\" + 0.049*\"approach\" + 0.038*\"detect\" + 0.024*\"stream\" + 0.023*\"based\" + 0.023*\"evolution\" + 0.022*\"identifying\"'),\n",
       " (26,\n",
       "  '0.143*\"review\" + 0.082*\"product\" + 0.075*\"online\" + 0.044*\"customer\" + 0.037*\"consumer\" + 0.030*\"business\" + 0.026*\"market\" + 0.020*\"dimension\" + 0.018*\"mining\" + 0.017*\"framework\"'),\n",
       " (27,\n",
       "  '0.044*\"spatial\" + 0.041*\"urban\" + 0.038*\"region\" + 0.034*\"result\" + 0.034*\"location\" + 0.029*\"area\" + 0.026*\"city\" + 0.020*\"planning\" + 0.019*\"geographic\" + 0.018*\"type\"'),\n",
       " (28,\n",
       "  '0.090*\"pattern\" + 0.043*\"process\" + 0.042*\"decision\" + 0.033*\"tree\" + 0.033*\"construction\" + 0.029*\"statistical\" + 0.024*\"making\" + 0.023*\"variable\" + 0.022*\"assumption\" + 0.022*\"number\"'),\n",
       " (29,\n",
       "  '0.024*\"online\" + 0.023*\"information\" + 0.022*\"social\" + 0.019*\"effect\" + 0.017*\"network\" + 0.015*\"service\" + 0.015*\"design\" + 0.012*\"strategy\" + 0.012*\"management\" + 0.012*\"project\"'),\n",
       " (30,\n",
       "  '0.114*\"result\" + 0.101*\"proposed\" + 0.100*\"method\" + 0.075*\"experimental\" + 0.042*\"show\" + 0.041*\"paper\" + 0.037*\"extract\" + 0.034*\"keywords\" + 0.027*\"effectively\" + 0.024*\"propose\"'),\n",
       " (31,\n",
       "  '0.129*\"sentiment\" + 0.086*\"opinion\" + 0.060*\"analysis\" + 0.032*\"emotion\" + 0.031*\"study\" + 0.030*\"result\" + 0.028*\"negative\" + 0.024*\"positive\" + 0.020*\"large\" + 0.018*\"show\"'),\n",
       " (32,\n",
       "  '0.252*\"topic\" + 0.133*\"term\" + 0.033*\"based\" + 0.027*\"specific\" + 0.024*\"textual\" + 0.019*\"number\" + 0.019*\"determine\" + 0.016*\"compared\" + 0.015*\"automatically\" + 0.014*\"scheme\"'),\n",
       " (33,\n",
       "  '0.095*\"type\" + 0.061*\"role\" + 0.045*\"relationship\" + 0.035*\"influence\" + 0.034*\"state\" + 0.032*\"play\" + 0.025*\"year\" + 0.017*\"goal\" + 0.017*\"computational\" + 0.015*\"form\"'),\n",
       " (34,\n",
       "  '0.048*\"structure\" + 0.025*\"function\" + 0.024*\"reduction\" + 0.022*\"range\" + 0.021*\"rural\" + 0.018*\"dimensionality\" + 0.017*\"including\" + 0.016*\"general\" + 0.014*\"objective\" + 0.013*\"gene\"'),\n",
       " (35,\n",
       "  '0.091*\"news\" + 0.073*\"tweet\" + 0.047*\"twitter\" + 0.041*\"public\" + 0.037*\"content\" + 0.036*\"theme\" + 0.036*\"framework\" + 0.019*\"country\" + 0.017*\"coverage\" + 0.016*\"issue\"'),\n",
       " (36,\n",
       "  '0.171*\"problem\" + 0.058*\"propose\" + 0.045*\"multiple\" + 0.042*\"expert\" + 0.028*\"proposed\" + 0.020*\"show\" + 0.020*\"solve\" + 0.020*\"expertise\" + 0.019*\"work\" + 0.017*\"address\"'),\n",
       " (37,\n",
       "  '0.334*\"model\" + 0.072*\"topic\" + 0.034*\"process\" + 0.033*\"hierarchical\" + 0.028*\"structure\" + 0.021*\"mixture\" + 0.020*\"prior\" + 0.019*\"bayesian\" + 0.018*\"component\" + 0.016*\"introduce\"'),\n",
       " (38,\n",
       "  '0.198*\"network\" + 0.111*\"community\" + 0.051*\"link\" + 0.047*\"graph\" + 0.041*\"paper\" + 0.037*\"structure\" + 0.025*\"relationship\" + 0.021*\"framework\" + 0.016*\"discovery\" + 0.015*\"structural\"'),\n",
       " (39,\n",
       "  '0.062*\"communication\" + 0.059*\"message\" + 0.047*\"organization\" + 0.042*\"account\" + 0.037*\"number\" + 0.035*\"application\" + 0.032*\"conversation\" + 0.025*\"show\" + 0.023*\"audience\" + 0.022*\"increasing\"'),\n",
       " (40,\n",
       "  '0.106*\"approach\" + 0.074*\"task\" + 0.034*\"show\" + 0.033*\"present\" + 0.032*\"performance\" + 0.031*\"improvement\" + 0.030*\"automatic\" + 0.023*\"standard\" + 0.019*\"adaptation\" + 0.019*\"input\"'),\n",
       " (41,\n",
       "  '0.027*\"production\" + 0.024*\"movie\" + 0.024*\"travel\" + 0.019*\"interaction\" + 0.015*\"study\" + 0.014*\"implement\" + 0.013*\"operation\" + 0.013*\"basis\" + 0.011*\"tourist\" + 0.011*\"infant\"'),\n",
       " (42,\n",
       "  '0.048*\"digital\" + 0.045*\"tool\" + 0.034*\"library\" + 0.032*\"challenge\" + 0.030*\"project\" + 0.029*\"metadata\" + 0.023*\"record\" + 0.020*\"variety\" + 0.019*\"modeling\" + 0.017*\"form\"'),\n",
       " (43,\n",
       "  '0.090*\"representation\" + 0.053*\"performance\" + 0.052*\"show\" + 0.039*\"result\" + 0.027*\"combination\" + 0.026*\"experiment\" + 0.023*\"original\" + 0.022*\"sequence\" + 0.020*\"build\" + 0.020*\"proposed\"'),\n",
       " (44,\n",
       "  '0.176*\"semantic\" + 0.096*\"model\" + 0.081*\"concept\" + 0.045*\"relation\" + 0.026*\"general\" + 0.024*\"mapping\" + 0.022*\"semantics\" + 0.021*\"explicit\" + 0.020*\"representation\" + 0.018*\"ontology\"'),\n",
       " (45,\n",
       "  '0.330*\"document\" + 0.155*\"topic\" + 0.084*\"model\" + 0.073*\"collection\" + 0.019*\"retrieval\" + 0.016*\"distribution\" + 0.015*\"topical\" + 0.014*\"experiments\" + 0.012*\"modeling\" + 0.011*\"propose\"'),\n",
       " (46,\n",
       "  '0.122*\"article\" + 0.096*\"research\" + 0.065*\"journal\" + 0.058*\"study\" + 0.038*\"focus\" + 0.036*\"field\" + 0.027*\"year\" + 0.026*\"history\" + 0.026*\"published\" + 0.019*\"trend\"'),\n",
       " (47,\n",
       "  '0.634*\"topic\" + 0.035*\"discover\" + 0.032*\"distribution\" + 0.017*\"coherence\" + 0.014*\"learned\" + 0.014*\"discovering\" + 0.014*\"coherent\" + 0.012*\"understand\" + 0.012*\"discovered\" + 0.012*\"discovery\"'),\n",
       " (48,\n",
       "  '0.318*\"latent\" + 0.182*\"dirichlet\" + 0.166*\"allocation\" + 0.054*\"probabilistic\" + 0.044*\"distribution\" + 0.030*\"semantic\" + 0.022*\"probability\" + 0.016*\"indexing\" + 0.015*\"plsa\" + 0.013*\"hidden\"'),\n",
       " (49,\n",
       "  '0.152*\"topic\" + 0.138*\"knowledge\" + 0.106*\"modeling\" + 0.067*\"approach\" + 0.050*\"domain\" + 0.036*\"existing\" + 0.034*\"application\" + 0.025*\"limitation\" + 0.021*\"output\" + 0.020*\"external\"'),\n",
       " (50,\n",
       "  '0.081*\"technology\" + 0.040*\"development\" + 0.034*\"finding\" + 0.034*\"industry\" + 0.027*\"emerging\" + 0.025*\"identify\" + 0.024*\"diversity\" + 0.021*\"firm\" + 0.020*\"benefit\" + 0.020*\"potential\"'),\n",
       " (51,\n",
       "  '0.392*\"data\" + 0.050*\"analysis\" + 0.033*\"amount\" + 0.031*\"technique\" + 0.030*\"source\" + 0.025*\"large\" + 0.021*\"analyzing\" + 0.020*\"provide\" + 0.019*\"challenge\" + 0.017*\"unstructured\"'),\n",
       " (52,\n",
       "  '0.134*\"image\" + 0.045*\"database\" + 0.038*\"method\" + 0.036*\"face\" + 0.032*\"visual\" + 0.024*\"high\" + 0.023*\"level\" + 0.022*\"resolution\" + 0.020*\"feature\" + 0.019*\"dictionary\"'),\n",
       " (53,\n",
       "  '0.084*\"model\" + 0.071*\"prediction\" + 0.058*\"data\" + 0.055*\"rating\" + 0.040*\"based\" + 0.039*\"predict\" + 0.037*\"important\" + 0.027*\"make\" + 0.024*\"crime\" + 0.020*\"predicting\"'),\n",
       " (54,\n",
       "  '0.088*\"similarity\" + 0.068*\"measure\" + 0.063*\"similar\" + 0.053*\"test\" + 0.045*\"item\" + 0.045*\"based\" + 0.040*\"score\" + 0.018*\"experiment\" + 0.018*\"criterion\" + 0.017*\"addition\"'),\n",
       " (55,\n",
       "  '0.040*\"survey\" + 0.032*\"response\" + 0.030*\"international\" + 0.026*\"issue\" + 0.024*\"people\" + 0.023*\"central\" + 0.021*\"local\" + 0.020*\"view\" + 0.019*\"found\" + 0.018*\"government\"'),\n",
       " (56,\n",
       "  '0.065*\"modeling\" + 0.047*\"subject\" + 0.043*\"result\" + 0.038*\"analysis\" + 0.037*\"technique\" + 0.034*\"report\" + 0.033*\"alternative\" + 0.030*\"processing\" + 0.029*\"process\" + 0.026*\"approach\"'),\n",
       " (57,\n",
       "  '0.303*\"user\" + 0.096*\"recommendation\" + 0.068*\"interest\" + 0.025*\"item\" + 0.022*\"profile\" + 0.020*\"content\" + 0.020*\"information\" + 0.019*\"collaborative\" + 0.019*\"preference\" + 0.019*\"filtering\"'),\n",
       " (58,\n",
       "  '0.250*\"system\" + 0.049*\"based\" + 0.047*\"approach\" + 0.039*\"application\" + 0.036*\"process\" + 0.033*\"discussed\" + 0.032*\"software\" + 0.025*\"mobile\" + 0.024*\"include\" + 0.023*\"hybrid\"'),\n",
       " (59,\n",
       "  '0.201*\"algorithm\" + 0.038*\"datasets\" + 0.036*\"efficient\" + 0.032*\"inference\" + 0.026*\"paper\" + 0.023*\"efficiency\" + 0.023*\"present\" + 0.022*\"sampling\" + 0.022*\"procedure\" + 0.017*\"gibbs\"'),\n",
       " (60,\n",
       "  '0.085*\"group\" + 0.030*\"study\" + 0.023*\"woman\" + 0.021*\"physical\" + 0.019*\"evidence\" + 0.019*\"level\" + 0.019*\"population\" + 0.018*\"hypothesis\" + 0.017*\"common\" + 0.017*\"intervention\"'),\n",
       " (61,\n",
       "  '0.038*\"theory\" + 0.037*\"discourse\" + 0.027*\"political\" + 0.020*\"cultural\" + 0.019*\"frame\" + 0.019*\"actor\" + 0.018*\"attention\" + 0.018*\"public\" + 0.015*\"period\" + 0.015*\"broader\"'),\n",
       " (62,\n",
       "  '0.081*\"analysis\" + 0.052*\"patent\" + 0.047*\"study\" + 0.046*\"case\" + 0.034*\"approach\" + 0.029*\"area\" + 0.028*\"company\" + 0.027*\"analyze\" + 0.027*\"elsevier\" + 0.026*\"technique\"'),\n",
       " (63,\n",
       "  '0.197*\"time\" + 0.078*\"dynamic\" + 0.055*\"temporal\" + 0.036*\"high\" + 0.027*\"period\" + 0.023*\"series\" + 0.020*\"paper\" + 0.018*\"offer\" + 0.016*\"called\" + 0.016*\"finding\"'),\n",
       " (64,\n",
       "  '0.312*\"social\" + 0.132*\"medium\" + 0.047*\"twitter\" + 0.028*\"platform\" + 0.021*\"people\" + 0.016*\"site\" + 0.016*\"identify\" + 0.015*\"potential\" + 0.013*\"content\" + 0.013*\"share\"')]"
      ]
     },
     "execution_count": 101,
     "metadata": {},
     "output_type": "execute_result"
    }
   ],
   "source": [
    "lda_model_mallet_65.show_topics(65)"
   ]
  },
  {
   "cell_type": "markdown",
   "metadata": {},
   "source": [
    "# Next, in another Notebook, process the output of these models"
   ]
  }
 ],
 "metadata": {
  "kernelspec": {
   "display_name": "Python 3",
   "language": "python",
   "name": "python3"
  },
  "language_info": {
   "codemirror_mode": {
    "name": "ipython",
    "version": 3
   },
   "file_extension": ".py",
   "mimetype": "text/x-python",
   "name": "python",
   "nbconvert_exporter": "python",
   "pygments_lexer": "ipython3",
   "version": "3.6.6"
  }
 },
 "nbformat": 4,
 "nbformat_minor": 2
}
